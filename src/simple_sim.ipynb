{
 "cells": [
  {
   "cell_type": "code",
   "execution_count": 1,
   "id": "10d8f778",
   "metadata": {},
   "outputs": [
    {
     "name": "stderr",
     "output_type": "stream",
     "text": [
      "\u001b[32m\u001b[1m  Activating\u001b[22m\u001b[39m environment at `~/.julia/dev/MCTrajOpt/Project.toml`\n"
     ]
    }
   ],
   "source": [
    "using Pkg; Pkg.activate(joinpath(@__DIR__,\"..\")); Pkg.instantiate();"
   ]
  },
  {
   "cell_type": "code",
   "execution_count": 42,
   "id": "5eedbada",
   "metadata": {},
   "outputs": [],
   "source": [
    "using LinearAlgebra\n",
    "using ForwardDiff\n",
    "using Test\n",
    "using Random\n",
    "using StaticArrays"
   ]
  },
  {
   "cell_type": "code",
   "execution_count": 3,
   "id": "55d70f1c",
   "metadata": {},
   "outputs": [
    {
     "data": {
      "text/plain": [
       "mass_matrix (generic function with 1 method)"
      ]
     },
     "execution_count": 3,
     "metadata": {},
     "output_type": "execute_result"
    }
   ],
   "source": [
    "struct RigidBody\n",
    "    mass::Float64\n",
    "    J::Matrix{Float64}\n",
    "end\n",
    "body = RigidBody(1.0, Diagonal([0.1, 1.0, 1.0]))\n",
    "mass_matrix(body) = [\n",
    "    body.mass 0 0 0 0 0\n",
    "    0 body.mass 0 0 0 0\n",
    "    0 0 body.mass 0 0 0\n",
    "    0 0 0 body.J[1,1] body.J[1,2] body.J[1,3]\n",
    "    0 0 0 body.J[2,1] body.J[2,2] body.J[2,3]\n",
    "    0 0 0 body.J[3,1] body.J[3,2] body.J[3,3]\n",
    "]"
   ]
  },
  {
   "cell_type": "code",
   "execution_count": 4,
   "id": "8bc36b5c",
   "metadata": {},
   "outputs": [
    {
     "data": {
      "text/plain": [
       "SimParams(0.05, 5.0, [0.0, 0.05, 0.1, 0.15, 0.2, 0.25, 0.3, 0.35, 0.4, 0.45  …  4.55, 4.6, 4.65, 4.7, 4.75, 4.8, 4.85, 4.9, 4.95, 5.0], 101)"
      ]
     },
     "execution_count": 4,
     "metadata": {},
     "output_type": "execute_result"
    }
   ],
   "source": [
    "mutable struct SimParams\n",
    "    h::Float64  # 20 Hz\n",
    "    Tf::Float64 # final time (sec)\n",
    "    Thist::Vector{Float64}\n",
    "    N::Int\n",
    "    function SimParams(h = 0.05, Tf = 5.0)\n",
    "        Thist = 0:h:Tf\n",
    "        new(h, Tf, Thist, length(Thist))\n",
    "    end\n",
    "end\n",
    "params = SimParams()"
   ]
  },
  {
   "cell_type": "code",
   "execution_count": 37,
   "id": "7c2e47ad",
   "metadata": {},
   "outputs": [
    {
     "data": {
      "text/plain": [
       "4×4 Diagonal{Float64, Vector{Float64}}:\n",
       " 1.0    ⋅     ⋅     ⋅ \n",
       "  ⋅   -1.0    ⋅     ⋅ \n",
       "  ⋅     ⋅   -1.0    ⋅ \n",
       "  ⋅     ⋅     ⋅   -1.0"
      ]
     },
     "execution_count": 37,
     "metadata": {},
     "output_type": "execute_result"
    }
   ],
   "source": [
    "Tmat"
   ]
  },
  {
   "cell_type": "code",
   "execution_count": 14,
   "id": "5523fe5a",
   "metadata": {},
   "outputs": [
    {
     "data": {
      "text/plain": [
       "D2_Kinv (generic function with 1 method)"
      ]
     },
     "execution_count": 14,
     "metadata": {},
     "output_type": "execute_result"
    }
   ],
   "source": [
    "function hat(ω)\n",
    "    return [0 -ω[3] ω[2];\n",
    "            ω[3] 0 -ω[1];\n",
    "            -ω[2] ω[1] 0]\n",
    "end\n",
    "\n",
    "function L(Q)\n",
    "    [Q[1] -Q[2:4]'; Q[2:4] Q[1]*I + hat(Q[2:4])]\n",
    "end\n",
    "\n",
    "function R(Q)\n",
    "    [Q[1] -Q[2:4]'; Q[2:4] Q[1]*I - hat(Q[2:4])]\n",
    "end\n",
    "\n",
    "Hmat = [zeros(1,3); I];\n",
    "\n",
    "Tmat = Diagonal([1.0; -1; -1; -1])\n",
    "\n",
    "function G(Q)\n",
    "    return L(Q)*Hmat\n",
    "end\n",
    "\n",
    "function Ḡ(q)\n",
    "    Q1 = q[4:7]\n",
    "    Q2 = q[11:14]\n",
    "    \n",
    "    return [I zeros(3,9); zeros(4,3) G(Q1) zeros(4,6); zeros(3,6) I zeros(3,3); zeros(4,9) G(Q2)]\n",
    "end\n",
    "\n",
    "function compose_states(x1,x2)\n",
    "    x3 = x1 + x2\n",
    "    x3[4:7] = L(x1[4:7]) * x2[4:7]\n",
    "    return x3\n",
    "end\n",
    "\n",
    "function errstate_jacobian(x)\n",
    "    q = x[4:7]\n",
    "    G = zeros(eltype(x),7,6)\n",
    "    G[1:3,1:3] .= I(3)\n",
    "    G[4:7,4:6] .= L(q)*Hmat\n",
    "    return G\n",
    "end\n",
    "\n",
    "function kinematics(x,ν)\n",
    "    r = x[1:3]\n",
    "    q = x[4:7]\n",
    "    v = ν[1:3]\n",
    "    ω = ν[4:6]\n",
    "    rdot = v\n",
    "    qdot = 0.5 * L(q) * Hmat * ω\n",
    "    return [rdot; qdot]\n",
    "end\n",
    "\n",
    "function D1K(x,ν)\n",
    "    T_ = promote_type(eltype(x),eltype(ν))\n",
    "    ω = ν[4:6]\n",
    "    G = zeros(T_,7,7)\n",
    "    G[4:7,4:7] .= R(Hmat*ω) / 2\n",
    "    return G\n",
    "end\n",
    "\n",
    "function D2K(x,ν)\n",
    "    T_ = promote_type(eltype(x),eltype(ν))\n",
    "    G = zeros(T_,7,6)\n",
    "    q = x[4:7]\n",
    "    G[1:3,1:3] .= I(3)\n",
    "    G[4:7,4:6] .= L(q) * Hmat / 2\n",
    "    return G\n",
    "end\n",
    "\n",
    "function inv_kinematics(x,xdot)\n",
    "    r = x[1:3]\n",
    "    q = x[4:7]\n",
    "    rdot = xdot[1:3]\n",
    "    qdot = xdot[4:7]\n",
    "    v = rdot\n",
    "    ω = 2Hmat'*L(q)'qdot\n",
    "    return [v; ω]\n",
    "end\n",
    "\n",
    "function D1_Kinv(x,xdot)\n",
    "    T_ = promote_type(eltype(x),eltype(xdot))\n",
    "    J = zeros(T_,6,7)\n",
    "    qdot = xdot[4:7]\n",
    "    J[4:6,4:7] = 2Hmat'R(qdot)*Tmat\n",
    "    return J\n",
    "end\n",
    "\n",
    "function D2_Kinv(x,xdot)\n",
    "    T_ = promote_type(eltype(x),eltype(xdot))\n",
    "    J = zeros(T_,6,7)\n",
    "    q = x[4:7]\n",
    "    J[1:3,1:3] = I(3)\n",
    "    J[4:6,4:7] = 2Hmat'L(q)'\n",
    "    return J\n",
    "end"
   ]
  },
  {
   "cell_type": "code",
   "execution_count": 15,
   "id": "5df08dde",
   "metadata": {},
   "outputs": [
    {
     "data": {
      "text/plain": [
       "D2L_dot (generic function with 1 method)"
      ]
     },
     "execution_count": 15,
     "metadata": {},
     "output_type": "execute_result"
    }
   ],
   "source": [
    "function Lagrangian_vel(body,x,ν)\n",
    "    r = x[1:3]\n",
    "    q = x[4:7]\n",
    "    M = mass_matrix(body)\n",
    "    T = 1/2 * ν'M*ν\n",
    "    U = 0.0\n",
    "    return T - U\n",
    "end\n",
    "function Lagrangian_dot(body,x,xdot)\n",
    "    ν = inv_kinematics(x, xdot)\n",
    "    Lagrangian_vel(body, x, ν)\n",
    "end\n",
    "\n",
    "D1L_vel(body,x,ν) = zeros(7)\n",
    "D2L_vel(body,x,ν) = mass_matrix(body) * ν\n",
    "\n",
    "D1L_dot(body,x,xdot) = D1L_vel(body,x,inv_kinematics(x,xdot)) + D1_Kinv(x,xdot)'D2L_vel(body,x,inv_kinematics(x,xdot))\n",
    "D2L_dot(body,x,xdot) = D2_Kinv(x,xdot)'D2L_vel(body,x,inv_kinematics(x,xdot))"
   ]
  },
  {
   "cell_type": "code",
   "execution_count": 16,
   "id": "0ad1ec20",
   "metadata": {},
   "outputs": [
    {
     "data": {
      "text/plain": [
       "D4Ld_vel (generic function with 1 method)"
      ]
     },
     "execution_count": 16,
     "metadata": {},
     "output_type": "execute_result"
    }
   ],
   "source": [
    "function Ld(body,x1,x2,h)\n",
    "    h * Lagrangian_dot(body, (x1+x2)/2, (x2-x1)/h)\n",
    "end\n",
    "\n",
    "function D1Ld(body,x1,x2,h)\n",
    "    xmid = (x1 + x2)/2\n",
    "    ẋmid = (x2 - x1)/h\n",
    "    h/2 * D1L_dot(body,xmid,ẋmid) - D2L_dot(body,xmid,ẋmid)\n",
    "end\n",
    "\n",
    "function D2Ld(body,x1,x2,h)\n",
    "    xmid = (x1 + x2)/2\n",
    "    ẋmid = (x2 - x1)/h\n",
    "    h/2 * D1L_dot(body,xmid,ẋmid) + D2L_dot(body,xmid,ẋmid)\n",
    "end\n",
    "\n",
    "# Discrete Lagrangian w/ velocities\n",
    "function Ld_vel(body,x1,x2,ν1,ν2,h)\n",
    "    h * Lagrangian_vel(body, (x1+x2)/2, (ν1+ν2)/2)\n",
    "end\n",
    "\n",
    "function D1Ld_vel(body,x1,x2,ν1,ν2,h)\n",
    "    xmid = (x1+x2)/2\n",
    "    νmid = (ν1+ν2)/2\n",
    "    h/2 * D1L_vel(body,xmid,νmid)\n",
    "end\n",
    "D2Ld_vel(body,x1,x2,ν1,ν2,h) = D1Ld_vel(body,x1,x2,ν1,ν2,h)\n",
    "\n",
    "function D3Ld_vel(body,x1,x2,ν1,ν2,h)\n",
    "    xmid = (x1+x2)/2\n",
    "    νmid = (ν1+ν2)/2\n",
    "    h/2 * D2L_vel(body,xmid,νmid)\n",
    "end\n",
    "D4Ld_vel(body,x1,x2,ν1,ν2,h) = D3Ld_vel(body,x1,x2,ν1,ν2,h)"
   ]
  },
  {
   "cell_type": "code",
   "execution_count": 17,
   "id": "73ac0acd",
   "metadata": {},
   "outputs": [
    {
     "data": {
      "text/plain": [
       "\u001b[32m\u001b[1mTest Passed\u001b[22m\u001b[39m"
      ]
     },
     "execution_count": 17,
     "metadata": {},
     "output_type": "execute_result"
    }
   ],
   "source": [
    "r0 = randn(3)\n",
    "q0 = normalize(randn(4))\n",
    "x0 = [r0; q0]\n",
    "ν0 = randn(6)\n",
    "ẋ0 = kinematics(x0,ν0)\n",
    "\n",
    "# Make sure the kinematics work\n",
    "@test inv_kinematics(x0,ẋ0) ≈ ν0\n",
    "@test kinematics(x0,ν0) ≈ ẋ0\n",
    "\n",
    "@test ForwardDiff.jacobian(x->inv_kinematics(x,ẋ0), x0) ≈ D1_Kinv(x0,ẋ0)\n",
    "@test ForwardDiff.jacobian(xdot->inv_kinematics(x0,xdot), ẋ0) ≈ D2_Kinv(x0,ẋ0)"
   ]
  },
  {
   "cell_type": "code",
   "execution_count": 18,
   "id": "0e2ec26a",
   "metadata": {},
   "outputs": [
    {
     "data": {
      "text/plain": [
       "\u001b[32m\u001b[1mTest Passed\u001b[22m\u001b[39m"
      ]
     },
     "execution_count": 18,
     "metadata": {},
     "output_type": "execute_result"
    }
   ],
   "source": [
    "# Test the Lagrangian Derivatives\n",
    "@test D1L_vel(body,x0,ν0) ≈ ForwardDiff.gradient(x->Lagrangian_vel(body,x,ν0), x0)\n",
    "@test D2L_vel(body,x0,ν0) ≈ ForwardDiff.gradient(ν->Lagrangian_vel(body,x0,ν), ν0)\n",
    "\n",
    "@test D1L_dot(body,x0,ẋ0) ≈ ForwardDiff.gradient(x->Lagrangian_dot(body,x,ẋ0),x0)\n",
    "@test D2L_dot(body,x0,ẋ0) ≈ ForwardDiff.gradient(xdot->Lagrangian_dot(body,x0,xdot),ẋ0)"
   ]
  },
  {
   "cell_type": "code",
   "execution_count": 19,
   "id": "f0553eaf",
   "metadata": {},
   "outputs": [
    {
     "data": {
      "text/plain": [
       "\u001b[32m\u001b[1mTest Passed\u001b[22m\u001b[39m"
      ]
     },
     "execution_count": 19,
     "metadata": {},
     "output_type": "execute_result"
    }
   ],
   "source": [
    "# Test the discrete Lagrangian Derivatives\n",
    "x1 = copy(x0)\n",
    "x2 = [randn(3); normalize(randn(4))]\n",
    "@test D1Ld(body,x1,x2,params.h) ≈ ForwardDiff.gradient(x->Ld(body,x,x2,params.h), x1)\n",
    "@test D2Ld(body,x1,x2,params.h) ≈ ForwardDiff.gradient(x->Ld(body,x1,x,params.h), x2)"
   ]
  },
  {
   "cell_type": "code",
   "execution_count": 20,
   "id": "491098b1",
   "metadata": {},
   "outputs": [
    {
     "data": {
      "text/plain": [
       "\u001b[32m\u001b[1mTest Passed\u001b[22m\u001b[39m"
      ]
     },
     "execution_count": 20,
     "metadata": {},
     "output_type": "execute_result"
    }
   ],
   "source": [
    "# Test discrete Lagrangian derivative w/ velocities\n",
    "ν1 = copy(ν0)\n",
    "ν2 = randn(6)\n",
    "@test D1Ld_vel(body,x1,x2,ν1,ν2,params.h) ≈ ForwardDiff.gradient(x->Ld_vel(body,x,x2,ν1,ν2,params.h),x1)\n",
    "@test D2Ld_vel(body,x1,x2,ν1,ν2,params.h) ≈ ForwardDiff.gradient(x->Ld_vel(body,x1,x,ν1,ν2,params.h),x2)\n",
    "@test D3Ld_vel(body,x1,x2,ν1,ν2,params.h) ≈ ForwardDiff.gradient(v->Ld_vel(body,x1,x2,v,ν2,params.h),ν1)\n",
    "@test D4Ld_vel(body,x1,x2,ν1,ν2,params.h) ≈ ForwardDiff.gradient(v->Ld_vel(body,x1,x2,ν1,v,params.h),ν2)"
   ]
  },
  {
   "cell_type": "code",
   "execution_count": 21,
   "id": "e925dfa5",
   "metadata": {},
   "outputs": [
    {
     "data": {
      "text/plain": [
       "D3_DEL (generic function with 2 methods)"
      ]
     },
     "execution_count": 21,
     "metadata": {},
     "output_type": "execute_result"
    }
   ],
   "source": [
    "function DEL(body,x1,x2,x3,F1,F2,h)\n",
    "    errstate_jacobian(x2)' * (D2Ld(body,x1,x2,h) + D1Ld(body,x2,x3,h)) + h*(F1+F2)/2\n",
    "end\n",
    "\n",
    "function D3_DEL(body,x1,x2,x3,F1,F2,h)\n",
    "    ForwardDiff.jacobian(x->DEL(body,x1,x2,x,F1,F2,h),x3) * errstate_jacobian(x3)\n",
    "end\n",
    "\n",
    "function DEL_x(body,x1,x2,x3,ν1,ν2,ν3,p1,p2,F1,F2,h)\n",
    "    xmid1 = (x1+x2)/2\n",
    "    νmid1 = (ν1+ν2)/2\n",
    "    xmid2 = (x3+x2)/2\n",
    "    νmid2 = (ν3+ν2)/2\n",
    "    \n",
    "    errstate_jacobian(x2)' * (D2Ld_vel(body,x1,x2,ν1,ν2,h) + D1Ld_vel(body,x2,x3,ν2,ν3,h) + \n",
    "         ((I-D1K(xmid1,νmid1))'p1 + (-I-D1K(xmid2,νmid2))'p2) / 2)\n",
    "end\n",
    "\n",
    "function DEL_ν(body,x1,x2,x3,ν1,ν2,ν3,p1,p2,F1,F2,h)\n",
    "    xmid1 = (x1+x2)/2\n",
    "    νmid1 = (ν1+ν2)/2\n",
    "    xmid2 = (x3+x2)/2\n",
    "    νmid2 = (ν3+ν2)/2\n",
    "    \n",
    "    D4Ld_vel(body,x1,x2,ν1,ν2,h) + D3Ld_vel(body,x2,x3,ν2,ν3,h) - \n",
    "        (D2K(xmid1,νmid1)'p1 + D2K(xmid2,νmid2)'p2) / 2\n",
    "end\n",
    "\n",
    "function DEL_c(body,x1,x2,x3,ν1,ν2,ν3,p1,p2,F1,F2,h)\n",
    "    xmid1 = (x1+x2)/2\n",
    "    νmid1 = (ν1+ν2)/2\n",
    "    xmid2 = (x3+x2)/2\n",
    "    νmid2 = (ν3+ν2)/2\n",
    "    \n",
    "    c1 = (x2-x1) / h - kinematics(xmid1,νmid1)\n",
    "    c2 = (x3-x2) / h - kinematics(xmid2,νmid2)\n",
    "    return [c1; c2]\n",
    "end\n",
    "\n",
    "function D3_DEL(body,x1,x2,x3,ν1,ν2,ν3,p1,p2,F1,F2,h)\n",
    "    f(z) = begin\n",
    "        x3 = z[1:7]\n",
    "        ν3 = z[7 .+ (1:6)]\n",
    "        p1 = z[13 .+ (1:7)]\n",
    "        p2 = z[20 .+ (1:7)]\n",
    "        [\n",
    "            DEL_x(body,x1,x2,x3,ν1,ν2,ν3,p1,p2,F1,F2,h);\n",
    "            DEL_ν(body,x1,x2,x3,ν1,ν2,ν3,p1,p2,F1,F2,h);\n",
    "            DEL_c(body,x1,x2,x3,ν1,ν2,ν3,p1,p2,F1,F2,h);\n",
    "        ]\n",
    "    end\n",
    "    err_jac = zeros(27,26)\n",
    "    err_jac[1:7,1:6] = errstate_jacobian(x3)\n",
    "    for i = 8:27\n",
    "        err_jac[i,i-1] = 1.0\n",
    "    end\n",
    "    ForwardDiff.jacobian(f,[x3;ν3;p1;p2]) * err_jac\n",
    "end"
   ]
  },
  {
   "cell_type": "code",
   "execution_count": 22,
   "id": "05702ba2",
   "metadata": {},
   "outputs": [
    {
     "data": {
      "text/plain": [
       "6×6 Matrix{Float64}:\n",
       " -20.0    0.0    0.0   0.0          0.0         0.0\n",
       "   0.0  -20.0    0.0   0.0          0.0         0.0\n",
       "   0.0    0.0  -20.0   0.0          0.0         0.0\n",
       "   0.0    0.0    0.0  -0.024732     0.784869    0.212462\n",
       "   0.0    0.0    0.0  -0.0294916   20.6866    -74.0167\n",
       "   0.0    0.0    0.0  -0.812582   -72.501     -13.3236"
      ]
     },
     "execution_count": 22,
     "metadata": {},
     "output_type": "execute_result"
    }
   ],
   "source": [
    "F1 = [0,0,0, 0,0,1.0]\n",
    "F2 = [0,0,0, 0,0,1.0]\n",
    "\n",
    "DEL(body,x0,x1,x2,F1,F2,params.h)\n",
    "D3_DEL(body,x0,x1,x2,F1,F2,params.h)"
   ]
  },
  {
   "cell_type": "code",
   "execution_count": 23,
   "id": "36144e89",
   "metadata": {},
   "outputs": [
    {
     "data": {
      "text/plain": [
       "7×6 Matrix{Float64}:\n",
       " 1.0  0.0  0.0   0.0          0.0          0.0\n",
       " 0.0  1.0  0.0   0.0          0.0          0.0\n",
       " 0.0  0.0  1.0   0.0          0.0          0.0\n",
       " 0.0  0.0  0.0   0.253059    -0.0708312   -0.00227105\n",
       " 0.0  0.0  0.0   0.425369    -0.00227105   0.0708312\n",
       " 0.0  0.0  0.0   0.00227105   0.425369     0.253059\n",
       " 0.0  0.0  0.0  -0.0708312   -0.253059     0.425369"
      ]
     },
     "execution_count": 23,
     "metadata": {},
     "output_type": "execute_result"
    }
   ],
   "source": [
    "D2K(x1,ν1)"
   ]
  },
  {
   "cell_type": "code",
   "execution_count": 24,
   "id": "b5aa5fd9",
   "metadata": {},
   "outputs": [
    {
     "data": {
      "text/plain": [
       "26×26 Matrix{Float64}:\n",
       "  0.0   0.0   0.0    0.0       …   0.0         0.0         0.0\n",
       "  0.0   0.0   0.0    0.0           0.0         0.0         0.0\n",
       "  0.0   0.0   0.0    0.0           0.0         0.0         0.0\n",
       "  0.0   0.0   0.0    0.0          -0.456173   -0.0943464  -0.074006\n",
       "  0.0   0.0   0.0    0.0          -0.0785804  -0.394505    0.263255\n",
       "  0.0   0.0   0.0    0.0       …   0.0807937  -0.263541   -0.443931\n",
       "  0.0   0.0   0.0    0.0           0.0         0.0         0.0\n",
       "  0.0   0.0   0.0    0.0           0.0         0.0         0.0\n",
       "  0.0   0.0   0.0    0.0           0.0         0.0         0.0\n",
       "  0.0   0.0   0.0    0.0          -0.0879891   0.115632    0.059966\n",
       "  0.0   0.0   0.0    0.0       …  -0.115632   -0.0879891   0.0630149\n",
       "  0.0   0.0   0.0    0.0          -0.059966   -0.0630149  -0.0879891\n",
       "  0.0   0.0   0.0    0.0           0.0         0.0         0.0\n",
       "  0.0   0.0   0.0    0.0           0.0         0.0         0.0\n",
       "  0.0   0.0   0.0    0.0           0.0         0.0         0.0\n",
       "  0.0   0.0   0.0    0.0       …   0.0         0.0         0.0\n",
       "  0.0   0.0   0.0    0.0           0.0         0.0         0.0\n",
       "  0.0   0.0   0.0    0.0           0.0         0.0         0.0\n",
       "  0.0   0.0   0.0    0.0           0.0         0.0         0.0\n",
       " 20.0   0.0   0.0    0.0           0.0         0.0         0.0\n",
       "  0.0  20.0   0.0    0.0       …   0.0         0.0         0.0\n",
       "  0.0   0.0  20.0    0.0           0.0         0.0         0.0\n",
       "  0.0   0.0   0.0   -0.201503      0.0         0.0         0.0\n",
       "  0.0   0.0   0.0   -3.00152       0.0         0.0         0.0\n",
       "  0.0   0.0   0.0  -18.5865        0.0         0.0         0.0\n",
       "  0.0   0.0   0.0   -6.74703   …   0.0         0.0         0.0"
      ]
     },
     "execution_count": 24,
     "metadata": {},
     "output_type": "execute_result"
    }
   ],
   "source": [
    "p1 = zeros(7)\n",
    "p2 = zeros(7)\n",
    "DEL_x(body,x0,x1,x2,ν0,ν1,ν2,p1,p2,F1,F2,params.h)\n",
    "DEL_ν(body,x0,x1,x2,ν0,ν1,ν2,p1,p2,F1,F2,params.h)\n",
    "DEL_c(body,x0,x1,x2,ν0,ν1,ν2,p1,p2,F1,F2,params.h)\n",
    "[x2;ν2;p2;p2]\n",
    "H = D3_DEL(body,x0,x1,x2,ν0,ν1,ν2,p1,p2,F1,F2,params.h)"
   ]
  },
  {
   "cell_type": "code",
   "execution_count": 45,
   "id": "be87322c",
   "metadata": {},
   "outputs": [
    {
     "data": {
      "text/plain": [
       "6-element Vector{Float64}:\n",
       "   5.945759690709232\n",
       "   7.647919355812156\n",
       " -11.927689534564621\n",
       "   0.0\n",
       "   0.0\n",
       "   0.05"
      ]
     },
     "execution_count": 45,
     "metadata": {},
     "output_type": "execute_result"
    }
   ],
   "source": [
    "Random.seed!(1)\n",
    "x0 = [@SVector randn(3); normalize(@SVector randn(4))]\n",
    "F = [[0,0,0.5*(t<0.5), 0,0,1.0* (t<.5)] for t in params.Thist]\n",
    "X = [zero(x0) for k = 1:params.N]\n",
    "X[1] = x0\n",
    "X[2] = x0\n",
    "DEL(body, X[1], X[2], X[3], F[1], F[2], params.h)"
   ]
  },
  {
   "cell_type": "code",
   "execution_count": 47,
   "id": "b4fae572",
   "metadata": {},
   "outputs": [
    {
     "data": {
      "text/plain": [
       "6×6 Matrix{Float64}:\n",
       " -20.0    0.0    0.0  0.0  0.0  0.0\n",
       "   0.0  -20.0    0.0  0.0  0.0  0.0\n",
       "   0.0    0.0  -20.0  0.0  0.0  0.0\n",
       "   0.0    0.0    0.0  0.0  0.0  0.0\n",
       "   0.0    0.0    0.0  0.0  0.0  0.0\n",
       "   0.0    0.0    0.0  0.0  0.0  0.0"
      ]
     },
     "execution_count": 47,
     "metadata": {},
     "output_type": "execute_result"
    }
   ],
   "source": [
    "D3_DEL(body, X[1], X[2], X[3], F[1], F[2], params.h)"
   ]
  },
  {
   "cell_type": "code",
   "execution_count": 48,
   "id": "f9a3dbdf",
   "metadata": {},
   "outputs": [
    {
     "data": {
      "text/plain": [
       "simulate (generic function with 1 method)"
      ]
     },
     "execution_count": 48,
     "metadata": {},
     "output_type": "execute_result"
    }
   ],
   "source": [
    "function simulate(body,params,F,x0; newton_iters=20, tol=1e-12)\n",
    "\n",
    "    X = [zeros(7) for k = 1:params.N]\n",
    "    X[1] = x0\n",
    "    X[2] = x0\n",
    "    for k = 2:params.N-1\n",
    "        h = params.h\n",
    "\n",
    "        # Initial guess\n",
    "        X[k+1] .= X[k]\n",
    "\n",
    "        for i = 1:newton_iters\n",
    "            e = DEL(body,X[k-1],X[k],X[k+1],F[k-1],F[k],h)\n",
    "            if norm(e,Inf) < tol\n",
    "#                 println(\"Step $k took $i Newton steps\")\n",
    "                break\n",
    "            end\n",
    "            H = D3_DEL(body, X[k-1], X[k], X[k+1], F1,F2, h)\n",
    "            \n",
    "            Δx = -(H\\e)\n",
    "            ϕ = Δx[4:6]  # delta rotation\n",
    "            Δr = Δx[1:3]\n",
    "            Δq = [sqrt(1-ϕ'ϕ); ϕ]\n",
    "            X[k+1] = compose_states(X[k+1], [Δr; Δq])\n",
    "            \n",
    "            if i == newton_iters\n",
    "                @warn \"Newton failed to converge with $i iterations at timestep $k\"\n",
    "            end\n",
    "        end\n",
    "\n",
    "    end\n",
    "    return X\n",
    "end"
   ]
  },
  {
   "cell_type": "code",
   "execution_count": 49,
   "id": "a6750a33",
   "metadata": {},
   "outputs": [],
   "source": [
    "F = [[0,0,0.5*(t<0.5), 0,0,1.0* (t<.5)] for t in params.Thist]  # force in the world frame, torque in body frame?\n",
    "x0 = [0,0,0, sqrt(2)/2, sqrt(2)/2, 0,0]\n",
    "\n",
    "X = simulate(body,params,F,x0);"
   ]
  },
  {
   "cell_type": "code",
   "execution_count": 54,
   "id": "68b3e17d",
   "metadata": {},
   "outputs": [
    {
     "data": {
      "text/plain": [
       "6×6 Matrix{Float64}:\n",
       " -20.0    0.0    0.0   0.0    0.0    0.0\n",
       "   0.0  -20.0    0.0   0.0    0.0    0.0\n",
       "   0.0    0.0  -20.0   0.0    0.0    0.0\n",
       "   0.0    0.0    0.0  -8.0    0.0    0.0\n",
       "   0.0    0.0    0.0   0.0  -80.0    0.0\n",
       "   0.0    0.0    0.0   0.0    0.0  -80.0"
      ]
     },
     "execution_count": 54,
     "metadata": {},
     "output_type": "execute_result"
    }
   ],
   "source": [
    "F = [SA[0,0,0.5*(0.1<t<0.5), 0,0,1.0* (0.1<t<.5)] for t in params.Thist]  # force in the world frame, torque in body frame?\n",
    "x0 = SA[0,0,0, sqrt(2)/2, sqrt(2)/2, 0,0]\n",
    "X = [zero(x0) for k = 1:params.N]\n",
    "X[1] = x0\n",
    "X[2] = x0\n",
    "X[3] = x0\n",
    "e = DEL(body, X[1], X[2], X[3], F[1], F[2], params.h)\n",
    "H = D3_DEL(body, X[1], X[2], X[3], F[1], F[2], params.h)"
   ]
  },
  {
   "cell_type": "code",
   "execution_count": 51,
   "id": "ccdad65d",
   "metadata": {},
   "outputs": [],
   "source": [
    "Xdot = diff(X) ./ params.h\n",
    "V = [inv_kinematics(X[k],Xdot[k]) for k = 1:length(Xdot)];"
   ]
  },
  {
   "cell_type": "code",
   "execution_count": 52,
   "id": "8faea54a",
   "metadata": {},
   "outputs": [
    {
     "data": {
      "image/svg+xml": [
       "<?xml version=\"1.0\" encoding=\"utf-8\"?>\n",
       "<svg xmlns=\"http://www.w3.org/2000/svg\" xmlns:xlink=\"http://www.w3.org/1999/xlink\" width=\"600\" height=\"400\" viewBox=\"0 0 2400 1600\">\n",
       "<defs>\n",
       "  <clipPath id=\"clip510\">\n",
       "    <rect x=\"0\" y=\"0\" width=\"2400\" height=\"1600\"/>\n",
       "  </clipPath>\n",
       "</defs>\n",
       "<path clip-path=\"url(#clip510)\" d=\"\n",
       "M0 1600 L2400 1600 L2400 0 L0 0  Z\n",
       "  \" fill=\"#ffffff\" fill-rule=\"evenodd\" fill-opacity=\"1\"/>\n",
       "<defs>\n",
       "  <clipPath id=\"clip511\">\n",
       "    <rect x=\"480\" y=\"0\" width=\"1681\" height=\"1600\"/>\n",
       "  </clipPath>\n",
       "</defs>\n",
       "<path clip-path=\"url(#clip510)\" d=\"\n",
       "M186.274 1486.45 L2352.76 1486.45 L2352.76 47.2441 L186.274 47.2441  Z\n",
       "  \" fill=\"#ffffff\" fill-rule=\"evenodd\" fill-opacity=\"1\"/>\n",
       "<defs>\n",
       "  <clipPath id=\"clip512\">\n",
       "    <rect x=\"186\" y=\"47\" width=\"2167\" height=\"1440\"/>\n",
       "  </clipPath>\n",
       "</defs>\n",
       "<polyline clip-path=\"url(#clip512)\" style=\"stroke:#000000; stroke-linecap:butt; stroke-linejoin:round; stroke-width:2; stroke-opacity:0.1; fill:none\" points=\"\n",
       "  247.59,1486.45 247.59,47.2441 \n",
       "  \"/>\n",
       "<polyline clip-path=\"url(#clip512)\" style=\"stroke:#000000; stroke-linecap:butt; stroke-linejoin:round; stroke-width:2; stroke-opacity:0.1; fill:none\" points=\"\n",
       "  660.489,1486.45 660.489,47.2441 \n",
       "  \"/>\n",
       "<polyline clip-path=\"url(#clip512)\" style=\"stroke:#000000; stroke-linecap:butt; stroke-linejoin:round; stroke-width:2; stroke-opacity:0.1; fill:none\" points=\"\n",
       "  1073.39,1486.45 1073.39,47.2441 \n",
       "  \"/>\n",
       "<polyline clip-path=\"url(#clip512)\" style=\"stroke:#000000; stroke-linecap:butt; stroke-linejoin:round; stroke-width:2; stroke-opacity:0.1; fill:none\" points=\"\n",
       "  1486.29,1486.45 1486.29,47.2441 \n",
       "  \"/>\n",
       "<polyline clip-path=\"url(#clip512)\" style=\"stroke:#000000; stroke-linecap:butt; stroke-linejoin:round; stroke-width:2; stroke-opacity:0.1; fill:none\" points=\"\n",
       "  1899.19,1486.45 1899.19,47.2441 \n",
       "  \"/>\n",
       "<polyline clip-path=\"url(#clip512)\" style=\"stroke:#000000; stroke-linecap:butt; stroke-linejoin:round; stroke-width:2; stroke-opacity:0.1; fill:none\" points=\"\n",
       "  2312.09,1486.45 2312.09,47.2441 \n",
       "  \"/>\n",
       "<polyline clip-path=\"url(#clip510)\" style=\"stroke:#000000; stroke-linecap:butt; stroke-linejoin:round; stroke-width:4; stroke-opacity:1; fill:none\" points=\"\n",
       "  186.274,1486.45 2352.76,1486.45 \n",
       "  \"/>\n",
       "<polyline clip-path=\"url(#clip510)\" style=\"stroke:#000000; stroke-linecap:butt; stroke-linejoin:round; stroke-width:4; stroke-opacity:1; fill:none\" points=\"\n",
       "  247.59,1486.45 247.59,1467.55 \n",
       "  \"/>\n",
       "<polyline clip-path=\"url(#clip510)\" style=\"stroke:#000000; stroke-linecap:butt; stroke-linejoin:round; stroke-width:4; stroke-opacity:1; fill:none\" points=\"\n",
       "  660.489,1486.45 660.489,1467.55 \n",
       "  \"/>\n",
       "<polyline clip-path=\"url(#clip510)\" style=\"stroke:#000000; stroke-linecap:butt; stroke-linejoin:round; stroke-width:4; stroke-opacity:1; fill:none\" points=\"\n",
       "  1073.39,1486.45 1073.39,1467.55 \n",
       "  \"/>\n",
       "<polyline clip-path=\"url(#clip510)\" style=\"stroke:#000000; stroke-linecap:butt; stroke-linejoin:round; stroke-width:4; stroke-opacity:1; fill:none\" points=\"\n",
       "  1486.29,1486.45 1486.29,1467.55 \n",
       "  \"/>\n",
       "<polyline clip-path=\"url(#clip510)\" style=\"stroke:#000000; stroke-linecap:butt; stroke-linejoin:round; stroke-width:4; stroke-opacity:1; fill:none\" points=\"\n",
       "  1899.19,1486.45 1899.19,1467.55 \n",
       "  \"/>\n",
       "<polyline clip-path=\"url(#clip510)\" style=\"stroke:#000000; stroke-linecap:butt; stroke-linejoin:round; stroke-width:4; stroke-opacity:1; fill:none\" points=\"\n",
       "  2312.09,1486.45 2312.09,1467.55 \n",
       "  \"/>\n",
       "<path clip-path=\"url(#clip510)\" d=\"M247.59 1517.37 Q243.978 1517.37 242.15 1520.93 Q240.344 1524.47 240.344 1531.6 Q240.344 1538.71 242.15 1542.27 Q243.978 1545.82 247.59 1545.82 Q251.224 1545.82 253.029 1542.27 Q254.858 1538.71 254.858 1531.6 Q254.858 1524.47 253.029 1520.93 Q251.224 1517.37 247.59 1517.37 M247.59 1513.66 Q253.4 1513.66 256.455 1518.27 Q259.534 1522.85 259.534 1531.6 Q259.534 1540.33 256.455 1544.94 Q253.4 1549.52 247.59 1549.52 Q241.779 1549.52 238.701 1544.94 Q235.645 1540.33 235.645 1531.6 Q235.645 1522.85 238.701 1518.27 Q241.779 1513.66 247.59 1513.66 Z\" fill=\"#000000\" fill-rule=\"evenodd\" fill-opacity=\"1\" /><path clip-path=\"url(#clip510)\" d=\"M650.871 1544.91 L658.51 1544.91 L658.51 1518.55 L650.199 1520.21 L650.199 1515.95 L658.463 1514.29 L663.139 1514.29 L663.139 1544.91 L670.778 1544.91 L670.778 1548.85 L650.871 1548.85 L650.871 1544.91 Z\" fill=\"#000000\" fill-rule=\"evenodd\" fill-opacity=\"1\" /><path clip-path=\"url(#clip510)\" d=\"M1068.04 1544.91 L1084.36 1544.91 L1084.36 1548.85 L1062.42 1548.85 L1062.42 1544.91 Q1065.08 1542.16 1069.66 1537.53 Q1074.27 1532.88 1075.45 1531.53 Q1077.69 1529.01 1078.57 1527.27 Q1079.48 1525.51 1079.48 1523.82 Q1079.48 1521.07 1077.53 1519.33 Q1075.61 1517.6 1072.51 1517.6 Q1070.31 1517.6 1067.86 1518.36 Q1065.42 1519.13 1062.65 1520.68 L1062.65 1515.95 Q1065.47 1514.82 1067.92 1514.24 Q1070.38 1513.66 1072.42 1513.66 Q1077.79 1513.66 1080.98 1516.35 Q1084.17 1519.03 1084.17 1523.52 Q1084.17 1525.65 1083.36 1527.57 Q1082.58 1529.47 1080.47 1532.07 Q1079.89 1532.74 1076.79 1535.95 Q1073.69 1539.15 1068.04 1544.91 Z\" fill=\"#000000\" fill-rule=\"evenodd\" fill-opacity=\"1\" /><path clip-path=\"url(#clip510)\" d=\"M1490.53 1530.21 Q1493.89 1530.93 1495.77 1533.2 Q1497.66 1535.47 1497.66 1538.8 Q1497.66 1543.92 1494.15 1546.72 Q1490.63 1549.52 1484.15 1549.52 Q1481.97 1549.52 1479.66 1549.08 Q1477.36 1548.66 1474.91 1547.81 L1474.91 1543.29 Q1476.85 1544.43 1479.17 1545.01 Q1481.48 1545.58 1484.01 1545.58 Q1488.41 1545.58 1490.7 1543.85 Q1493.01 1542.11 1493.01 1538.8 Q1493.01 1535.75 1490.86 1534.03 Q1488.73 1532.3 1484.91 1532.3 L1480.88 1532.3 L1480.88 1528.45 L1485.09 1528.45 Q1488.54 1528.45 1490.37 1527.09 Q1492.2 1525.7 1492.2 1523.11 Q1492.2 1520.45 1490.3 1519.03 Q1488.43 1517.6 1484.91 1517.6 Q1482.99 1517.6 1480.79 1518.01 Q1478.59 1518.43 1475.95 1519.31 L1475.95 1515.14 Q1478.61 1514.4 1480.93 1514.03 Q1483.27 1513.66 1485.33 1513.66 Q1490.65 1513.66 1493.75 1516.09 Q1496.85 1518.5 1496.85 1522.62 Q1496.85 1525.49 1495.21 1527.48 Q1493.57 1529.45 1490.53 1530.21 Z\" fill=\"#000000\" fill-rule=\"evenodd\" fill-opacity=\"1\" /><path clip-path=\"url(#clip510)\" d=\"M1902.2 1518.36 L1890.39 1536.81 L1902.2 1536.81 L1902.2 1518.36 M1900.97 1514.29 L1906.85 1514.29 L1906.85 1536.81 L1911.78 1536.81 L1911.78 1540.7 L1906.85 1540.7 L1906.85 1548.85 L1902.2 1548.85 L1902.2 1540.7 L1886.59 1540.7 L1886.59 1536.19 L1900.97 1514.29 Z\" fill=\"#000000\" fill-rule=\"evenodd\" fill-opacity=\"1\" /><path clip-path=\"url(#clip510)\" d=\"M2302.36 1514.29 L2320.72 1514.29 L2320.72 1518.22 L2306.65 1518.22 L2306.65 1526.7 Q2307.66 1526.35 2308.68 1526.19 Q2309.7 1526 2310.72 1526 Q2316.51 1526 2319.89 1529.17 Q2323.27 1532.34 2323.27 1537.76 Q2323.27 1543.34 2319.79 1546.44 Q2316.32 1549.52 2310 1549.52 Q2307.83 1549.52 2305.56 1549.15 Q2303.31 1548.78 2300.9 1548.04 L2300.9 1543.34 Q2302.99 1544.47 2305.21 1545.03 Q2307.43 1545.58 2309.91 1545.58 Q2313.91 1545.58 2316.25 1543.48 Q2318.59 1541.37 2318.59 1537.76 Q2318.59 1534.15 2316.25 1532.04 Q2313.91 1529.94 2309.91 1529.94 Q2308.03 1529.94 2306.16 1530.35 Q2304.31 1530.77 2302.36 1531.65 L2302.36 1514.29 Z\" fill=\"#000000\" fill-rule=\"evenodd\" fill-opacity=\"1\" /><polyline clip-path=\"url(#clip512)\" style=\"stroke:#000000; stroke-linecap:butt; stroke-linejoin:round; stroke-width:2; stroke-opacity:0.1; fill:none\" points=\"\n",
       "  186.274,1445.72 2352.76,1445.72 \n",
       "  \"/>\n",
       "<polyline clip-path=\"url(#clip512)\" style=\"stroke:#000000; stroke-linecap:butt; stroke-linejoin:round; stroke-width:2; stroke-opacity:0.1; fill:none\" points=\"\n",
       "  186.274,1159.88 2352.76,1159.88 \n",
       "  \"/>\n",
       "<polyline clip-path=\"url(#clip512)\" style=\"stroke:#000000; stroke-linecap:butt; stroke-linejoin:round; stroke-width:2; stroke-opacity:0.1; fill:none\" points=\"\n",
       "  186.274,874.046 2352.76,874.046 \n",
       "  \"/>\n",
       "<polyline clip-path=\"url(#clip512)\" style=\"stroke:#000000; stroke-linecap:butt; stroke-linejoin:round; stroke-width:2; stroke-opacity:0.1; fill:none\" points=\"\n",
       "  186.274,588.211 2352.76,588.211 \n",
       "  \"/>\n",
       "<polyline clip-path=\"url(#clip512)\" style=\"stroke:#000000; stroke-linecap:butt; stroke-linejoin:round; stroke-width:2; stroke-opacity:0.1; fill:none\" points=\"\n",
       "  186.274,302.376 2352.76,302.376 \n",
       "  \"/>\n",
       "<polyline clip-path=\"url(#clip510)\" style=\"stroke:#000000; stroke-linecap:butt; stroke-linejoin:round; stroke-width:4; stroke-opacity:1; fill:none\" points=\"\n",
       "  186.274,1486.45 186.274,47.2441 \n",
       "  \"/>\n",
       "<polyline clip-path=\"url(#clip510)\" style=\"stroke:#000000; stroke-linecap:butt; stroke-linejoin:round; stroke-width:4; stroke-opacity:1; fill:none\" points=\"\n",
       "  186.274,1445.72 205.172,1445.72 \n",
       "  \"/>\n",
       "<polyline clip-path=\"url(#clip510)\" style=\"stroke:#000000; stroke-linecap:butt; stroke-linejoin:round; stroke-width:4; stroke-opacity:1; fill:none\" points=\"\n",
       "  186.274,1159.88 205.172,1159.88 \n",
       "  \"/>\n",
       "<polyline clip-path=\"url(#clip510)\" style=\"stroke:#000000; stroke-linecap:butt; stroke-linejoin:round; stroke-width:4; stroke-opacity:1; fill:none\" points=\"\n",
       "  186.274,874.046 205.172,874.046 \n",
       "  \"/>\n",
       "<polyline clip-path=\"url(#clip510)\" style=\"stroke:#000000; stroke-linecap:butt; stroke-linejoin:round; stroke-width:4; stroke-opacity:1; fill:none\" points=\"\n",
       "  186.274,588.211 205.172,588.211 \n",
       "  \"/>\n",
       "<polyline clip-path=\"url(#clip510)\" style=\"stroke:#000000; stroke-linecap:butt; stroke-linejoin:round; stroke-width:4; stroke-opacity:1; fill:none\" points=\"\n",
       "  186.274,302.376 205.172,302.376 \n",
       "  \"/>\n",
       "<path clip-path=\"url(#clip510)\" d=\"M62.9365 1431.51 Q59.3254 1431.51 57.4967 1435.08 Q55.6912 1438.62 55.6912 1445.75 Q55.6912 1452.86 57.4967 1456.42 Q59.3254 1459.96 62.9365 1459.96 Q66.5707 1459.96 68.3763 1456.42 Q70.205 1452.86 70.205 1445.75 Q70.205 1438.62 68.3763 1435.08 Q66.5707 1431.51 62.9365 1431.51 M62.9365 1427.81 Q68.7467 1427.81 71.8022 1432.42 Q74.8809 1437 74.8809 1445.75 Q74.8809 1454.48 71.8022 1459.08 Q68.7467 1463.67 62.9365 1463.67 Q57.1264 1463.67 54.0477 1459.08 Q50.9921 1454.48 50.9921 1445.75 Q50.9921 1437 54.0477 1432.42 Q57.1264 1427.81 62.9365 1427.81 Z\" fill=\"#000000\" fill-rule=\"evenodd\" fill-opacity=\"1\" /><path clip-path=\"url(#clip510)\" d=\"M83.0984 1457.12 L87.9827 1457.12 L87.9827 1463 L83.0984 1463 L83.0984 1457.12 Z\" fill=\"#000000\" fill-rule=\"evenodd\" fill-opacity=\"1\" /><path clip-path=\"url(#clip510)\" d=\"M108.168 1431.51 Q104.557 1431.51 102.728 1435.08 Q100.922 1438.62 100.922 1445.75 Q100.922 1452.86 102.728 1456.42 Q104.557 1459.96 108.168 1459.96 Q111.802 1459.96 113.608 1456.42 Q115.436 1452.86 115.436 1445.75 Q115.436 1438.62 113.608 1435.08 Q111.802 1431.51 108.168 1431.51 M108.168 1427.81 Q113.978 1427.81 117.033 1432.42 Q120.112 1437 120.112 1445.75 Q120.112 1454.48 117.033 1459.08 Q113.978 1463.67 108.168 1463.67 Q102.358 1463.67 99.2789 1459.08 Q96.2234 1454.48 96.2234 1445.75 Q96.2234 1437 99.2789 1432.42 Q102.358 1427.81 108.168 1427.81 Z\" fill=\"#000000\" fill-rule=\"evenodd\" fill-opacity=\"1\" /><path clip-path=\"url(#clip510)\" d=\"M138.33 1431.51 Q134.719 1431.51 132.89 1435.08 Q131.084 1438.62 131.084 1445.75 Q131.084 1452.86 132.89 1456.42 Q134.719 1459.96 138.33 1459.96 Q141.964 1459.96 143.769 1456.42 Q145.598 1452.86 145.598 1445.75 Q145.598 1438.62 143.769 1435.08 Q141.964 1431.51 138.33 1431.51 M138.33 1427.81 Q144.14 1427.81 147.195 1432.42 Q150.274 1437 150.274 1445.75 Q150.274 1454.48 147.195 1459.08 Q144.14 1463.67 138.33 1463.67 Q132.519 1463.67 129.441 1459.08 Q126.385 1454.48 126.385 1445.75 Q126.385 1437 129.441 1432.42 Q132.519 1427.81 138.33 1427.81 Z\" fill=\"#000000\" fill-rule=\"evenodd\" fill-opacity=\"1\" /><path clip-path=\"url(#clip510)\" d=\"M63.9319 1145.68 Q60.3208 1145.68 58.4921 1149.24 Q56.6865 1152.79 56.6865 1159.92 Q56.6865 1167.02 58.4921 1170.59 Q60.3208 1174.13 63.9319 1174.13 Q67.5661 1174.13 69.3717 1170.59 Q71.2004 1167.02 71.2004 1159.92 Q71.2004 1152.79 69.3717 1149.24 Q67.5661 1145.68 63.9319 1145.68 M63.9319 1141.98 Q69.742 1141.98 72.7976 1146.58 Q75.8763 1151.17 75.8763 1159.92 Q75.8763 1168.64 72.7976 1173.25 Q69.742 1177.83 63.9319 1177.83 Q58.1217 1177.83 55.043 1173.25 Q51.9875 1168.64 51.9875 1159.92 Q51.9875 1151.17 55.043 1146.58 Q58.1217 1141.98 63.9319 1141.98 Z\" fill=\"#000000\" fill-rule=\"evenodd\" fill-opacity=\"1\" /><path clip-path=\"url(#clip510)\" d=\"M84.0938 1171.28 L88.978 1171.28 L88.978 1177.16 L84.0938 1177.16 L84.0938 1171.28 Z\" fill=\"#000000\" fill-rule=\"evenodd\" fill-opacity=\"1\" /><path clip-path=\"url(#clip510)\" d=\"M109.163 1145.68 Q105.552 1145.68 103.723 1149.24 Q101.918 1152.79 101.918 1159.92 Q101.918 1167.02 103.723 1170.59 Q105.552 1174.13 109.163 1174.13 Q112.797 1174.13 114.603 1170.59 Q116.432 1167.02 116.432 1159.92 Q116.432 1152.79 114.603 1149.24 Q112.797 1145.68 109.163 1145.68 M109.163 1141.98 Q114.973 1141.98 118.029 1146.58 Q121.107 1151.17 121.107 1159.92 Q121.107 1168.64 118.029 1173.25 Q114.973 1177.83 109.163 1177.83 Q103.353 1177.83 100.274 1173.25 Q97.2187 1168.64 97.2187 1159.92 Q97.2187 1151.17 100.274 1146.58 Q103.353 1141.98 109.163 1141.98 Z\" fill=\"#000000\" fill-rule=\"evenodd\" fill-opacity=\"1\" /><path clip-path=\"url(#clip510)\" d=\"M129.371 1142.6 L147.728 1142.6 L147.728 1146.54 L133.654 1146.54 L133.654 1155.01 Q134.672 1154.66 135.691 1154.5 Q136.709 1154.31 137.728 1154.31 Q143.515 1154.31 146.894 1157.49 Q150.274 1160.66 150.274 1166.07 Q150.274 1171.65 146.802 1174.75 Q143.33 1177.83 137.01 1177.83 Q134.834 1177.83 132.566 1177.46 Q130.32 1177.09 127.913 1176.35 L127.913 1171.65 Q129.996 1172.79 132.219 1173.34 Q134.441 1173.9 136.918 1173.9 Q140.922 1173.9 143.26 1171.79 Q145.598 1169.68 145.598 1166.07 Q145.598 1162.46 143.26 1160.36 Q140.922 1158.25 136.918 1158.25 Q135.043 1158.25 133.168 1158.67 Q131.316 1159.08 129.371 1159.96 L129.371 1142.6 Z\" fill=\"#000000\" fill-rule=\"evenodd\" fill-opacity=\"1\" /><path clip-path=\"url(#clip510)\" d=\"M62.9365 859.845 Q59.3254 859.845 57.4967 863.409 Q55.6912 866.951 55.6912 874.081 Q55.6912 881.187 57.4967 884.752 Q59.3254 888.294 62.9365 888.294 Q66.5707 888.294 68.3763 884.752 Q70.205 881.187 70.205 874.081 Q70.205 866.951 68.3763 863.409 Q66.5707 859.845 62.9365 859.845 M62.9365 856.141 Q68.7467 856.141 71.8022 860.747 Q74.8809 865.331 74.8809 874.081 Q74.8809 882.808 71.8022 887.414 Q68.7467 891.997 62.9365 891.997 Q57.1264 891.997 54.0477 887.414 Q50.9921 882.808 50.9921 874.081 Q50.9921 865.331 54.0477 860.747 Q57.1264 856.141 62.9365 856.141 Z\" fill=\"#000000\" fill-rule=\"evenodd\" fill-opacity=\"1\" /><path clip-path=\"url(#clip510)\" d=\"M83.0984 885.446 L87.9827 885.446 L87.9827 891.326 L83.0984 891.326 L83.0984 885.446 Z\" fill=\"#000000\" fill-rule=\"evenodd\" fill-opacity=\"1\" /><path clip-path=\"url(#clip510)\" d=\"M98.978 887.391 L106.617 887.391 L106.617 861.025 L98.3067 862.692 L98.3067 858.433 L106.571 856.766 L111.246 856.766 L111.246 887.391 L118.885 887.391 L118.885 891.326 L98.978 891.326 L98.978 887.391 Z\" fill=\"#000000\" fill-rule=\"evenodd\" fill-opacity=\"1\" /><path clip-path=\"url(#clip510)\" d=\"M138.33 859.845 Q134.719 859.845 132.89 863.409 Q131.084 866.951 131.084 874.081 Q131.084 881.187 132.89 884.752 Q134.719 888.294 138.33 888.294 Q141.964 888.294 143.769 884.752 Q145.598 881.187 145.598 874.081 Q145.598 866.951 143.769 863.409 Q141.964 859.845 138.33 859.845 M138.33 856.141 Q144.14 856.141 147.195 860.747 Q150.274 865.331 150.274 874.081 Q150.274 882.808 147.195 887.414 Q144.14 891.997 138.33 891.997 Q132.519 891.997 129.441 887.414 Q126.385 882.808 126.385 874.081 Q126.385 865.331 129.441 860.747 Q132.519 856.141 138.33 856.141 Z\" fill=\"#000000\" fill-rule=\"evenodd\" fill-opacity=\"1\" /><path clip-path=\"url(#clip510)\" d=\"M63.9319 574.01 Q60.3208 574.01 58.4921 577.575 Q56.6865 581.116 56.6865 588.246 Q56.6865 595.352 58.4921 598.917 Q60.3208 602.459 63.9319 602.459 Q67.5661 602.459 69.3717 598.917 Q71.2004 595.352 71.2004 588.246 Q71.2004 581.116 69.3717 577.575 Q67.5661 574.01 63.9319 574.01 M63.9319 570.306 Q69.742 570.306 72.7976 574.913 Q75.8763 579.496 75.8763 588.246 Q75.8763 596.973 72.7976 601.579 Q69.742 606.162 63.9319 606.162 Q58.1217 606.162 55.043 601.579 Q51.9875 596.973 51.9875 588.246 Q51.9875 579.496 55.043 574.913 Q58.1217 570.306 63.9319 570.306 Z\" fill=\"#000000\" fill-rule=\"evenodd\" fill-opacity=\"1\" /><path clip-path=\"url(#clip510)\" d=\"M84.0938 599.612 L88.978 599.612 L88.978 605.491 L84.0938 605.491 L84.0938 599.612 Z\" fill=\"#000000\" fill-rule=\"evenodd\" fill-opacity=\"1\" /><path clip-path=\"url(#clip510)\" d=\"M99.9733 601.556 L107.612 601.556 L107.612 575.19 L99.3021 576.857 L99.3021 572.598 L107.566 570.931 L112.242 570.931 L112.242 601.556 L119.881 601.556 L119.881 605.491 L99.9733 605.491 L99.9733 601.556 Z\" fill=\"#000000\" fill-rule=\"evenodd\" fill-opacity=\"1\" /><path clip-path=\"url(#clip510)\" d=\"M129.371 570.931 L147.728 570.931 L147.728 574.866 L133.654 574.866 L133.654 583.339 Q134.672 582.991 135.691 582.829 Q136.709 582.644 137.728 582.644 Q143.515 582.644 146.894 585.815 Q150.274 588.987 150.274 594.403 Q150.274 599.982 146.802 603.084 Q143.33 606.162 137.01 606.162 Q134.834 606.162 132.566 605.792 Q130.32 605.422 127.913 604.681 L127.913 599.982 Q129.996 601.116 132.219 601.672 Q134.441 602.227 136.918 602.227 Q140.922 602.227 143.26 600.121 Q145.598 598.014 145.598 594.403 Q145.598 590.792 143.26 588.686 Q140.922 586.579 136.918 586.579 Q135.043 586.579 133.168 586.996 Q131.316 587.413 129.371 588.292 L129.371 570.931 Z\" fill=\"#000000\" fill-rule=\"evenodd\" fill-opacity=\"1\" /><path clip-path=\"url(#clip510)\" d=\"M62.9365 288.175 Q59.3254 288.175 57.4967 291.74 Q55.6912 295.281 55.6912 302.411 Q55.6912 309.518 57.4967 313.082 Q59.3254 316.624 62.9365 316.624 Q66.5707 316.624 68.3763 313.082 Q70.205 309.518 70.205 302.411 Q70.205 295.281 68.3763 291.74 Q66.5707 288.175 62.9365 288.175 M62.9365 284.471 Q68.7467 284.471 71.8022 289.078 Q74.8809 293.661 74.8809 302.411 Q74.8809 311.138 71.8022 315.744 Q68.7467 320.328 62.9365 320.328 Q57.1264 320.328 54.0477 315.744 Q50.9921 311.138 50.9921 302.411 Q50.9921 293.661 54.0477 289.078 Q57.1264 284.471 62.9365 284.471 Z\" fill=\"#000000\" fill-rule=\"evenodd\" fill-opacity=\"1\" /><path clip-path=\"url(#clip510)\" d=\"M83.0984 313.777 L87.9827 313.777 L87.9827 319.656 L83.0984 319.656 L83.0984 313.777 Z\" fill=\"#000000\" fill-rule=\"evenodd\" fill-opacity=\"1\" /><path clip-path=\"url(#clip510)\" d=\"M102.196 315.721 L118.515 315.721 L118.515 319.656 L96.5706 319.656 L96.5706 315.721 Q99.2326 312.967 103.816 308.337 Q108.422 303.684 109.603 302.342 Q111.848 299.818 112.728 298.082 Q113.631 296.323 113.631 294.633 Q113.631 291.879 111.686 290.143 Q109.765 288.407 106.663 288.407 Q104.464 288.407 102.01 289.17 Q99.5798 289.934 96.8021 291.485 L96.8021 286.763 Q99.6261 285.629 102.08 285.05 Q104.534 284.471 106.571 284.471 Q111.941 284.471 115.135 287.157 Q118.33 289.842 118.33 294.332 Q118.33 296.462 117.52 298.383 Q116.733 300.281 114.626 302.874 Q114.047 303.545 110.946 306.763 Q107.844 309.957 102.196 315.721 Z\" fill=\"#000000\" fill-rule=\"evenodd\" fill-opacity=\"1\" /><path clip-path=\"url(#clip510)\" d=\"M138.33 288.175 Q134.719 288.175 132.89 291.74 Q131.084 295.281 131.084 302.411 Q131.084 309.518 132.89 313.082 Q134.719 316.624 138.33 316.624 Q141.964 316.624 143.769 313.082 Q145.598 309.518 145.598 302.411 Q145.598 295.281 143.769 291.74 Q141.964 288.175 138.33 288.175 M138.33 284.471 Q144.14 284.471 147.195 289.078 Q150.274 293.661 150.274 302.411 Q150.274 311.138 147.195 315.744 Q144.14 320.328 138.33 320.328 Q132.519 320.328 129.441 315.744 Q126.385 311.138 126.385 302.411 Q126.385 293.661 129.441 289.078 Q132.519 284.471 138.33 284.471 Z\" fill=\"#000000\" fill-rule=\"evenodd\" fill-opacity=\"1\" /><polyline clip-path=\"url(#clip512)\" style=\"stroke:#009af9; stroke-linecap:butt; stroke-linejoin:round; stroke-width:4; stroke-opacity:1; fill:none\" points=\"\n",
       "  247.59,1445.72 268.234,1445.72 288.879,1445.72 309.524,1445.72 330.169,1445.72 350.814,1445.72 371.459,1445.72 392.104,1445.72 412.749,1445.72 433.394,1445.72 \n",
       "  454.039,1445.72 474.684,1445.72 495.329,1445.72 515.974,1445.72 536.619,1445.72 557.264,1445.72 577.909,1445.72 598.554,1445.72 619.199,1445.72 639.844,1445.72 \n",
       "  660.489,1445.72 681.134,1445.72 701.779,1445.72 722.424,1445.72 743.069,1445.72 763.713,1445.72 784.358,1445.72 805.003,1445.72 825.648,1445.72 846.293,1445.72 \n",
       "  866.938,1445.72 887.583,1445.72 908.228,1445.72 928.873,1445.72 949.518,1445.72 970.163,1445.72 990.808,1445.72 1011.45,1445.72 1032.1,1445.72 1052.74,1445.72 \n",
       "  1073.39,1445.72 1094.03,1445.72 1114.68,1445.72 1135.32,1445.72 1155.97,1445.72 1176.61,1445.72 1197.26,1445.72 1217.9,1445.72 1238.55,1445.72 1259.19,1445.72 \n",
       "  1279.84,1445.72 1300.48,1445.72 1321.13,1445.72 1341.77,1445.72 1362.42,1445.72 1383.06,1445.72 1403.71,1445.72 1424.35,1445.72 1445,1445.72 1465.64,1445.72 \n",
       "  1486.29,1445.72 1506.93,1445.72 1527.58,1445.72 1548.22,1445.72 1568.87,1445.72 1589.51,1445.72 1610.16,1445.72 1630.8,1445.72 1651.45,1445.72 1672.09,1445.72 \n",
       "  1692.74,1445.72 1713.38,1445.72 1734.03,1445.72 1754.67,1445.72 1775.32,1445.72 1795.96,1445.72 1816.61,1445.72 1837.25,1445.72 1857.9,1445.72 1878.54,1445.72 \n",
       "  1899.19,1445.72 1919.83,1445.72 1940.48,1445.72 1961.12,1445.72 1981.77,1445.72 2002.41,1445.72 2023.06,1445.72 2043.7,1445.72 2064.35,1445.72 2084.99,1445.72 \n",
       "  2105.64,1445.72 2126.28,1445.72 2146.93,1445.72 2167.57,1445.72 2188.22,1445.72 2208.86,1445.72 2229.51,1445.72 2250.15,1445.72 2270.8,1445.72 2291.44,1445.72 \n",
       "  \n",
       "  \"/>\n",
       "<polyline clip-path=\"url(#clip512)\" style=\"stroke:#e26f46; stroke-linecap:butt; stroke-linejoin:round; stroke-width:4; stroke-opacity:1; fill:none\" points=\"\n",
       "  247.59,1445.72 268.234,1445.72 288.879,1445.72 309.524,1445.72 330.169,1445.72 350.814,1445.72 371.459,1445.72 392.104,1445.72 412.749,1445.72 433.394,1445.72 \n",
       "  454.039,1445.72 474.684,1445.72 495.329,1445.72 515.974,1445.72 536.619,1445.72 557.264,1445.72 577.909,1445.72 598.554,1445.72 619.199,1445.72 639.844,1445.72 \n",
       "  660.489,1445.72 681.134,1445.72 701.779,1445.72 722.424,1445.72 743.069,1445.72 763.713,1445.72 784.358,1445.72 805.003,1445.72 825.648,1445.72 846.293,1445.72 \n",
       "  866.938,1445.72 887.583,1445.72 908.228,1445.72 928.873,1445.72 949.518,1445.72 970.163,1445.72 990.808,1445.72 1011.45,1445.72 1032.1,1445.72 1052.74,1445.72 \n",
       "  1073.39,1445.72 1094.03,1445.72 1114.68,1445.72 1135.32,1445.72 1155.97,1445.72 1176.61,1445.72 1197.26,1445.72 1217.9,1445.72 1238.55,1445.72 1259.19,1445.72 \n",
       "  1279.84,1445.72 1300.48,1445.72 1321.13,1445.72 1341.77,1445.72 1362.42,1445.72 1383.06,1445.72 1403.71,1445.72 1424.35,1445.72 1445,1445.72 1465.64,1445.72 \n",
       "  1486.29,1445.72 1506.93,1445.72 1527.58,1445.72 1548.22,1445.72 1568.87,1445.72 1589.51,1445.72 1610.16,1445.72 1630.8,1445.72 1651.45,1445.72 1672.09,1445.72 \n",
       "  1692.74,1445.72 1713.38,1445.72 1734.03,1445.72 1754.67,1445.72 1775.32,1445.72 1795.96,1445.72 1816.61,1445.72 1837.25,1445.72 1857.9,1445.72 1878.54,1445.72 \n",
       "  1899.19,1445.72 1919.83,1445.72 1940.48,1445.72 1961.12,1445.72 1981.77,1445.72 2002.41,1445.72 2023.06,1445.72 2043.7,1445.72 2064.35,1445.72 2084.99,1445.72 \n",
       "  2105.64,1445.72 2126.28,1445.72 2146.93,1445.72 2167.57,1445.72 2188.22,1445.72 2208.86,1445.72 2229.51,1445.72 2250.15,1445.72 2270.8,1445.72 2291.44,1445.72 \n",
       "  \n",
       "  \"/>\n",
       "<polyline clip-path=\"url(#clip512)\" style=\"stroke:#3da44d; stroke-linecap:butt; stroke-linejoin:round; stroke-width:4; stroke-opacity:1; fill:none\" points=\"\n",
       "  247.59,1445.72 268.234,1302.8 288.879,1159.88 309.524,1016.96 330.169,874.044 350.814,731.125 371.459,588.205 392.104,445.284 412.749,302.362 433.394,159.439 \n",
       "  454.039,87.9763 474.684,87.9763 495.329,87.9763 515.974,87.9763 536.619,87.9763 557.264,87.9763 577.909,87.9763 598.554,87.9763 619.199,87.9763 639.844,87.9763 \n",
       "  660.489,87.9763 681.134,87.9763 701.779,87.9763 722.424,87.9763 743.069,87.9763 763.713,87.9763 784.358,87.9763 805.003,87.9763 825.648,87.9763 846.293,87.9763 \n",
       "  866.938,87.9763 887.583,87.9763 908.228,87.9763 928.873,87.9763 949.518,87.9763 970.163,87.9763 990.808,87.9763 1011.45,87.9763 1032.1,87.9763 1052.74,87.9763 \n",
       "  1073.39,87.9763 1094.03,87.9763 1114.68,87.9763 1135.32,87.9763 1155.97,87.9763 1176.61,87.9763 1197.26,87.9763 1217.9,87.9763 1238.55,87.9763 1259.19,87.9763 \n",
       "  1279.84,87.9763 1300.48,87.9763 1321.13,87.9763 1341.77,87.9763 1362.42,87.9763 1383.06,87.9763 1403.71,87.9763 1424.35,87.9763 1445,87.9763 1465.64,87.9763 \n",
       "  1486.29,87.9763 1506.93,87.9763 1527.58,87.9763 1548.22,87.9763 1568.87,87.9763 1589.51,87.9763 1610.16,87.9763 1630.8,87.9763 1651.45,87.9763 1672.09,87.9763 \n",
       "  1692.74,87.9763 1713.38,87.9763 1734.03,87.9763 1754.67,87.9763 1775.32,87.9763 1795.96,87.9763 1816.61,87.9763 1837.25,87.9763 1857.9,87.9763 1878.54,87.9763 \n",
       "  1899.19,87.9763 1919.83,87.9763 1940.48,87.9763 1961.12,87.9763 1981.77,87.9763 2002.41,87.9763 2023.06,87.9763 2043.7,87.9763 2064.35,87.9763 2084.99,87.9763 \n",
       "  2105.64,87.9763 2126.28,87.9763 2146.93,87.9763 2167.57,87.9763 2188.22,87.9763 2208.86,87.9763 2229.51,87.9763 2250.15,87.9763 2270.8,87.9763 2291.44,87.9763 \n",
       "  \n",
       "  \"/>\n",
       "<path clip-path=\"url(#clip510)\" d=\"\n",
       "M1986.81 302.578 L2280.54 302.578 L2280.54 95.2176 L1986.81 95.2176  Z\n",
       "  \" fill=\"#ffffff\" fill-rule=\"evenodd\" fill-opacity=\"1\"/>\n",
       "<polyline clip-path=\"url(#clip510)\" style=\"stroke:#000000; stroke-linecap:butt; stroke-linejoin:round; stroke-width:4; stroke-opacity:1; fill:none\" points=\"\n",
       "  1986.81,302.578 2280.54,302.578 2280.54,95.2176 1986.81,95.2176 1986.81,302.578 \n",
       "  \"/>\n",
       "<polyline clip-path=\"url(#clip510)\" style=\"stroke:#009af9; stroke-linecap:butt; stroke-linejoin:round; stroke-width:4; stroke-opacity:1; fill:none\" points=\"\n",
       "  2010.88,147.058 2155.31,147.058 \n",
       "  \"/>\n",
       "<path clip-path=\"url(#clip510)\" d=\"M2193.23 166.745 Q2191.42 171.375 2189.71 172.787 Q2188 174.199 2185.13 174.199 L2181.72 174.199 L2181.72 170.634 L2184.22 170.634 Q2185.98 170.634 2186.96 169.8 Q2187.93 168.967 2189.11 165.865 L2189.87 163.921 L2179.39 138.412 L2183.9 138.412 L2192 158.689 L2200.1 138.412 L2204.62 138.412 L2193.23 166.745 Z\" fill=\"#000000\" fill-rule=\"evenodd\" fill-opacity=\"1\" /><path clip-path=\"url(#clip510)\" d=\"M2211.91 160.402 L2219.55 160.402 L2219.55 134.037 L2211.24 135.703 L2211.24 131.444 L2219.5 129.778 L2224.18 129.778 L2224.18 160.402 L2231.82 160.402 L2231.82 164.338 L2211.91 164.338 L2211.91 160.402 Z\" fill=\"#000000\" fill-rule=\"evenodd\" fill-opacity=\"1\" /><polyline clip-path=\"url(#clip510)\" style=\"stroke:#e26f46; stroke-linecap:butt; stroke-linejoin:round; stroke-width:4; stroke-opacity:1; fill:none\" points=\"\n",
       "  2010.88,198.898 2155.31,198.898 \n",
       "  \"/>\n",
       "<path clip-path=\"url(#clip510)\" d=\"M2193.23 218.585 Q2191.42 223.215 2189.71 224.627 Q2188 226.039 2185.13 226.039 L2181.72 226.039 L2181.72 222.474 L2184.22 222.474 Q2185.98 222.474 2186.96 221.64 Q2187.93 220.807 2189.11 217.705 L2189.87 215.761 L2179.39 190.252 L2183.9 190.252 L2192 210.529 L2200.1 190.252 L2204.62 190.252 L2193.23 218.585 Z\" fill=\"#000000\" fill-rule=\"evenodd\" fill-opacity=\"1\" /><path clip-path=\"url(#clip510)\" d=\"M2215.13 212.242 L2231.45 212.242 L2231.45 216.178 L2209.5 216.178 L2209.5 212.242 Q2212.16 209.488 2216.75 204.858 Q2221.35 200.205 2222.53 198.863 Q2224.78 196.34 2225.66 194.604 Q2226.56 192.844 2226.56 191.155 Q2226.56 188.4 2224.62 186.664 Q2222.7 184.928 2219.59 184.928 Q2217.4 184.928 2214.94 185.692 Q2212.51 186.455 2209.73 188.006 L2209.73 183.284 Q2212.56 182.15 2215.01 181.571 Q2217.47 180.993 2219.5 180.993 Q2224.87 180.993 2228.07 183.678 Q2231.26 186.363 2231.26 190.854 Q2231.26 192.983 2230.45 194.905 Q2229.66 196.803 2227.56 199.395 Q2226.98 200.067 2223.88 203.284 Q2220.78 206.479 2215.13 212.242 Z\" fill=\"#000000\" fill-rule=\"evenodd\" fill-opacity=\"1\" /><polyline clip-path=\"url(#clip510)\" style=\"stroke:#3da44d; stroke-linecap:butt; stroke-linejoin:round; stroke-width:4; stroke-opacity:1; fill:none\" points=\"\n",
       "  2010.88,250.738 2155.31,250.738 \n",
       "  \"/>\n",
       "<path clip-path=\"url(#clip510)\" d=\"M2193.23 270.425 Q2191.42 275.055 2189.71 276.467 Q2188 277.879 2185.13 277.879 L2181.72 277.879 L2181.72 274.314 L2184.22 274.314 Q2185.98 274.314 2186.96 273.48 Q2187.93 272.647 2189.11 269.545 L2189.87 267.601 L2179.39 242.092 L2183.9 242.092 L2192 262.369 L2200.1 242.092 L2204.62 242.092 L2193.23 270.425 Z\" fill=\"#000000\" fill-rule=\"evenodd\" fill-opacity=\"1\" /><path clip-path=\"url(#clip510)\" d=\"M2225.27 249.383 Q2228.62 250.101 2230.5 252.369 Q2232.4 254.638 2232.4 257.971 Q2232.4 263.087 2228.88 265.888 Q2225.36 268.689 2218.88 268.689 Q2216.7 268.689 2214.39 268.249 Q2212.09 267.832 2209.64 266.976 L2209.64 262.462 Q2211.59 263.596 2213.9 264.175 Q2216.22 264.754 2218.74 264.754 Q2223.14 264.754 2225.43 263.018 Q2227.74 261.281 2227.74 257.971 Q2227.74 254.916 2225.59 253.203 Q2223.46 251.467 2219.64 251.467 L2215.61 251.467 L2215.61 247.624 L2219.83 247.624 Q2223.28 247.624 2225.1 246.258 Q2226.93 244.87 2226.93 242.277 Q2226.93 239.615 2225.03 238.203 Q2223.16 236.768 2219.64 236.768 Q2217.72 236.768 2215.52 237.184 Q2213.32 237.601 2210.68 238.481 L2210.68 234.314 Q2213.34 233.573 2215.66 233.203 Q2218 232.833 2220.06 232.833 Q2225.38 232.833 2228.48 235.263 Q2231.59 237.67 2231.59 241.791 Q2231.59 244.661 2229.94 246.652 Q2228.3 248.62 2225.27 249.383 Z\" fill=\"#000000\" fill-rule=\"evenodd\" fill-opacity=\"1\" /></svg>\n"
      ]
     },
     "execution_count": 52,
     "metadata": {},
     "output_type": "execute_result"
    }
   ],
   "source": [
    "using Plots\n",
    "Xhist = hcat(X...)'\n",
    "Vhist = hcat(V...)'\n",
    "plot(Xhist[:,1:3])\n",
    "plot(params.Thist[1:end-1], Vhist[:,4:6])"
   ]
  },
  {
   "cell_type": "code",
   "execution_count": 30,
   "id": "be2e27f9",
   "metadata": {},
   "outputs": [
    {
     "data": {
      "image/svg+xml": [
       "<?xml version=\"1.0\" encoding=\"utf-8\"?>\n",
       "<svg xmlns=\"http://www.w3.org/2000/svg\" xmlns:xlink=\"http://www.w3.org/1999/xlink\" width=\"600\" height=\"400\" viewBox=\"0 0 2400 1600\">\n",
       "<defs>\n",
       "  <clipPath id=\"clip470\">\n",
       "    <rect x=\"0\" y=\"0\" width=\"2400\" height=\"1600\"/>\n",
       "  </clipPath>\n",
       "</defs>\n",
       "<path clip-path=\"url(#clip470)\" d=\"\n",
       "M0 1600 L2400 1600 L2400 0 L0 0  Z\n",
       "  \" fill=\"#ffffff\" fill-rule=\"evenodd\" fill-opacity=\"1\"/>\n",
       "<defs>\n",
       "  <clipPath id=\"clip471\">\n",
       "    <rect x=\"480\" y=\"0\" width=\"1681\" height=\"1600\"/>\n",
       "  </clipPath>\n",
       "</defs>\n",
       "<path clip-path=\"url(#clip470)\" d=\"\n",
       "M186.274 1486.45 L2352.76 1486.45 L2352.76 47.2441 L186.274 47.2441  Z\n",
       "  \" fill=\"#ffffff\" fill-rule=\"evenodd\" fill-opacity=\"1\"/>\n",
       "<defs>\n",
       "  <clipPath id=\"clip472\">\n",
       "    <rect x=\"186\" y=\"47\" width=\"2167\" height=\"1440\"/>\n",
       "  </clipPath>\n",
       "</defs>\n",
       "<polyline clip-path=\"url(#clip472)\" style=\"stroke:#000000; stroke-linecap:butt; stroke-linejoin:round; stroke-width:2; stroke-opacity:0.1; fill:none\" points=\"\n",
       "  247.59,1486.45 247.59,47.2441 \n",
       "  \"/>\n",
       "<polyline clip-path=\"url(#clip472)\" style=\"stroke:#000000; stroke-linecap:butt; stroke-linejoin:round; stroke-width:2; stroke-opacity:0.1; fill:none\" points=\"\n",
       "  656.36,1486.45 656.36,47.2441 \n",
       "  \"/>\n",
       "<polyline clip-path=\"url(#clip472)\" style=\"stroke:#000000; stroke-linecap:butt; stroke-linejoin:round; stroke-width:2; stroke-opacity:0.1; fill:none\" points=\"\n",
       "  1065.13,1486.45 1065.13,47.2441 \n",
       "  \"/>\n",
       "<polyline clip-path=\"url(#clip472)\" style=\"stroke:#000000; stroke-linecap:butt; stroke-linejoin:round; stroke-width:2; stroke-opacity:0.1; fill:none\" points=\"\n",
       "  1473.9,1486.45 1473.9,47.2441 \n",
       "  \"/>\n",
       "<polyline clip-path=\"url(#clip472)\" style=\"stroke:#000000; stroke-linecap:butt; stroke-linejoin:round; stroke-width:2; stroke-opacity:0.1; fill:none\" points=\"\n",
       "  1882.67,1486.45 1882.67,47.2441 \n",
       "  \"/>\n",
       "<polyline clip-path=\"url(#clip472)\" style=\"stroke:#000000; stroke-linecap:butt; stroke-linejoin:round; stroke-width:2; stroke-opacity:0.1; fill:none\" points=\"\n",
       "  2291.44,1486.45 2291.44,47.2441 \n",
       "  \"/>\n",
       "<polyline clip-path=\"url(#clip470)\" style=\"stroke:#000000; stroke-linecap:butt; stroke-linejoin:round; stroke-width:4; stroke-opacity:1; fill:none\" points=\"\n",
       "  186.274,1486.45 2352.76,1486.45 \n",
       "  \"/>\n",
       "<polyline clip-path=\"url(#clip470)\" style=\"stroke:#000000; stroke-linecap:butt; stroke-linejoin:round; stroke-width:4; stroke-opacity:1; fill:none\" points=\"\n",
       "  247.59,1486.45 247.59,1467.55 \n",
       "  \"/>\n",
       "<polyline clip-path=\"url(#clip470)\" style=\"stroke:#000000; stroke-linecap:butt; stroke-linejoin:round; stroke-width:4; stroke-opacity:1; fill:none\" points=\"\n",
       "  656.36,1486.45 656.36,1467.55 \n",
       "  \"/>\n",
       "<polyline clip-path=\"url(#clip470)\" style=\"stroke:#000000; stroke-linecap:butt; stroke-linejoin:round; stroke-width:4; stroke-opacity:1; fill:none\" points=\"\n",
       "  1065.13,1486.45 1065.13,1467.55 \n",
       "  \"/>\n",
       "<polyline clip-path=\"url(#clip470)\" style=\"stroke:#000000; stroke-linecap:butt; stroke-linejoin:round; stroke-width:4; stroke-opacity:1; fill:none\" points=\"\n",
       "  1473.9,1486.45 1473.9,1467.55 \n",
       "  \"/>\n",
       "<polyline clip-path=\"url(#clip470)\" style=\"stroke:#000000; stroke-linecap:butt; stroke-linejoin:round; stroke-width:4; stroke-opacity:1; fill:none\" points=\"\n",
       "  1882.67,1486.45 1882.67,1467.55 \n",
       "  \"/>\n",
       "<polyline clip-path=\"url(#clip470)\" style=\"stroke:#000000; stroke-linecap:butt; stroke-linejoin:round; stroke-width:4; stroke-opacity:1; fill:none\" points=\"\n",
       "  2291.44,1486.45 2291.44,1467.55 \n",
       "  \"/>\n",
       "<path clip-path=\"url(#clip470)\" d=\"M247.59 1517.37 Q243.978 1517.37 242.15 1520.93 Q240.344 1524.47 240.344 1531.6 Q240.344 1538.71 242.15 1542.27 Q243.978 1545.82 247.59 1545.82 Q251.224 1545.82 253.029 1542.27 Q254.858 1538.71 254.858 1531.6 Q254.858 1524.47 253.029 1520.93 Q251.224 1517.37 247.59 1517.37 M247.59 1513.66 Q253.4 1513.66 256.455 1518.27 Q259.534 1522.85 259.534 1531.6 Q259.534 1540.33 256.455 1544.94 Q253.4 1549.52 247.59 1549.52 Q241.779 1549.52 238.701 1544.94 Q235.645 1540.33 235.645 1531.6 Q235.645 1522.85 238.701 1518.27 Q241.779 1513.66 247.59 1513.66 Z\" fill=\"#000000\" fill-rule=\"evenodd\" fill-opacity=\"1\" /><path clip-path=\"url(#clip470)\" d=\"M646.742 1544.91 L654.381 1544.91 L654.381 1518.55 L646.07 1520.21 L646.07 1515.95 L654.334 1514.29 L659.01 1514.29 L659.01 1544.91 L666.649 1544.91 L666.649 1548.85 L646.742 1548.85 L646.742 1544.91 Z\" fill=\"#000000\" fill-rule=\"evenodd\" fill-opacity=\"1\" /><path clip-path=\"url(#clip470)\" d=\"M1059.78 1544.91 L1076.1 1544.91 L1076.1 1548.85 L1054.16 1548.85 L1054.16 1544.91 Q1056.82 1542.16 1061.4 1537.53 Q1066.01 1532.88 1067.19 1531.53 Q1069.44 1529.01 1070.32 1527.27 Q1071.22 1525.51 1071.22 1523.82 Q1071.22 1521.07 1069.27 1519.33 Q1067.35 1517.6 1064.25 1517.6 Q1062.05 1517.6 1059.6 1518.36 Q1057.17 1519.13 1054.39 1520.68 L1054.39 1515.95 Q1057.21 1514.82 1059.67 1514.24 Q1062.12 1513.66 1064.16 1513.66 Q1069.53 1513.66 1072.72 1516.35 Q1075.92 1519.03 1075.92 1523.52 Q1075.92 1525.65 1075.11 1527.57 Q1074.32 1529.47 1072.21 1532.07 Q1071.63 1532.74 1068.53 1535.95 Q1065.43 1539.15 1059.78 1544.91 Z\" fill=\"#000000\" fill-rule=\"evenodd\" fill-opacity=\"1\" /><path clip-path=\"url(#clip470)\" d=\"M1478.15 1530.21 Q1481.5 1530.93 1483.38 1533.2 Q1485.28 1535.47 1485.28 1538.8 Q1485.28 1543.92 1481.76 1546.72 Q1478.24 1549.52 1471.76 1549.52 Q1469.58 1549.52 1467.27 1549.08 Q1464.98 1548.66 1462.52 1547.81 L1462.52 1543.29 Q1464.47 1544.43 1466.78 1545.01 Q1469.1 1545.58 1471.62 1545.58 Q1476.02 1545.58 1478.31 1543.85 Q1480.62 1542.11 1480.62 1538.8 Q1480.62 1535.75 1478.47 1534.03 Q1476.34 1532.3 1472.52 1532.3 L1468.49 1532.3 L1468.49 1528.45 L1472.71 1528.45 Q1476.16 1528.45 1477.99 1527.09 Q1479.81 1525.7 1479.81 1523.11 Q1479.81 1520.45 1477.92 1519.03 Q1476.04 1517.6 1472.52 1517.6 Q1470.6 1517.6 1468.4 1518.01 Q1466.2 1518.43 1463.56 1519.31 L1463.56 1515.14 Q1466.23 1514.4 1468.54 1514.03 Q1470.88 1513.66 1472.94 1513.66 Q1478.26 1513.66 1481.37 1516.09 Q1484.47 1518.5 1484.47 1522.62 Q1484.47 1525.49 1482.82 1527.48 Q1481.18 1529.45 1478.15 1530.21 Z\" fill=\"#000000\" fill-rule=\"evenodd\" fill-opacity=\"1\" /><path clip-path=\"url(#clip470)\" d=\"M1885.68 1518.36 L1873.87 1536.81 L1885.68 1536.81 L1885.68 1518.36 M1884.45 1514.29 L1890.33 1514.29 L1890.33 1536.81 L1895.26 1536.81 L1895.26 1540.7 L1890.33 1540.7 L1890.33 1548.85 L1885.68 1548.85 L1885.68 1540.7 L1870.08 1540.7 L1870.08 1536.19 L1884.45 1514.29 Z\" fill=\"#000000\" fill-rule=\"evenodd\" fill-opacity=\"1\" /><path clip-path=\"url(#clip470)\" d=\"M2281.72 1514.29 L2300.07 1514.29 L2300.07 1518.22 L2286 1518.22 L2286 1526.7 Q2287.02 1526.35 2288.04 1526.19 Q2289.06 1526 2290.07 1526 Q2295.86 1526 2299.24 1529.17 Q2302.62 1532.34 2302.62 1537.76 Q2302.62 1543.34 2299.15 1546.44 Q2295.68 1549.52 2289.36 1549.52 Q2287.18 1549.52 2284.91 1549.15 Q2282.67 1548.78 2280.26 1548.04 L2280.26 1543.34 Q2282.34 1544.47 2284.57 1545.03 Q2286.79 1545.58 2289.26 1545.58 Q2293.27 1545.58 2295.61 1543.48 Q2297.94 1541.37 2297.94 1537.76 Q2297.94 1534.15 2295.61 1532.04 Q2293.27 1529.94 2289.26 1529.94 Q2287.39 1529.94 2285.51 1530.35 Q2283.66 1530.77 2281.72 1531.65 L2281.72 1514.29 Z\" fill=\"#000000\" fill-rule=\"evenodd\" fill-opacity=\"1\" /><polyline clip-path=\"url(#clip472)\" style=\"stroke:#000000; stroke-linecap:butt; stroke-linejoin:round; stroke-width:2; stroke-opacity:0.1; fill:none\" points=\"\n",
       "  186.274,1445.72 2352.76,1445.72 \n",
       "  \"/>\n",
       "<polyline clip-path=\"url(#clip472)\" style=\"stroke:#000000; stroke-linecap:butt; stroke-linejoin:round; stroke-width:2; stroke-opacity:0.1; fill:none\" points=\"\n",
       "  186.274,1106.28 2352.76,1106.28 \n",
       "  \"/>\n",
       "<polyline clip-path=\"url(#clip472)\" style=\"stroke:#000000; stroke-linecap:butt; stroke-linejoin:round; stroke-width:2; stroke-opacity:0.1; fill:none\" points=\"\n",
       "  186.274,766.846 2352.76,766.846 \n",
       "  \"/>\n",
       "<polyline clip-path=\"url(#clip472)\" style=\"stroke:#000000; stroke-linecap:butt; stroke-linejoin:round; stroke-width:2; stroke-opacity:0.1; fill:none\" points=\"\n",
       "  186.274,427.411 2352.76,427.411 \n",
       "  \"/>\n",
       "<polyline clip-path=\"url(#clip472)\" style=\"stroke:#000000; stroke-linecap:butt; stroke-linejoin:round; stroke-width:2; stroke-opacity:0.1; fill:none\" points=\"\n",
       "  186.274,87.9763 2352.76,87.9763 \n",
       "  \"/>\n",
       "<polyline clip-path=\"url(#clip470)\" style=\"stroke:#000000; stroke-linecap:butt; stroke-linejoin:round; stroke-width:4; stroke-opacity:1; fill:none\" points=\"\n",
       "  186.274,1486.45 186.274,47.2441 \n",
       "  \"/>\n",
       "<polyline clip-path=\"url(#clip470)\" style=\"stroke:#000000; stroke-linecap:butt; stroke-linejoin:round; stroke-width:4; stroke-opacity:1; fill:none\" points=\"\n",
       "  186.274,1445.72 205.172,1445.72 \n",
       "  \"/>\n",
       "<polyline clip-path=\"url(#clip470)\" style=\"stroke:#000000; stroke-linecap:butt; stroke-linejoin:round; stroke-width:4; stroke-opacity:1; fill:none\" points=\"\n",
       "  186.274,1106.28 205.172,1106.28 \n",
       "  \"/>\n",
       "<polyline clip-path=\"url(#clip470)\" style=\"stroke:#000000; stroke-linecap:butt; stroke-linejoin:round; stroke-width:4; stroke-opacity:1; fill:none\" points=\"\n",
       "  186.274,766.846 205.172,766.846 \n",
       "  \"/>\n",
       "<polyline clip-path=\"url(#clip470)\" style=\"stroke:#000000; stroke-linecap:butt; stroke-linejoin:round; stroke-width:4; stroke-opacity:1; fill:none\" points=\"\n",
       "  186.274,427.411 205.172,427.411 \n",
       "  \"/>\n",
       "<polyline clip-path=\"url(#clip470)\" style=\"stroke:#000000; stroke-linecap:butt; stroke-linejoin:round; stroke-width:4; stroke-opacity:1; fill:none\" points=\"\n",
       "  186.274,87.9763 205.172,87.9763 \n",
       "  \"/>\n",
       "<path clip-path=\"url(#clip470)\" d=\"M62.9365 1431.51 Q59.3254 1431.51 57.4967 1435.08 Q55.6912 1438.62 55.6912 1445.75 Q55.6912 1452.86 57.4967 1456.42 Q59.3254 1459.96 62.9365 1459.96 Q66.5707 1459.96 68.3763 1456.42 Q70.205 1452.86 70.205 1445.75 Q70.205 1438.62 68.3763 1435.08 Q66.5707 1431.51 62.9365 1431.51 M62.9365 1427.81 Q68.7467 1427.81 71.8022 1432.42 Q74.8809 1437 74.8809 1445.75 Q74.8809 1454.48 71.8022 1459.08 Q68.7467 1463.67 62.9365 1463.67 Q57.1264 1463.67 54.0477 1459.08 Q50.9921 1454.48 50.9921 1445.75 Q50.9921 1437 54.0477 1432.42 Q57.1264 1427.81 62.9365 1427.81 Z\" fill=\"#000000\" fill-rule=\"evenodd\" fill-opacity=\"1\" /><path clip-path=\"url(#clip470)\" d=\"M83.0984 1457.12 L87.9827 1457.12 L87.9827 1463 L83.0984 1463 L83.0984 1457.12 Z\" fill=\"#000000\" fill-rule=\"evenodd\" fill-opacity=\"1\" /><path clip-path=\"url(#clip470)\" d=\"M108.168 1431.51 Q104.557 1431.51 102.728 1435.08 Q100.922 1438.62 100.922 1445.75 Q100.922 1452.86 102.728 1456.42 Q104.557 1459.96 108.168 1459.96 Q111.802 1459.96 113.608 1456.42 Q115.436 1452.86 115.436 1445.75 Q115.436 1438.62 113.608 1435.08 Q111.802 1431.51 108.168 1431.51 M108.168 1427.81 Q113.978 1427.81 117.033 1432.42 Q120.112 1437 120.112 1445.75 Q120.112 1454.48 117.033 1459.08 Q113.978 1463.67 108.168 1463.67 Q102.358 1463.67 99.2789 1459.08 Q96.2234 1454.48 96.2234 1445.75 Q96.2234 1437 99.2789 1432.42 Q102.358 1427.81 108.168 1427.81 Z\" fill=\"#000000\" fill-rule=\"evenodd\" fill-opacity=\"1\" /><path clip-path=\"url(#clip470)\" d=\"M138.33 1431.51 Q134.719 1431.51 132.89 1435.08 Q131.084 1438.62 131.084 1445.75 Q131.084 1452.86 132.89 1456.42 Q134.719 1459.96 138.33 1459.96 Q141.964 1459.96 143.769 1456.42 Q145.598 1452.86 145.598 1445.75 Q145.598 1438.62 143.769 1435.08 Q141.964 1431.51 138.33 1431.51 M138.33 1427.81 Q144.14 1427.81 147.195 1432.42 Q150.274 1437 150.274 1445.75 Q150.274 1454.48 147.195 1459.08 Q144.14 1463.67 138.33 1463.67 Q132.519 1463.67 129.441 1459.08 Q126.385 1454.48 126.385 1445.75 Q126.385 1437 129.441 1432.42 Q132.519 1427.81 138.33 1427.81 Z\" fill=\"#000000\" fill-rule=\"evenodd\" fill-opacity=\"1\" /><path clip-path=\"url(#clip470)\" d=\"M63.9319 1092.08 Q60.3208 1092.08 58.4921 1095.64 Q56.6865 1099.19 56.6865 1106.32 Q56.6865 1113.42 58.4921 1116.99 Q60.3208 1120.53 63.9319 1120.53 Q67.5661 1120.53 69.3717 1116.99 Q71.2004 1113.42 71.2004 1106.32 Q71.2004 1099.19 69.3717 1095.64 Q67.5661 1092.08 63.9319 1092.08 M63.9319 1088.38 Q69.742 1088.38 72.7976 1092.98 Q75.8763 1097.57 75.8763 1106.32 Q75.8763 1115.04 72.7976 1119.65 Q69.742 1124.23 63.9319 1124.23 Q58.1217 1124.23 55.043 1119.65 Q51.9875 1115.04 51.9875 1106.32 Q51.9875 1097.57 55.043 1092.98 Q58.1217 1088.38 63.9319 1088.38 Z\" fill=\"#000000\" fill-rule=\"evenodd\" fill-opacity=\"1\" /><path clip-path=\"url(#clip470)\" d=\"M84.0938 1117.68 L88.978 1117.68 L88.978 1123.56 L84.0938 1123.56 L84.0938 1117.68 Z\" fill=\"#000000\" fill-rule=\"evenodd\" fill-opacity=\"1\" /><path clip-path=\"url(#clip470)\" d=\"M103.191 1119.63 L119.51 1119.63 L119.51 1123.56 L97.566 1123.56 L97.566 1119.63 Q100.228 1116.87 104.811 1112.24 Q109.418 1107.59 110.598 1106.25 Q112.844 1103.72 113.723 1101.99 Q114.626 1100.23 114.626 1098.54 Q114.626 1095.78 112.682 1094.05 Q110.76 1092.31 107.658 1092.31 Q105.459 1092.31 103.006 1093.07 Q100.575 1093.84 97.7974 1095.39 L97.7974 1090.67 Q100.621 1089.53 103.075 1088.95 Q105.529 1088.38 107.566 1088.38 Q112.936 1088.38 116.131 1091.06 Q119.325 1093.75 119.325 1098.24 Q119.325 1100.37 118.515 1102.29 Q117.728 1104.19 115.621 1106.78 Q115.043 1107.45 111.941 1110.67 Q108.839 1113.86 103.191 1119.63 Z\" fill=\"#000000\" fill-rule=\"evenodd\" fill-opacity=\"1\" /><path clip-path=\"url(#clip470)\" d=\"M129.371 1089 L147.728 1089 L147.728 1092.94 L133.654 1092.94 L133.654 1101.41 Q134.672 1101.06 135.691 1100.9 Q136.709 1100.71 137.728 1100.71 Q143.515 1100.71 146.894 1103.89 Q150.274 1107.06 150.274 1112.47 Q150.274 1118.05 146.802 1121.15 Q143.33 1124.23 137.01 1124.23 Q134.834 1124.23 132.566 1123.86 Q130.32 1123.49 127.913 1122.75 L127.913 1118.05 Q129.996 1119.19 132.219 1119.74 Q134.441 1120.3 136.918 1120.3 Q140.922 1120.3 143.26 1118.19 Q145.598 1116.08 145.598 1112.47 Q145.598 1108.86 143.26 1106.76 Q140.922 1104.65 136.918 1104.65 Q135.043 1104.65 133.168 1105.07 Q131.316 1105.48 129.371 1106.36 L129.371 1089 Z\" fill=\"#000000\" fill-rule=\"evenodd\" fill-opacity=\"1\" /><path clip-path=\"url(#clip470)\" d=\"M62.9365 752.645 Q59.3254 752.645 57.4967 756.209 Q55.6912 759.751 55.6912 766.881 Q55.6912 773.987 57.4967 777.552 Q59.3254 781.094 62.9365 781.094 Q66.5707 781.094 68.3763 777.552 Q70.205 773.987 70.205 766.881 Q70.205 759.751 68.3763 756.209 Q66.5707 752.645 62.9365 752.645 M62.9365 748.941 Q68.7467 748.941 71.8022 753.547 Q74.8809 758.131 74.8809 766.881 Q74.8809 775.608 71.8022 780.214 Q68.7467 784.797 62.9365 784.797 Q57.1264 784.797 54.0477 780.214 Q50.9921 775.608 50.9921 766.881 Q50.9921 758.131 54.0477 753.547 Q57.1264 748.941 62.9365 748.941 Z\" fill=\"#000000\" fill-rule=\"evenodd\" fill-opacity=\"1\" /><path clip-path=\"url(#clip470)\" d=\"M83.0984 778.246 L87.9827 778.246 L87.9827 784.126 L83.0984 784.126 L83.0984 778.246 Z\" fill=\"#000000\" fill-rule=\"evenodd\" fill-opacity=\"1\" /><path clip-path=\"url(#clip470)\" d=\"M98.2141 749.566 L116.57 749.566 L116.57 753.501 L102.496 753.501 L102.496 761.973 Q103.515 761.626 104.534 761.464 Q105.552 761.279 106.571 761.279 Q112.358 761.279 115.737 764.45 Q119.117 767.621 119.117 773.038 Q119.117 778.617 115.645 781.719 Q112.172 784.797 105.853 784.797 Q103.677 784.797 101.409 784.427 Q99.1632 784.057 96.7558 783.316 L96.7558 778.617 Q98.8391 779.751 101.061 780.307 Q103.284 780.862 105.76 780.862 Q109.765 780.862 112.103 778.756 Q114.441 776.649 114.441 773.038 Q114.441 769.427 112.103 767.321 Q109.765 765.214 105.76 765.214 Q103.885 765.214 102.01 765.631 Q100.159 766.047 98.2141 766.927 L98.2141 749.566 Z\" fill=\"#000000\" fill-rule=\"evenodd\" fill-opacity=\"1\" /><path clip-path=\"url(#clip470)\" d=\"M138.33 752.645 Q134.719 752.645 132.89 756.209 Q131.084 759.751 131.084 766.881 Q131.084 773.987 132.89 777.552 Q134.719 781.094 138.33 781.094 Q141.964 781.094 143.769 777.552 Q145.598 773.987 145.598 766.881 Q145.598 759.751 143.769 756.209 Q141.964 752.645 138.33 752.645 M138.33 748.941 Q144.14 748.941 147.195 753.547 Q150.274 758.131 150.274 766.881 Q150.274 775.608 147.195 780.214 Q144.14 784.797 138.33 784.797 Q132.519 784.797 129.441 780.214 Q126.385 775.608 126.385 766.881 Q126.385 758.131 129.441 753.547 Q132.519 748.941 138.33 748.941 Z\" fill=\"#000000\" fill-rule=\"evenodd\" fill-opacity=\"1\" /><path clip-path=\"url(#clip470)\" d=\"M63.9319 413.21 Q60.3208 413.21 58.4921 416.775 Q56.6865 420.316 56.6865 427.446 Q56.6865 434.552 58.4921 438.117 Q60.3208 441.659 63.9319 441.659 Q67.5661 441.659 69.3717 438.117 Q71.2004 434.552 71.2004 427.446 Q71.2004 420.316 69.3717 416.775 Q67.5661 413.21 63.9319 413.21 M63.9319 409.506 Q69.742 409.506 72.7976 414.113 Q75.8763 418.696 75.8763 427.446 Q75.8763 436.173 72.7976 440.779 Q69.742 445.362 63.9319 445.362 Q58.1217 445.362 55.043 440.779 Q51.9875 436.173 51.9875 427.446 Q51.9875 418.696 55.043 414.113 Q58.1217 409.506 63.9319 409.506 Z\" fill=\"#000000\" fill-rule=\"evenodd\" fill-opacity=\"1\" /><path clip-path=\"url(#clip470)\" d=\"M84.0938 438.812 L88.978 438.812 L88.978 444.691 L84.0938 444.691 L84.0938 438.812 Z\" fill=\"#000000\" fill-rule=\"evenodd\" fill-opacity=\"1\" /><path clip-path=\"url(#clip470)\" d=\"M97.9826 410.131 L120.205 410.131 L120.205 412.122 L107.658 444.691 L102.774 444.691 L114.58 414.066 L97.9826 414.066 L97.9826 410.131 Z\" fill=\"#000000\" fill-rule=\"evenodd\" fill-opacity=\"1\" /><path clip-path=\"url(#clip470)\" d=\"M129.371 410.131 L147.728 410.131 L147.728 414.066 L133.654 414.066 L133.654 422.538 Q134.672 422.191 135.691 422.029 Q136.709 421.844 137.728 421.844 Q143.515 421.844 146.894 425.015 Q150.274 428.187 150.274 433.603 Q150.274 439.182 146.802 442.284 Q143.33 445.362 137.01 445.362 Q134.834 445.362 132.566 444.992 Q130.32 444.622 127.913 443.881 L127.913 439.182 Q129.996 440.316 132.219 440.872 Q134.441 441.427 136.918 441.427 Q140.922 441.427 143.26 439.321 Q145.598 437.214 145.598 433.603 Q145.598 429.992 143.26 427.886 Q140.922 425.779 136.918 425.779 Q135.043 425.779 133.168 426.196 Q131.316 426.613 129.371 427.492 L129.371 410.131 Z\" fill=\"#000000\" fill-rule=\"evenodd\" fill-opacity=\"1\" /><path clip-path=\"url(#clip470)\" d=\"M53.7467 101.321 L61.3856 101.321 L61.3856 74.9555 L53.0754 76.6222 L53.0754 72.3629 L61.3393 70.6963 L66.0152 70.6963 L66.0152 101.321 L73.654 101.321 L73.654 105.256 L53.7467 105.256 L53.7467 101.321 Z\" fill=\"#000000\" fill-rule=\"evenodd\" fill-opacity=\"1\" /><path clip-path=\"url(#clip470)\" d=\"M83.0984 99.3767 L87.9827 99.3767 L87.9827 105.256 L83.0984 105.256 L83.0984 99.3767 Z\" fill=\"#000000\" fill-rule=\"evenodd\" fill-opacity=\"1\" /><path clip-path=\"url(#clip470)\" d=\"M108.168 73.775 Q104.557 73.775 102.728 77.3398 Q100.922 80.8814 100.922 88.011 Q100.922 95.1174 102.728 98.6822 Q104.557 102.224 108.168 102.224 Q111.802 102.224 113.608 98.6822 Q115.436 95.1174 115.436 88.011 Q115.436 80.8814 113.608 77.3398 Q111.802 73.775 108.168 73.775 M108.168 70.0713 Q113.978 70.0713 117.033 74.6777 Q120.112 79.261 120.112 88.011 Q120.112 96.7378 117.033 101.344 Q113.978 105.928 108.168 105.928 Q102.358 105.928 99.2789 101.344 Q96.2234 96.7378 96.2234 88.011 Q96.2234 79.261 99.2789 74.6777 Q102.358 70.0713 108.168 70.0713 Z\" fill=\"#000000\" fill-rule=\"evenodd\" fill-opacity=\"1\" /><path clip-path=\"url(#clip470)\" d=\"M138.33 73.775 Q134.719 73.775 132.89 77.3398 Q131.084 80.8814 131.084 88.011 Q131.084 95.1174 132.89 98.6822 Q134.719 102.224 138.33 102.224 Q141.964 102.224 143.769 98.6822 Q145.598 95.1174 145.598 88.011 Q145.598 80.8814 143.769 77.3398 Q141.964 73.775 138.33 73.775 M138.33 70.0713 Q144.14 70.0713 147.195 74.6777 Q150.274 79.261 150.274 88.011 Q150.274 96.7378 147.195 101.344 Q144.14 105.928 138.33 105.928 Q132.519 105.928 129.441 101.344 Q126.385 96.7378 126.385 88.011 Q126.385 79.261 129.441 74.6777 Q132.519 70.0713 138.33 70.0713 Z\" fill=\"#000000\" fill-rule=\"evenodd\" fill-opacity=\"1\" /><polyline clip-path=\"url(#clip472)\" style=\"stroke:#009af9; stroke-linecap:butt; stroke-linejoin:round; stroke-width:4; stroke-opacity:1; fill:none\" points=\"\n",
       "  247.59,87.9763 268.028,87.9763 288.467,87.9763 308.905,87.9763 329.344,87.9763 349.782,87.9763 370.221,87.9763 390.659,87.9763 411.098,87.9763 431.536,87.9763 \n",
       "  451.975,1445.72 472.413,1445.72 492.852,1445.72 513.29,1445.72 533.729,1445.72 554.167,1445.72 574.606,1445.72 595.044,1445.72 615.483,1445.72 635.921,1445.72 \n",
       "  656.36,1445.72 676.798,1445.72 697.237,1445.72 717.675,1445.72 738.114,1445.72 758.552,1445.72 778.991,1445.72 799.429,1445.72 819.868,1445.72 840.306,1445.72 \n",
       "  860.745,1445.72 881.183,1445.72 901.622,1445.72 922.06,1445.72 942.499,1445.72 962.937,1445.72 983.376,1445.72 1003.81,1445.72 1024.25,1445.72 1044.69,1445.72 \n",
       "  1065.13,1445.72 1085.57,1445.72 1106.01,1445.72 1126.45,1445.72 1146.88,1445.72 1167.32,1445.72 1187.76,1445.72 1208.2,1445.72 1228.64,1445.72 1249.08,1445.72 \n",
       "  1269.51,1445.72 1289.95,1445.72 1310.39,1445.72 1330.83,1445.72 1351.27,1445.72 1371.71,1445.72 1392.15,1445.72 1412.58,1445.72 1433.02,1445.72 1453.46,1445.72 \n",
       "  1473.9,1445.72 1494.34,1445.72 1514.78,1445.72 1535.22,1445.72 1555.65,1445.72 1576.09,1445.72 1596.53,1445.72 1616.97,1445.72 1637.41,1445.72 1657.85,1445.72 \n",
       "  1678.29,1445.72 1698.72,1445.72 1719.16,1445.72 1739.6,1445.72 1760.04,1445.72 1780.48,1445.72 1800.92,1445.72 1821.35,1445.72 1841.79,1445.72 1862.23,1445.72 \n",
       "  1882.67,1445.72 1903.11,1445.72 1923.55,1445.72 1943.99,1445.72 1964.42,1445.72 1984.86,1445.72 2005.3,1445.72 2025.74,1445.72 2046.18,1445.72 2066.62,1445.72 \n",
       "  2087.06,1445.72 2107.49,1445.72 2127.93,1445.72 2148.37,1445.72 2168.81,1445.72 2189.25,1445.72 2209.69,1445.72 2230.12,1445.72 2250.56,1445.72 2271,1445.72 \n",
       "  2291.44,1445.72 \n",
       "  \"/>\n",
       "<path clip-path=\"url(#clip470)\" d=\"\n",
       "M1987.39 198.898 L2280.54 198.898 L2280.54 95.2176 L1987.39 95.2176  Z\n",
       "  \" fill=\"#ffffff\" fill-rule=\"evenodd\" fill-opacity=\"1\"/>\n",
       "<polyline clip-path=\"url(#clip470)\" style=\"stroke:#000000; stroke-linecap:butt; stroke-linejoin:round; stroke-width:4; stroke-opacity:1; fill:none\" points=\"\n",
       "  1987.39,198.898 2280.54,198.898 2280.54,95.2176 1987.39,95.2176 1987.39,198.898 \n",
       "  \"/>\n",
       "<polyline clip-path=\"url(#clip470)\" style=\"stroke:#009af9; stroke-linecap:butt; stroke-linejoin:round; stroke-width:4; stroke-opacity:1; fill:none\" points=\"\n",
       "  2011.46,147.058 2155.89,147.058 \n",
       "  \"/>\n",
       "<path clip-path=\"url(#clip470)\" d=\"M2193.81 166.745 Q2192 171.375 2190.29 172.787 Q2188.58 174.199 2185.71 174.199 L2182.3 174.199 L2182.3 170.634 L2184.8 170.634 Q2186.56 170.634 2187.53 169.8 Q2188.51 168.967 2189.69 165.865 L2190.45 163.921 L2179.97 138.412 L2184.48 138.412 L2192.58 158.689 L2200.68 138.412 L2205.2 138.412 L2193.81 166.745 Z\" fill=\"#000000\" fill-rule=\"evenodd\" fill-opacity=\"1\" /><path clip-path=\"url(#clip470)\" d=\"M2212.49 160.402 L2220.13 160.402 L2220.13 134.037 L2211.82 135.703 L2211.82 131.444 L2220.08 129.778 L2224.76 129.778 L2224.76 160.402 L2232.4 160.402 L2232.4 164.338 L2212.49 164.338 L2212.49 160.402 Z\" fill=\"#000000\" fill-rule=\"evenodd\" fill-opacity=\"1\" /></svg>\n"
      ]
     },
     "execution_count": 30,
     "metadata": {},
     "output_type": "execute_result"
    }
   ],
   "source": [
    "Tz = [f[end] for f in F]\n",
    "plot(params.Thist, Tz)"
   ]
  },
  {
   "cell_type": "code",
   "execution_count": 32,
   "id": "8e0c36c8",
   "metadata": {},
   "outputs": [
    {
     "name": "stderr",
     "output_type": "stream",
     "text": [
      "┌ Info: MeshCat server started. You can open the visualizer by visiting the following URL in your browser:\n",
      "│ http://127.0.0.1:8700\n",
      "└ @ MeshCat /home/brian/.julia/packages/MeshCat/Ax8pH/src/visualizer.jl:73\n"
     ]
    },
    {
     "data": {
      "text/plain": [
       "MeshCat Visualizer with path /meshcat/body at http://127.0.0.1:8700"
      ]
     },
     "execution_count": 32,
     "metadata": {},
     "output_type": "execute_result"
    }
   ],
   "source": [
    "using MeshCat, GeometryBasics, CoordinateTransformations, Rotations, Colors\n",
    "vis = Visualizer()\n",
    "dim = Vec(0.5, 0.7, 0.3)\n",
    "geom  = Rect3D(-dim/2, dim)\n",
    "setobject!(vis[\"body\"], geom, MeshPhongMaterial(color=colorant\"green\"))"
   ]
  },
  {
   "cell_type": "code",
   "execution_count": 33,
   "id": "6aa1f8ca",
   "metadata": {},
   "outputs": [
    {
     "data": {
      "text/html": [
       "    <div style=\"height: 500px; width: 100%; overflow-x: auto; overflow-y: hidden; resize: both\">\n",
       "    <iframe src=\"http://127.0.0.1:8700\" style=\"width: 100%; height: 100%; border: none\"></iframe>\n",
       "    </div>\n"
      ],
      "text/plain": [
       "MeshCat.DisplayedVisualizer(MeshCat.CoreVisualizer(MeshCat.SceneTrees.SceneNode(nothing, nothing, Dict{String, Vector{UInt8}}(), nothing, Dict{String, MeshCat.SceneTrees.SceneNode}(\"meshcat\" => MeshCat.SceneTrees.SceneNode(nothing, nothing, Dict{String, Vector{UInt8}}(), nothing, Dict{String, MeshCat.SceneTrees.SceneNode}(\"body\" => MeshCat.SceneTrees.SceneNode(UInt8[0x83, 0xa6, 0x6f, 0x62, 0x6a, 0x65, 0x63, 0x74, 0x84, 0xaa  …  0x73, 0x68, 0x63, 0x61, 0x74, 0x2f, 0x62, 0x6f, 0x64, 0x79], nothing, Dict{String, Vector{UInt8}}(), nothing, Dict{String, MeshCat.SceneTrees.SceneNode}()))))), Set{Any}(), ip\"127.0.0.1\", 8700))"
      ]
     },
     "execution_count": 33,
     "metadata": {},
     "output_type": "execute_result"
    }
   ],
   "source": [
    "render(vis)"
   ]
  },
  {
   "cell_type": "code",
   "execution_count": 35,
   "id": "c274ae17",
   "metadata": {},
   "outputs": [],
   "source": [
    "anim = MeshCat.Animation(floor(Int,1/params.h))\n",
    "for k = 1:params.N\n",
    "    atframe(anim, k) do\n",
    "        r = X[k][1:3]\n",
    "        q = X[k][4:7]\n",
    "        settransform!(vis[\"body\"], compose(Translation(r), LinearMap(UnitQuaternion(q))))\n",
    "    end\n",
    "end\n",
    "setanimation!(vis, anim)"
   ]
  },
  {
   "cell_type": "code",
   "execution_count": null,
   "id": "791470fa",
   "metadata": {},
   "outputs": [],
   "source": []
  }
 ],
 "metadata": {
  "kernelspec": {
   "display_name": "Julia 1.6.2",
   "language": "julia",
   "name": "julia-1.6"
  },
  "language_info": {
   "file_extension": ".jl",
   "mimetype": "application/julia",
   "name": "julia",
   "version": "1.6.2"
  }
 },
 "nbformat": 4,
 "nbformat_minor": 5
}
