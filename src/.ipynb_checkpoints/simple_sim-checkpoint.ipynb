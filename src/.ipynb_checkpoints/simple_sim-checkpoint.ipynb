{
 "cells": [
  {
   "cell_type": "code",
   "execution_count": 1,
   "id": "10d8f778",
   "metadata": {},
   "outputs": [
    {
     "name": "stderr",
     "output_type": "stream",
     "text": [
      "\u001b[32m\u001b[1m  Activating\u001b[22m\u001b[39m new environment at `~/.julia/dev/MCTrajOpt/src/Project.toml`\n",
      "\u001b[32m\u001b[1m    Updating\u001b[22m\u001b[39m registry at `~/.julia/registries/General`\n",
      "\u001b[32m\u001b[1m  No Changes\u001b[22m\u001b[39m to `~/.julia/dev/MCTrajOpt/src/Project.toml`\n",
      "\u001b[32m\u001b[1m  No Changes\u001b[22m\u001b[39m to `~/.julia/dev/MCTrajOpt/src/Manifest.toml`\n"
     ]
    }
   ],
   "source": [
    "using Pkg; Pkg.activate(@__DIR__); Pkg.instantiate();"
   ]
  },
  {
   "cell_type": "code",
   "execution_count": 2,
   "id": "5eedbada",
   "metadata": {},
   "outputs": [],
   "source": [
    "using LinearAlgebra\n",
    "using ForwardDiff\n",
    "using Test"
   ]
  },
  {
   "cell_type": "code",
   "execution_count": 3,
   "id": "55d70f1c",
   "metadata": {},
   "outputs": [
    {
     "data": {
      "text/plain": [
       "mass_matrix (generic function with 1 method)"
      ]
     },
     "execution_count": 3,
     "metadata": {},
     "output_type": "execute_result"
    }
   ],
   "source": [
    "struct RigidBody\n",
    "    mass::Float64\n",
    "    J::Matrix{Float64}\n",
    "end\n",
    "body = RigidBody(1.0, Diagonal([0.1, 1.0, 1.0]))\n",
    "mass_matrix(body) = [\n",
    "    body.mass 0 0 0 0 0\n",
    "    0 body.mass 0 0 0 0\n",
    "    0 0 body.mass 0 0 0\n",
    "    0 0 0 body.J[1,1] body.J[1,2] body.J[1,3]\n",
    "    0 0 0 body.J[2,1] body.J[2,2] body.J[2,3]\n",
    "    0 0 0 body.J[3,1] body.J[3,2] body.J[3,3]\n",
    "]"
   ]
  },
  {
   "cell_type": "code",
   "execution_count": 4,
   "id": "8bc36b5c",
   "metadata": {},
   "outputs": [
    {
     "data": {
      "text/plain": [
       "SimParams(0.05, 5.0, [0.0, 0.05, 0.1, 0.15, 0.2, 0.25, 0.3, 0.35, 0.4, 0.45  …  4.55, 4.6, 4.65, 4.7, 4.75, 4.8, 4.85, 4.9, 4.95, 5.0], 101)"
      ]
     },
     "execution_count": 4,
     "metadata": {},
     "output_type": "execute_result"
    }
   ],
   "source": [
    "mutable struct SimParams\n",
    "    h::Float64  # 20 Hz\n",
    "    Tf::Float64 # final time (sec)\n",
    "    Thist::Vector{Float64}\n",
    "    N::Int\n",
    "    function SimParams(h = 0.05, Tf = 5.0)\n",
    "        Thist = 0:h:Tf\n",
    "        new(h, Tf, Thist, length(Thist))\n",
    "    end\n",
    "end\n",
    "params = SimParams()"
   ]
  },
  {
   "cell_type": "code",
   "execution_count": 5,
   "id": "5523fe5a",
   "metadata": {},
   "outputs": [
    {
     "data": {
      "text/plain": [
       "D2_Kinv (generic function with 1 method)"
      ]
     },
     "execution_count": 5,
     "metadata": {},
     "output_type": "execute_result"
    }
   ],
   "source": [
    "function hat(ω)\n",
    "    return [0 -ω[3] ω[2];\n",
    "            ω[3] 0 -ω[1];\n",
    "            -ω[2] ω[1] 0]\n",
    "end\n",
    "\n",
    "function L(Q)\n",
    "    [Q[1] -Q[2:4]'; Q[2:4] Q[1]*I + hat(Q[2:4])]\n",
    "end\n",
    "\n",
    "function R(Q)\n",
    "    [Q[1] -Q[2:4]'; Q[2:4] Q[1]*I - hat(Q[2:4])]\n",
    "end\n",
    "\n",
    "H = [zeros(1,3); I];\n",
    "\n",
    "T = Diagonal([1.0; -1; -1; -1])\n",
    "\n",
    "function G(Q)\n",
    "    return L(Q)*H\n",
    "end\n",
    "\n",
    "function Ḡ(q)\n",
    "    Q1 = q[4:7]\n",
    "    Q2 = q[11:14]\n",
    "    \n",
    "    return [I zeros(3,9); zeros(4,3) G(Q1) zeros(4,6); zeros(3,6) I zeros(3,3); zeros(4,9) G(Q2)]\n",
    "end\n",
    "\n",
    "function compose_states(x1,x2)\n",
    "    x3 = x1 + x2\n",
    "    x3[4:7] = L(x1[4:7]) * x2[4:7]\n",
    "    return x3\n",
    "end\n",
    "\n",
    "function errstate_jacobian(x)\n",
    "    q = x[4:7]\n",
    "    G = zeros(eltype(x),7,6)\n",
    "    G[1:3,1:3] .= I(3)\n",
    "    G[4:7,4:6] .= L(q)*H\n",
    "    return G\n",
    "end\n",
    "\n",
    "function kinematics(x,ν)\n",
    "    r = x[1:3]\n",
    "    q = x[4:7]\n",
    "    v = ν[1:3]\n",
    "    ω = ν[4:6]\n",
    "    rdot = v\n",
    "    qdot = 0.5 * L(q) * H * ω\n",
    "    return [rdot; qdot]\n",
    "end\n",
    "\n",
    "function D1K(x,ν)\n",
    "    T_ = promote_type(eltype(x),eltype(ν))\n",
    "    ω = ν[4:6]\n",
    "    G = zeros(T_,7,7)\n",
    "    G[4:7,4:7] .= R(H*ω) / 2\n",
    "    return G\n",
    "end\n",
    "\n",
    "function D2K(x,ν)\n",
    "    T_ = promote_type(eltype(x),eltype(ν))\n",
    "    G = zeros(T_,7,6)\n",
    "    q = x[4:7]\n",
    "    G[1:3,1:3] .= I(3)\n",
    "    G[4:7,4:6] .= L(q) * H / 2\n",
    "    return G\n",
    "end\n",
    "\n",
    "function inv_kinematics(x,xdot)\n",
    "    r = x[1:3]\n",
    "    q = x[4:7]\n",
    "    rdot = xdot[1:3]\n",
    "    qdot = xdot[4:7]\n",
    "    v = rdot\n",
    "    ω = 2H'*L(q)'qdot\n",
    "    return [v; ω]\n",
    "end\n",
    "\n",
    "function D1_Kinv(x,xdot)\n",
    "    T_ = promote_type(eltype(x),eltype(xdot))\n",
    "    J = zeros(T_,6,7)\n",
    "    qdot = xdot[4:7]\n",
    "    J[4:6,4:7] = 2H'R(qdot)*T\n",
    "    return J\n",
    "end\n",
    "\n",
    "function D2_Kinv(x,xdot)\n",
    "    T_ = promote_type(eltype(x),eltype(xdot))\n",
    "    J = zeros(T_,6,7)\n",
    "    q = x[4:7]\n",
    "    J[1:3,1:3] = I(3)\n",
    "    J[4:6,4:7] = 2H'L(q)'\n",
    "    return J\n",
    "end"
   ]
  },
  {
   "cell_type": "code",
   "execution_count": 6,
   "id": "5df08dde",
   "metadata": {},
   "outputs": [
    {
     "data": {
      "text/plain": [
       "D2L_dot (generic function with 1 method)"
      ]
     },
     "execution_count": 6,
     "metadata": {},
     "output_type": "execute_result"
    }
   ],
   "source": [
    "function Lagrangian_vel(body,x,ν)\n",
    "    r = x[1:3]\n",
    "    q = x[4:7]\n",
    "    M = mass_matrix(body)\n",
    "    T = 1/2 * ν'M*ν\n",
    "    U = 0.0\n",
    "    return T - U\n",
    "end\n",
    "function Lagrangian_dot(body,x,xdot)\n",
    "    ν = inv_kinematics(x, xdot)\n",
    "    Lagrangian_vel(body, x, ν)\n",
    "end\n",
    "\n",
    "D1L_vel(body,x,ν) = zeros(7)\n",
    "D2L_vel(body,x,ν) = mass_matrix(body) * ν\n",
    "\n",
    "D1L_dot(body,x,xdot) = D1L_vel(body,x,inv_kinematics(x,xdot)) + D1_Kinv(x,xdot)'D2L_vel(body,x,inv_kinematics(x,xdot))\n",
    "D2L_dot(body,x,xdot) = D2_Kinv(x,xdot)'D2L_vel(body,x,inv_kinematics(x,xdot))"
   ]
  },
  {
   "cell_type": "code",
   "execution_count": 7,
   "id": "0ad1ec20",
   "metadata": {},
   "outputs": [
    {
     "data": {
      "text/plain": [
       "D4Ld_vel (generic function with 1 method)"
      ]
     },
     "execution_count": 7,
     "metadata": {},
     "output_type": "execute_result"
    }
   ],
   "source": [
    "function Ld(body,x1,x2,h)\n",
    "    h * Lagrangian_dot(body, (x1+x2)/2, (x2-x1)/h)\n",
    "end\n",
    "\n",
    "function D1Ld(body,x1,x2,h)\n",
    "    xmid = (x1 + x2)/2\n",
    "    ẋmid = (x2 - x1)/h\n",
    "    h/2 * D1L_dot(body,xmid,ẋmid) - D2L_dot(body,xmid,ẋmid)\n",
    "end\n",
    "\n",
    "function D2Ld(body,x1,x2,h)\n",
    "    xmid = (x1 + x2)/2\n",
    "    ẋmid = (x2 - x1)/h\n",
    "    h/2 * D1L_dot(body,xmid,ẋmid) + D2L_dot(body,xmid,ẋmid)\n",
    "end\n",
    "\n",
    "# Discrete Lagrangian w/ velocities\n",
    "function Ld_vel(body,x1,x2,ν1,ν2,h)\n",
    "    h * Lagrangian_vel(body, (x1+x2)/2, (ν1+ν2)/2)\n",
    "end\n",
    "\n",
    "function D1Ld_vel(body,x1,x2,ν1,ν2,h)\n",
    "    xmid = (x1+x2)/2\n",
    "    νmid = (ν1+ν2)/2\n",
    "    h/2 * D1L_vel(body,xmid,νmid)\n",
    "end\n",
    "D2Ld_vel(body,x1,x2,ν1,ν2,h) = D1Ld_vel(body,x1,x2,ν1,ν2,h)\n",
    "\n",
    "function D3Ld_vel(body,x1,x2,ν1,ν2,h)\n",
    "    xmid = (x1+x2)/2\n",
    "    νmid = (ν1+ν2)/2\n",
    "    h/2 * D2L_vel(body,xmid,νmid)\n",
    "end\n",
    "D4Ld_vel(body,x1,x2,ν1,ν2,h) = D3Ld_vel(body,x1,x2,ν1,ν2,h)"
   ]
  },
  {
   "cell_type": "code",
   "execution_count": 8,
   "id": "73ac0acd",
   "metadata": {},
   "outputs": [
    {
     "data": {
      "text/plain": [
       "\u001b[32m\u001b[1mTest Passed\u001b[22m\u001b[39m"
      ]
     },
     "execution_count": 8,
     "metadata": {},
     "output_type": "execute_result"
    }
   ],
   "source": [
    "r0 = randn(3)\n",
    "q0 = normalize(randn(4))\n",
    "x0 = [r0; q0]\n",
    "ν0 = randn(6)\n",
    "ẋ0 = kinematics(x0,ν0)\n",
    "\n",
    "# Make sure the kinematics work\n",
    "@test inv_kinematics(x0,ẋ0) ≈ ν0\n",
    "@test kinematics(x0,ν0) ≈ ẋ0\n",
    "\n",
    "@test ForwardDiff.jacobian(x->inv_kinematics(x,ẋ0), x0) ≈ D1_Kinv(x0,ẋ0)\n",
    "@test ForwardDiff.jacobian(xdot->inv_kinematics(x0,xdot), ẋ0) ≈ D2_Kinv(x0,ẋ0)"
   ]
  },
  {
   "cell_type": "code",
   "execution_count": 9,
   "id": "0e2ec26a",
   "metadata": {},
   "outputs": [
    {
     "data": {
      "text/plain": [
       "\u001b[32m\u001b[1mTest Passed\u001b[22m\u001b[39m"
      ]
     },
     "execution_count": 9,
     "metadata": {},
     "output_type": "execute_result"
    }
   ],
   "source": [
    "# Test the Lagrangian Derivatives\n",
    "@test D1L_vel(body,x0,ν0) ≈ ForwardDiff.gradient(x->Lagrangian_vel(body,x,ν0), x0)\n",
    "@test D2L_vel(body,x0,ν0) ≈ ForwardDiff.gradient(ν->Lagrangian_vel(body,x0,ν), ν0)\n",
    "\n",
    "@test D1L_dot(body,x0,ẋ0) ≈ ForwardDiff.gradient(x->Lagrangian_dot(body,x,ẋ0),x0)\n",
    "@test D2L_dot(body,x0,ẋ0) ≈ ForwardDiff.gradient(xdot->Lagrangian_dot(body,x0,xdot),ẋ0)"
   ]
  },
  {
   "cell_type": "code",
   "execution_count": 10,
   "id": "f0553eaf",
   "metadata": {},
   "outputs": [
    {
     "data": {
      "text/plain": [
       "\u001b[32m\u001b[1mTest Passed\u001b[22m\u001b[39m"
      ]
     },
     "execution_count": 10,
     "metadata": {},
     "output_type": "execute_result"
    }
   ],
   "source": [
    "# Test the discrete Lagrangian Derivatives\n",
    "x1 = copy(x0)\n",
    "x2 = [randn(3); normalize(randn(4))]\n",
    "@test D1Ld(body,x1,x2,params.h) ≈ ForwardDiff.gradient(x->Ld(body,x,x2,params.h), x1)\n",
    "@test D2Ld(body,x1,x2,params.h) ≈ ForwardDiff.gradient(x->Ld(body,x1,x,params.h), x2)"
   ]
  },
  {
   "cell_type": "code",
   "execution_count": 11,
   "id": "491098b1",
   "metadata": {},
   "outputs": [
    {
     "data": {
      "text/plain": [
       "\u001b[32m\u001b[1mTest Passed\u001b[22m\u001b[39m"
      ]
     },
     "execution_count": 11,
     "metadata": {},
     "output_type": "execute_result"
    }
   ],
   "source": [
    "# Test discrete Lagrangian derivative w/ velocities\n",
    "ν1 = copy(ν0)\n",
    "ν2 = randn(6)\n",
    "@test D1Ld_vel(body,x1,x2,ν1,ν2,params.h) ≈ ForwardDiff.gradient(x->Ld_vel(body,x,x2,ν1,ν2,params.h),x1)\n",
    "@test D2Ld_vel(body,x1,x2,ν1,ν2,params.h) ≈ ForwardDiff.gradient(x->Ld_vel(body,x1,x,ν1,ν2,params.h),x2)\n",
    "@test D3Ld_vel(body,x1,x2,ν1,ν2,params.h) ≈ ForwardDiff.gradient(v->Ld_vel(body,x1,x2,v,ν2,params.h),ν1)\n",
    "@test D4Ld_vel(body,x1,x2,ν1,ν2,params.h) ≈ ForwardDiff.gradient(v->Ld_vel(body,x1,x2,ν1,v,params.h),ν2)"
   ]
  },
  {
   "cell_type": "code",
   "execution_count": 12,
   "id": "e925dfa5",
   "metadata": {},
   "outputs": [
    {
     "data": {
      "text/plain": [
       "D3_DEL (generic function with 2 methods)"
      ]
     },
     "execution_count": 12,
     "metadata": {},
     "output_type": "execute_result"
    }
   ],
   "source": [
    "function DEL(body,x1,x2,x3,F1,F2,h)\n",
    "    errstate_jacobian(x2)' * (D2Ld(body,x1,x2,h) + D1Ld(body,x2,x3,h)) + h*(F1+F2)/2\n",
    "end\n",
    "\n",
    "function D3_DEL(body,x1,x2,x3,F1,F2,h)\n",
    "    ForwardDiff.jacobian(x->DEL(body,x1,x2,x,F1,F2,h),x3) * errstate_jacobian(x3)\n",
    "end\n",
    "\n",
    "function DEL_x(body,x1,x2,x3,ν1,ν2,ν3,p1,p2,F1,F2,h)\n",
    "    xmid1 = (x1+x2)/2\n",
    "    νmid1 = (ν1+ν2)/2\n",
    "    xmid2 = (x3+x2)/2\n",
    "    νmid2 = (ν3+ν2)/2\n",
    "    \n",
    "    errstate_jacobian(x2)' * (D2Ld_vel(body,x1,x2,ν1,ν2,h) + D1Ld_vel(body,x2,x3,ν2,ν3,h) + \n",
    "         ((I-D1K(xmid1,νmid1))'p1 + (-I-D1K(xmid2,νmid2))'p2) / 2)\n",
    "end\n",
    "\n",
    "function DEL_ν(body,x1,x2,x3,ν1,ν2,ν3,p1,p2,F1,F2,h)\n",
    "    xmid1 = (x1+x2)/2\n",
    "    νmid1 = (ν1+ν2)/2\n",
    "    xmid2 = (x3+x2)/2\n",
    "    νmid2 = (ν3+ν2)/2\n",
    "    \n",
    "    D4Ld_vel(body,x1,x2,ν1,ν2,h) + D3Ld_vel(body,x2,x3,ν2,ν3,h) - \n",
    "        (D2K(xmid1,νmid1)'p1 + D2K(xmid2,νmid2)'p2) / 2\n",
    "end\n",
    "\n",
    "function DEL_c(body,x1,x2,x3,ν1,ν2,ν3,p1,p2,F1,F2,h)\n",
    "    xmid1 = (x1+x2)/2\n",
    "    νmid1 = (ν1+ν2)/2\n",
    "    xmid2 = (x3+x2)/2\n",
    "    νmid2 = (ν3+ν2)/2\n",
    "    \n",
    "    c1 = (x2-x1) / h - kinematics(xmid1,νmid1)\n",
    "    c2 = (x3-x2) / h - kinematics(xmid2,νmid2)\n",
    "    return [c1; c2]\n",
    "end\n",
    "\n",
    "function D3_DEL(body,x1,x2,x3,ν1,ν2,ν3,p1,p2,F1,F2,h)\n",
    "    f(z) = begin\n",
    "        x3 = z[1:7]\n",
    "        ν3 = z[7 .+ (1:6)]\n",
    "        p1 = z[13 .+ (1:7)]\n",
    "        p2 = z[20 .+ (1:7)]\n",
    "        [\n",
    "            DEL_x(body,x1,x2,x3,ν1,ν2,ν3,p1,p2,F1,F2,h);\n",
    "            DEL_ν(body,x1,x2,x3,ν1,ν2,ν3,p1,p2,F1,F2,h);\n",
    "            DEL_c(body,x1,x2,x3,ν1,ν2,ν3,p1,p2,F1,F2,h);\n",
    "        ]\n",
    "    end\n",
    "    err_jac = zeros(27,26)\n",
    "    err_jac[1:7,1:6] = errstate_jacobian(x3)\n",
    "    for i = 8:27\n",
    "        err_jac[i,i-1] = 1.0\n",
    "    end\n",
    "    ForwardDiff.jacobian(f,[x3;ν3;p1;p2]) * err_jac\n",
    "end"
   ]
  },
  {
   "cell_type": "code",
   "execution_count": 13,
   "id": "05702ba2",
   "metadata": {},
   "outputs": [
    {
     "data": {
      "text/plain": [
       "6×6 Matrix{Float64}:\n",
       " -20.0    0.0    0.0   0.0        0.0        0.0\n",
       "   0.0  -20.0    0.0   0.0        0.0        0.0\n",
       "   0.0    0.0  -20.0   0.0        0.0        0.0\n",
       "   0.0    0.0    0.0  -3.85447    1.72178    3.50654\n",
       "   0.0    0.0    0.0   0.770286  -8.63481  -35.7319\n",
       "   0.0    0.0    0.0  -3.82975   20.5126   -66.3202"
      ]
     },
     "execution_count": 13,
     "metadata": {},
     "output_type": "execute_result"
    }
   ],
   "source": [
    "F1 = [0,0,0, 0,0,1.0]\n",
    "F2 = [0,0,0, 0,0,1.0]\n",
    "\n",
    "DEL(body,x0,x1,x2,F1,F2,params.h)\n",
    "D3_DEL(body,x0,x1,x2,F1,F2,params.h)"
   ]
  },
  {
   "cell_type": "code",
   "execution_count": 14,
   "id": "36144e89",
   "metadata": {},
   "outputs": [
    {
     "data": {
      "text/plain": [
       "7×6 Matrix{Float64}:\n",
       " 1.0  0.0  0.0   0.0        0.0        0.0\n",
       " 0.0  1.0  0.0   0.0        0.0        0.0\n",
       " 0.0  0.0  1.0   0.0        0.0        0.0\n",
       " 0.0  0.0  0.0   0.332825   0.141287   0.118869\n",
       " 0.0  0.0  0.0  -0.324247   0.118869  -0.141287\n",
       " 0.0  0.0  0.0  -0.118869  -0.324247   0.332825\n",
       " 0.0  0.0  0.0   0.141287  -0.332825  -0.324247"
      ]
     },
     "execution_count": 14,
     "metadata": {},
     "output_type": "execute_result"
    }
   ],
   "source": [
    "D2K(x1,ν1)"
   ]
  },
  {
   "cell_type": "code",
   "execution_count": 15,
   "id": "b5aa5fd9",
   "metadata": {},
   "outputs": [
    {
     "data": {
      "text/plain": [
       "26×26 Matrix{Float64}:\n",
       "  0.0   0.0   0.0    0.0       0.0      …   0.0         0.0         0.0\n",
       "  0.0   0.0   0.0    0.0       0.0          0.0         0.0         0.0\n",
       "  0.0   0.0   0.0    0.0       0.0          0.0         0.0         0.0\n",
       "  0.0   0.0   0.0    0.0       0.0          0.19308     0.334584    0.0239683\n",
       "  0.0   0.0   0.0    0.0       0.0         -0.312012    0.305526    0.390085\n",
       "  0.0   0.0   0.0    0.0       0.0      …   0.364578   -0.190653    0.430125\n",
       "  0.0   0.0   0.0    0.0       0.0          0.0         0.0         0.0\n",
       "  0.0   0.0   0.0    0.0       0.0          0.0         0.0         0.0\n",
       "  0.0   0.0   0.0    0.0       0.0          0.0         0.0         0.0\n",
       "  0.0   0.0   0.0    0.0       0.0         -0.0191724   0.044094   -0.0737715\n",
       "  0.0   0.0   0.0    0.0       0.0      …  -0.044094   -0.0191724   0.0208118\n",
       "  0.0   0.0   0.0    0.0       0.0          0.0737715  -0.0208118  -0.0191724\n",
       "  0.0   0.0   0.0    0.0       0.0          0.0         0.0         0.0\n",
       "  0.0   0.0   0.0    0.0       0.0          0.0         0.0         0.0\n",
       "  0.0   0.0   0.0    0.0       0.0          0.0         0.0         0.0\n",
       "  0.0   0.0   0.0    0.0       0.0      …   0.0         0.0         0.0\n",
       "  0.0   0.0   0.0    0.0       0.0          0.0         0.0         0.0\n",
       "  0.0   0.0   0.0    0.0       0.0          0.0         0.0         0.0\n",
       "  0.0   0.0   0.0    0.0       0.0          0.0         0.0         0.0\n",
       " 20.0   0.0   0.0    0.0       0.0          0.0         0.0         0.0\n",
       "  0.0  20.0   0.0    0.0       0.0      …   0.0         0.0         0.0\n",
       "  0.0   0.0  20.0    0.0       0.0          0.0         0.0         0.0\n",
       "  0.0   0.0   0.0  -10.0224    5.96626      0.0         0.0         0.0\n",
       "  0.0   0.0   0.0   16.0201    2.51059      0.0         0.0         0.0\n",
       "  0.0   0.0   0.0   -2.59554  15.9823       0.0         0.0         0.0\n",
       "  0.0   0.0   0.0    6.02296  10.1377   …   0.0         0.0         0.0"
      ]
     },
     "execution_count": 15,
     "metadata": {},
     "output_type": "execute_result"
    }
   ],
   "source": [
    "p1 = zeros(7)\n",
    "p2 = zeros(7)\n",
    "DEL_x(body,x0,x1,x2,ν0,ν1,ν2,p1,p2,F1,F2,params.h)\n",
    "DEL_ν(body,x0,x1,x2,ν0,ν1,ν2,p1,p2,F1,F2,params.h)\n",
    "DEL_c(body,x0,x1,x2,ν0,ν1,ν2,p1,p2,F1,F2,params.h)\n",
    "[x2;ν2;p2;p2]\n",
    "H = D3_DEL(body,x0,x1,x2,ν0,ν1,ν2,p1,p2,F1,F2,params.h)"
   ]
  },
  {
   "cell_type": "code",
   "execution_count": 158,
   "id": "be87322c",
   "metadata": {},
   "outputs": [
    {
     "data": {
      "text/plain": [
       "19"
      ]
     },
     "execution_count": 158,
     "metadata": {},
     "output_type": "execute_result"
    }
   ],
   "source": []
  },
  {
   "cell_type": "code",
   "execution_count": 16,
   "id": "f9a3dbdf",
   "metadata": {},
   "outputs": [
    {
     "data": {
      "text/plain": [
       "simulate (generic function with 1 method)"
      ]
     },
     "execution_count": 16,
     "metadata": {},
     "output_type": "execute_result"
    }
   ],
   "source": [
    "function simulate(body,params,F,x0; newton_iters=20, tol=1e-12)\n",
    "\n",
    "    X = [zeros(7) for k = 1:params.N]\n",
    "    X[1] = x0\n",
    "    X[2] = x0\n",
    "    for k = 2:params.N-1\n",
    "        h = params.h\n",
    "\n",
    "        # Initial guess\n",
    "        X[k+1] .= X[k]\n",
    "\n",
    "        for i = 1:newton_iters\n",
    "            e = DEL(body,X[k-1],X[k],X[k+1],F[k-1],F[k],h)\n",
    "            if norm(e,Inf) < tol\n",
    "#                 println(\"Step $k took $i Newton steps\")\n",
    "                break\n",
    "            end\n",
    "            H = D3_DEL(body, X[k-1], X[k], X[k+1], F1,F2, h)\n",
    "            \n",
    "            Δx = -(H\\e)\n",
    "            ϕ = Δx[4:6]  # delta rotation\n",
    "            Δr = Δx[1:3]\n",
    "            Δq = [sqrt(1-ϕ'ϕ); ϕ]\n",
    "            X[k+1] = compose_states(X[k+1], [Δr; Δq])\n",
    "            \n",
    "            if i == newton_iters\n",
    "                @warn \"Newton failed to converge with $i iterations at timestep $k\"\n",
    "            end\n",
    "        end\n",
    "\n",
    "    end\n",
    "    return X\n",
    "end"
   ]
  },
  {
   "cell_type": "code",
   "execution_count": 17,
   "id": "a6750a33",
   "metadata": {},
   "outputs": [
    {
     "ename": "LoadError",
     "evalue": "DimensionMismatch(\"A has dimensions (4,4) but B has dimensions (26,26)\")",
     "output_type": "error",
     "traceback": [
      "DimensionMismatch(\"A has dimensions (4,4) but B has dimensions (26,26)\")",
      "",
      "Stacktrace:",
      "  [1] gemm_wrapper!(C::Matrix{Float64}, tA::Char, tB::Char, A::Matrix{Float64}, B::Matrix{Float64}, _add::LinearAlgebra.MulAddMul{true, true, Bool, Bool})",
      "    @ LinearAlgebra /buildworker/worker/package_linux64/build/usr/share/julia/stdlib/v1.6/LinearAlgebra/src/matmul.jl:643",
      "  [2] mul!",
      "    @ /buildworker/worker/package_linux64/build/usr/share/julia/stdlib/v1.6/LinearAlgebra/src/matmul.jl:169 [inlined]",
      "  [3] mul!",
      "    @ /buildworker/worker/package_linux64/build/usr/share/julia/stdlib/v1.6/LinearAlgebra/src/matmul.jl:275 [inlined]",
      "  [4] *(A::Matrix{Float64}, B::Matrix{Float64})",
      "    @ LinearAlgebra /buildworker/worker/package_linux64/build/usr/share/julia/stdlib/v1.6/LinearAlgebra/src/matmul.jl:160",
      "  [5] errstate_jacobian(x::Vector{Float64})",
      "    @ Main ./In[5]:40",
      "  [6] DEL(body::RigidBody, x1::Vector{Float64}, x2::Vector{Float64}, x3::Vector{Float64}, F1::Vector{Float64}, F2::Vector{Float64}, h::Float64)",
      "    @ Main ./In[12]:2",
      "  [7] simulate(body::RigidBody, params::SimParams, F::Vector{Vector{Float64}}, x0::Vector{Float64}; newton_iters::Int64, tol::Float64)",
      "    @ Main ./In[16]:13",
      "  [8] simulate(body::RigidBody, params::SimParams, F::Vector{Vector{Float64}}, x0::Vector{Float64})",
      "    @ Main ./In[16]:3",
      "  [9] top-level scope",
      "    @ In[17]:4",
      " [10] eval",
      "    @ ./boot.jl:360 [inlined]",
      " [11] include_string(mapexpr::typeof(REPL.softscope), mod::Module, code::String, filename::String)",
      "    @ Base ./loading.jl:1116"
     ]
    }
   ],
   "source": [
    "F = [[0,0,0.5*(t<0.5), 0,0,1.0* (t<.5)] for t in params.Thist]  # force in the world frame, torque in body frame?\n",
    "x0 = [0,0,0, sqrt(2)/2, sqrt(2)/2, 0,0]\n",
    "\n",
    "X = simulate(body,params,F,x0);"
   ]
  },
  {
   "cell_type": "code",
   "execution_count": 86,
   "id": "ccdad65d",
   "metadata": {},
   "outputs": [],
   "source": [
    "Xdot = diff(X)\n",
    "V = [inv_kinematics(X[k],Xdot[k]) for k = 1:length(Xdot)];"
   ]
  },
  {
   "cell_type": "code",
   "execution_count": 81,
   "id": "8faea54a",
   "metadata": {},
   "outputs": [
    {
     "data": {
      "image/svg+xml": [
       "<?xml version=\"1.0\" encoding=\"utf-8\"?>\n",
       "<svg xmlns=\"http://www.w3.org/2000/svg\" xmlns:xlink=\"http://www.w3.org/1999/xlink\" width=\"600\" height=\"400\" viewBox=\"0 0 2400 1600\">\n",
       "<defs>\n",
       "  <clipPath id=\"clip120\">\n",
       "    <rect x=\"0\" y=\"0\" width=\"2400\" height=\"1600\"/>\n",
       "  </clipPath>\n",
       "</defs>\n",
       "<path clip-path=\"url(#clip120)\" d=\"\n",
       "M0 1600 L2400 1600 L2400 0 L0 0  Z\n",
       "  \" fill=\"#ffffff\" fill-rule=\"evenodd\" fill-opacity=\"1\"/>\n",
       "<defs>\n",
       "  <clipPath id=\"clip121\">\n",
       "    <rect x=\"480\" y=\"0\" width=\"1681\" height=\"1600\"/>\n",
       "  </clipPath>\n",
       "</defs>\n",
       "<path clip-path=\"url(#clip120)\" d=\"\n",
       "M246.598 1486.45 L2352.76 1486.45 L2352.76 47.2441 L246.598 47.2441  Z\n",
       "  \" fill=\"#ffffff\" fill-rule=\"evenodd\" fill-opacity=\"1\"/>\n",
       "<defs>\n",
       "  <clipPath id=\"clip122\">\n",
       "    <rect x=\"246\" y=\"47\" width=\"2107\" height=\"1440\"/>\n",
       "  </clipPath>\n",
       "</defs>\n",
       "<polyline clip-path=\"url(#clip122)\" style=\"stroke:#000000; stroke-linecap:butt; stroke-linejoin:round; stroke-width:2; stroke-opacity:0.1; fill:none\" points=\"\n",
       "  306.206,1486.45 306.206,47.2441 \n",
       "  \"/>\n",
       "<polyline clip-path=\"url(#clip122)\" style=\"stroke:#000000; stroke-linecap:butt; stroke-linejoin:round; stroke-width:2; stroke-opacity:0.1; fill:none\" points=\"\n",
       "  707.608,1486.45 707.608,47.2441 \n",
       "  \"/>\n",
       "<polyline clip-path=\"url(#clip122)\" style=\"stroke:#000000; stroke-linecap:butt; stroke-linejoin:round; stroke-width:2; stroke-opacity:0.1; fill:none\" points=\"\n",
       "  1109.01,1486.45 1109.01,47.2441 \n",
       "  \"/>\n",
       "<polyline clip-path=\"url(#clip122)\" style=\"stroke:#000000; stroke-linecap:butt; stroke-linejoin:round; stroke-width:2; stroke-opacity:0.1; fill:none\" points=\"\n",
       "  1510.41,1486.45 1510.41,47.2441 \n",
       "  \"/>\n",
       "<polyline clip-path=\"url(#clip122)\" style=\"stroke:#000000; stroke-linecap:butt; stroke-linejoin:round; stroke-width:2; stroke-opacity:0.1; fill:none\" points=\"\n",
       "  1911.82,1486.45 1911.82,47.2441 \n",
       "  \"/>\n",
       "<polyline clip-path=\"url(#clip122)\" style=\"stroke:#000000; stroke-linecap:butt; stroke-linejoin:round; stroke-width:2; stroke-opacity:0.1; fill:none\" points=\"\n",
       "  2313.22,1486.45 2313.22,47.2441 \n",
       "  \"/>\n",
       "<polyline clip-path=\"url(#clip120)\" style=\"stroke:#000000; stroke-linecap:butt; stroke-linejoin:round; stroke-width:4; stroke-opacity:1; fill:none\" points=\"\n",
       "  246.598,1486.45 2352.76,1486.45 \n",
       "  \"/>\n",
       "<polyline clip-path=\"url(#clip120)\" style=\"stroke:#000000; stroke-linecap:butt; stroke-linejoin:round; stroke-width:4; stroke-opacity:1; fill:none\" points=\"\n",
       "  306.206,1486.45 306.206,1467.55 \n",
       "  \"/>\n",
       "<polyline clip-path=\"url(#clip120)\" style=\"stroke:#000000; stroke-linecap:butt; stroke-linejoin:round; stroke-width:4; stroke-opacity:1; fill:none\" points=\"\n",
       "  707.608,1486.45 707.608,1467.55 \n",
       "  \"/>\n",
       "<polyline clip-path=\"url(#clip120)\" style=\"stroke:#000000; stroke-linecap:butt; stroke-linejoin:round; stroke-width:4; stroke-opacity:1; fill:none\" points=\"\n",
       "  1109.01,1486.45 1109.01,1467.55 \n",
       "  \"/>\n",
       "<polyline clip-path=\"url(#clip120)\" style=\"stroke:#000000; stroke-linecap:butt; stroke-linejoin:round; stroke-width:4; stroke-opacity:1; fill:none\" points=\"\n",
       "  1510.41,1486.45 1510.41,1467.55 \n",
       "  \"/>\n",
       "<polyline clip-path=\"url(#clip120)\" style=\"stroke:#000000; stroke-linecap:butt; stroke-linejoin:round; stroke-width:4; stroke-opacity:1; fill:none\" points=\"\n",
       "  1911.82,1486.45 1911.82,1467.55 \n",
       "  \"/>\n",
       "<polyline clip-path=\"url(#clip120)\" style=\"stroke:#000000; stroke-linecap:butt; stroke-linejoin:round; stroke-width:4; stroke-opacity:1; fill:none\" points=\"\n",
       "  2313.22,1486.45 2313.22,1467.55 \n",
       "  \"/>\n",
       "<path clip-path=\"url(#clip120)\" d=\"M306.206 1515.64 Q302.595 1515.64 300.766 1519.2 Q298.961 1522.75 298.961 1529.87 Q298.961 1536.98 300.766 1540.55 Q302.595 1544.09 306.206 1544.09 Q309.84 1544.09 311.646 1540.55 Q313.474 1536.98 313.474 1529.87 Q313.474 1522.75 311.646 1519.2 Q309.84 1515.64 306.206 1515.64 M306.206 1511.93 Q312.016 1511.93 315.072 1516.54 Q318.15 1521.12 318.15 1529.87 Q318.15 1538.6 315.072 1543.21 Q312.016 1547.79 306.206 1547.79 Q300.396 1547.79 297.317 1543.21 Q294.262 1538.6 294.262 1529.87 Q294.262 1521.12 297.317 1516.54 Q300.396 1511.93 306.206 1511.93 Z\" fill=\"#000000\" fill-rule=\"evenodd\" fill-opacity=\"1\" /><path clip-path=\"url(#clip120)\" d=\"M697.99 1543.18 L705.629 1543.18 L705.629 1516.82 L697.319 1518.49 L697.319 1514.23 L705.583 1512.56 L710.259 1512.56 L710.259 1543.18 L717.898 1543.18 L717.898 1547.12 L697.99 1547.12 L697.99 1543.18 Z\" fill=\"#000000\" fill-rule=\"evenodd\" fill-opacity=\"1\" /><path clip-path=\"url(#clip120)\" d=\"M1103.66 1543.18 L1119.98 1543.18 L1119.98 1547.12 L1098.04 1547.12 L1098.04 1543.18 Q1100.7 1540.43 1105.28 1535.8 Q1109.89 1531.15 1111.07 1529.81 Q1113.32 1527.28 1114.2 1525.55 Q1115.1 1523.79 1115.1 1522.1 Q1115.1 1519.34 1113.15 1517.61 Q1111.23 1515.87 1108.13 1515.87 Q1105.93 1515.87 1103.48 1516.63 Q1101.05 1517.4 1098.27 1518.95 L1098.27 1514.23 Q1101.09 1513.09 1103.55 1512.51 Q1106 1511.93 1108.04 1511.93 Q1113.41 1511.93 1116.6 1514.62 Q1119.8 1517.31 1119.8 1521.8 Q1119.8 1523.93 1118.99 1525.85 Q1118.2 1527.74 1116.09 1530.34 Q1115.52 1531.01 1112.41 1534.23 Q1109.31 1537.42 1103.66 1543.18 Z\" fill=\"#000000\" fill-rule=\"evenodd\" fill-opacity=\"1\" /><path clip-path=\"url(#clip120)\" d=\"M1514.66 1528.49 Q1518.02 1529.2 1519.89 1531.47 Q1521.79 1533.74 1521.79 1537.07 Q1521.79 1542.19 1518.27 1544.99 Q1514.75 1547.79 1508.27 1547.79 Q1506.1 1547.79 1503.78 1547.35 Q1501.49 1546.93 1499.04 1546.08 L1499.04 1541.56 Q1500.98 1542.7 1503.3 1543.28 Q1505.61 1543.86 1508.13 1543.86 Q1512.53 1543.86 1514.82 1542.12 Q1517.14 1540.38 1517.14 1537.07 Q1517.14 1534.02 1514.98 1532.31 Q1512.86 1530.57 1509.04 1530.57 L1505.01 1530.57 L1505.01 1526.73 L1509.22 1526.73 Q1512.67 1526.73 1514.5 1525.36 Q1516.33 1523.97 1516.33 1521.38 Q1516.33 1518.72 1514.43 1517.31 Q1512.55 1515.87 1509.04 1515.87 Q1507.11 1515.87 1504.92 1516.29 Q1502.72 1516.7 1500.08 1517.58 L1500.08 1513.42 Q1502.74 1512.68 1505.05 1512.31 Q1507.39 1511.93 1509.45 1511.93 Q1514.78 1511.93 1517.88 1514.37 Q1520.98 1516.77 1520.98 1520.89 Q1520.98 1523.76 1519.34 1525.75 Q1517.69 1527.72 1514.66 1528.49 Z\" fill=\"#000000\" fill-rule=\"evenodd\" fill-opacity=\"1\" /><path clip-path=\"url(#clip120)\" d=\"M1914.82 1516.63 L1903.02 1535.08 L1914.82 1535.08 L1914.82 1516.63 M1913.6 1512.56 L1919.48 1512.56 L1919.48 1535.08 L1924.41 1535.08 L1924.41 1538.97 L1919.48 1538.97 L1919.48 1547.12 L1914.82 1547.12 L1914.82 1538.97 L1899.22 1538.97 L1899.22 1534.46 L1913.6 1512.56 Z\" fill=\"#000000\" fill-rule=\"evenodd\" fill-opacity=\"1\" /><path clip-path=\"url(#clip120)\" d=\"M2303.5 1512.56 L2321.85 1512.56 L2321.85 1516.5 L2307.78 1516.5 L2307.78 1524.97 Q2308.8 1524.62 2309.82 1524.46 Q2310.83 1524.27 2311.85 1524.27 Q2317.64 1524.27 2321.02 1527.44 Q2324.4 1530.62 2324.4 1536.03 Q2324.4 1541.61 2320.93 1544.71 Q2317.45 1547.79 2311.13 1547.79 Q2308.96 1547.79 2306.69 1547.42 Q2304.44 1547.05 2302.04 1546.31 L2302.04 1541.61 Q2304.12 1542.74 2306.34 1543.3 Q2308.57 1543.86 2311.04 1543.86 Q2315.05 1543.86 2317.38 1541.75 Q2319.72 1539.64 2319.72 1536.03 Q2319.72 1532.42 2317.38 1530.31 Q2315.05 1528.21 2311.04 1528.21 Q2309.17 1528.21 2307.29 1528.62 Q2305.44 1529.04 2303.5 1529.92 L2303.5 1512.56 Z\" fill=\"#000000\" fill-rule=\"evenodd\" fill-opacity=\"1\" /><polyline clip-path=\"url(#clip122)\" style=\"stroke:#000000; stroke-linecap:butt; stroke-linejoin:round; stroke-width:2; stroke-opacity:0.1; fill:none\" points=\"\n",
       "  246.598,1445.72 2352.76,1445.72 \n",
       "  \"/>\n",
       "<polyline clip-path=\"url(#clip122)\" style=\"stroke:#000000; stroke-linecap:butt; stroke-linejoin:round; stroke-width:2; stroke-opacity:0.1; fill:none\" points=\"\n",
       "  246.598,1159.88 2352.76,1159.88 \n",
       "  \"/>\n",
       "<polyline clip-path=\"url(#clip122)\" style=\"stroke:#000000; stroke-linecap:butt; stroke-linejoin:round; stroke-width:2; stroke-opacity:0.1; fill:none\" points=\"\n",
       "  246.598,874.046 2352.76,874.046 \n",
       "  \"/>\n",
       "<polyline clip-path=\"url(#clip122)\" style=\"stroke:#000000; stroke-linecap:butt; stroke-linejoin:round; stroke-width:2; stroke-opacity:0.1; fill:none\" points=\"\n",
       "  246.598,588.211 2352.76,588.211 \n",
       "  \"/>\n",
       "<polyline clip-path=\"url(#clip122)\" style=\"stroke:#000000; stroke-linecap:butt; stroke-linejoin:round; stroke-width:2; stroke-opacity:0.1; fill:none\" points=\"\n",
       "  246.598,302.376 2352.76,302.376 \n",
       "  \"/>\n",
       "<polyline clip-path=\"url(#clip120)\" style=\"stroke:#000000; stroke-linecap:butt; stroke-linejoin:round; stroke-width:4; stroke-opacity:1; fill:none\" points=\"\n",
       "  246.598,1486.45 246.598,47.2441 \n",
       "  \"/>\n",
       "<polyline clip-path=\"url(#clip120)\" style=\"stroke:#000000; stroke-linecap:butt; stroke-linejoin:round; stroke-width:4; stroke-opacity:1; fill:none\" points=\"\n",
       "  246.598,1445.72 265.495,1445.72 \n",
       "  \"/>\n",
       "<polyline clip-path=\"url(#clip120)\" style=\"stroke:#000000; stroke-linecap:butt; stroke-linejoin:round; stroke-width:4; stroke-opacity:1; fill:none\" points=\"\n",
       "  246.598,1159.88 265.495,1159.88 \n",
       "  \"/>\n",
       "<polyline clip-path=\"url(#clip120)\" style=\"stroke:#000000; stroke-linecap:butt; stroke-linejoin:round; stroke-width:4; stroke-opacity:1; fill:none\" points=\"\n",
       "  246.598,874.046 265.495,874.046 \n",
       "  \"/>\n",
       "<polyline clip-path=\"url(#clip120)\" style=\"stroke:#000000; stroke-linecap:butt; stroke-linejoin:round; stroke-width:4; stroke-opacity:1; fill:none\" points=\"\n",
       "  246.598,588.211 265.495,588.211 \n",
       "  \"/>\n",
       "<polyline clip-path=\"url(#clip120)\" style=\"stroke:#000000; stroke-linecap:butt; stroke-linejoin:round; stroke-width:4; stroke-opacity:1; fill:none\" points=\"\n",
       "  246.598,302.376 265.495,302.376 \n",
       "  \"/>\n",
       "<path clip-path=\"url(#clip120)\" d=\"M62.9365 1431.51 Q59.3254 1431.51 57.4967 1435.08 Q55.6912 1438.62 55.6912 1445.75 Q55.6912 1452.86 57.4967 1456.42 Q59.3254 1459.96 62.9365 1459.96 Q66.5707 1459.96 68.3763 1456.42 Q70.205 1452.86 70.205 1445.75 Q70.205 1438.62 68.3763 1435.08 Q66.5707 1431.51 62.9365 1431.51 M62.9365 1427.81 Q68.7467 1427.81 71.8022 1432.42 Q74.8809 1437 74.8809 1445.75 Q74.8809 1454.48 71.8022 1459.08 Q68.7467 1463.67 62.9365 1463.67 Q57.1264 1463.67 54.0477 1459.08 Q50.9921 1454.48 50.9921 1445.75 Q50.9921 1437 54.0477 1432.42 Q57.1264 1427.81 62.9365 1427.81 Z\" fill=\"#000000\" fill-rule=\"evenodd\" fill-opacity=\"1\" /><path clip-path=\"url(#clip120)\" d=\"M83.0984 1457.12 L87.9827 1457.12 L87.9827 1463 L83.0984 1463 L83.0984 1457.12 Z\" fill=\"#000000\" fill-rule=\"evenodd\" fill-opacity=\"1\" /><path clip-path=\"url(#clip120)\" d=\"M108.168 1431.51 Q104.557 1431.51 102.728 1435.08 Q100.922 1438.62 100.922 1445.75 Q100.922 1452.86 102.728 1456.42 Q104.557 1459.96 108.168 1459.96 Q111.802 1459.96 113.608 1456.42 Q115.436 1452.86 115.436 1445.75 Q115.436 1438.62 113.608 1435.08 Q111.802 1431.51 108.168 1431.51 M108.168 1427.81 Q113.978 1427.81 117.033 1432.42 Q120.112 1437 120.112 1445.75 Q120.112 1454.48 117.033 1459.08 Q113.978 1463.67 108.168 1463.67 Q102.358 1463.67 99.2789 1459.08 Q96.2234 1454.48 96.2234 1445.75 Q96.2234 1437 99.2789 1432.42 Q102.358 1427.81 108.168 1427.81 Z\" fill=\"#000000\" fill-rule=\"evenodd\" fill-opacity=\"1\" /><path clip-path=\"url(#clip120)\" d=\"M138.33 1431.51 Q134.719 1431.51 132.89 1435.08 Q131.084 1438.62 131.084 1445.75 Q131.084 1452.86 132.89 1456.42 Q134.719 1459.96 138.33 1459.96 Q141.964 1459.96 143.769 1456.42 Q145.598 1452.86 145.598 1445.75 Q145.598 1438.62 143.769 1435.08 Q141.964 1431.51 138.33 1431.51 M138.33 1427.81 Q144.14 1427.81 147.195 1432.42 Q150.274 1437 150.274 1445.75 Q150.274 1454.48 147.195 1459.08 Q144.14 1463.67 138.33 1463.67 Q132.519 1463.67 129.441 1459.08 Q126.385 1454.48 126.385 1445.75 Q126.385 1437 129.441 1432.42 Q132.519 1427.81 138.33 1427.81 Z\" fill=\"#000000\" fill-rule=\"evenodd\" fill-opacity=\"1\" /><path clip-path=\"url(#clip120)\" d=\"M168.491 1431.51 Q164.88 1431.51 163.052 1435.08 Q161.246 1438.62 161.246 1445.75 Q161.246 1452.86 163.052 1456.42 Q164.88 1459.96 168.491 1459.96 Q172.126 1459.96 173.931 1456.42 Q175.76 1452.86 175.76 1445.75 Q175.76 1438.62 173.931 1435.08 Q172.126 1431.51 168.491 1431.51 M168.491 1427.81 Q174.302 1427.81 177.357 1432.42 Q180.436 1437 180.436 1445.75 Q180.436 1454.48 177.357 1459.08 Q174.302 1463.67 168.491 1463.67 Q162.681 1463.67 159.603 1459.08 Q156.547 1454.48 156.547 1445.75 Q156.547 1437 159.603 1432.42 Q162.681 1427.81 168.491 1427.81 Z\" fill=\"#000000\" fill-rule=\"evenodd\" fill-opacity=\"1\" /><path clip-path=\"url(#clip120)\" d=\"M198.653 1431.51 Q195.042 1431.51 193.214 1435.08 Q191.408 1438.62 191.408 1445.75 Q191.408 1452.86 193.214 1456.42 Q195.042 1459.96 198.653 1459.96 Q202.288 1459.96 204.093 1456.42 Q205.922 1452.86 205.922 1445.75 Q205.922 1438.62 204.093 1435.08 Q202.288 1431.51 198.653 1431.51 M198.653 1427.81 Q204.464 1427.81 207.519 1432.42 Q210.598 1437 210.598 1445.75 Q210.598 1454.48 207.519 1459.08 Q204.464 1463.67 198.653 1463.67 Q192.843 1463.67 189.765 1459.08 Q186.709 1454.48 186.709 1445.75 Q186.709 1437 189.765 1432.42 Q192.843 1427.81 198.653 1427.81 Z\" fill=\"#000000\" fill-rule=\"evenodd\" fill-opacity=\"1\" /><path clip-path=\"url(#clip120)\" d=\"M63.9319 1145.68 Q60.3208 1145.68 58.4921 1149.24 Q56.6865 1152.79 56.6865 1159.92 Q56.6865 1167.02 58.4921 1170.59 Q60.3208 1174.13 63.9319 1174.13 Q67.5661 1174.13 69.3717 1170.59 Q71.2004 1167.02 71.2004 1159.92 Q71.2004 1152.79 69.3717 1149.24 Q67.5661 1145.68 63.9319 1145.68 M63.9319 1141.98 Q69.742 1141.98 72.7976 1146.58 Q75.8763 1151.17 75.8763 1159.92 Q75.8763 1168.64 72.7976 1173.25 Q69.742 1177.83 63.9319 1177.83 Q58.1217 1177.83 55.043 1173.25 Q51.9875 1168.64 51.9875 1159.92 Q51.9875 1151.17 55.043 1146.58 Q58.1217 1141.98 63.9319 1141.98 Z\" fill=\"#000000\" fill-rule=\"evenodd\" fill-opacity=\"1\" /><path clip-path=\"url(#clip120)\" d=\"M84.0938 1171.28 L88.978 1171.28 L88.978 1177.16 L84.0938 1177.16 L84.0938 1171.28 Z\" fill=\"#000000\" fill-rule=\"evenodd\" fill-opacity=\"1\" /><path clip-path=\"url(#clip120)\" d=\"M109.163 1145.68 Q105.552 1145.68 103.723 1149.24 Q101.918 1152.79 101.918 1159.92 Q101.918 1167.02 103.723 1170.59 Q105.552 1174.13 109.163 1174.13 Q112.797 1174.13 114.603 1170.59 Q116.432 1167.02 116.432 1159.92 Q116.432 1152.79 114.603 1149.24 Q112.797 1145.68 109.163 1145.68 M109.163 1141.98 Q114.973 1141.98 118.029 1146.58 Q121.107 1151.17 121.107 1159.92 Q121.107 1168.64 118.029 1173.25 Q114.973 1177.83 109.163 1177.83 Q103.353 1177.83 100.274 1173.25 Q97.2187 1168.64 97.2187 1159.92 Q97.2187 1151.17 100.274 1146.58 Q103.353 1141.98 109.163 1141.98 Z\" fill=\"#000000\" fill-rule=\"evenodd\" fill-opacity=\"1\" /><path clip-path=\"url(#clip120)\" d=\"M139.325 1145.68 Q135.714 1145.68 133.885 1149.24 Q132.08 1152.79 132.08 1159.92 Q132.08 1167.02 133.885 1170.59 Q135.714 1174.13 139.325 1174.13 Q142.959 1174.13 144.765 1170.59 Q146.593 1167.02 146.593 1159.92 Q146.593 1152.79 144.765 1149.24 Q142.959 1145.68 139.325 1145.68 M139.325 1141.98 Q145.135 1141.98 148.191 1146.58 Q151.269 1151.17 151.269 1159.92 Q151.269 1168.64 148.191 1173.25 Q145.135 1177.83 139.325 1177.83 Q133.515 1177.83 130.436 1173.25 Q127.381 1168.64 127.381 1159.92 Q127.381 1151.17 130.436 1146.58 Q133.515 1141.98 139.325 1141.98 Z\" fill=\"#000000\" fill-rule=\"evenodd\" fill-opacity=\"1\" /><path clip-path=\"url(#clip120)\" d=\"M163.515 1173.23 L179.834 1173.23 L179.834 1177.16 L157.89 1177.16 L157.89 1173.23 Q160.552 1170.47 165.135 1165.84 Q169.741 1161.19 170.922 1159.85 Q173.167 1157.32 174.047 1155.59 Q174.95 1153.83 174.95 1152.14 Q174.95 1149.38 173.005 1147.65 Q171.084 1145.91 167.982 1145.91 Q165.783 1145.91 163.329 1146.67 Q160.899 1147.44 158.121 1148.99 L158.121 1144.27 Q160.945 1143.13 163.399 1142.55 Q165.853 1141.98 167.89 1141.98 Q173.26 1141.98 176.454 1144.66 Q179.649 1147.35 179.649 1151.84 Q179.649 1153.97 178.839 1155.89 Q178.052 1157.79 175.945 1160.38 Q175.366 1161.05 172.265 1164.27 Q169.163 1167.46 163.515 1173.23 Z\" fill=\"#000000\" fill-rule=\"evenodd\" fill-opacity=\"1\" /><path clip-path=\"url(#clip120)\" d=\"M189.695 1142.6 L208.051 1142.6 L208.051 1146.54 L193.977 1146.54 L193.977 1155.01 Q194.996 1154.66 196.014 1154.5 Q197.033 1154.31 198.052 1154.31 Q203.839 1154.31 207.218 1157.49 Q210.598 1160.66 210.598 1166.07 Q210.598 1171.65 207.126 1174.75 Q203.653 1177.83 197.334 1177.83 Q195.158 1177.83 192.89 1177.46 Q190.644 1177.09 188.237 1176.35 L188.237 1171.65 Q190.32 1172.79 192.542 1173.34 Q194.765 1173.9 197.241 1173.9 Q201.246 1173.9 203.584 1171.79 Q205.922 1169.68 205.922 1166.07 Q205.922 1162.46 203.584 1160.36 Q201.246 1158.25 197.241 1158.25 Q195.366 1158.25 193.491 1158.67 Q191.64 1159.08 189.695 1159.96 L189.695 1142.6 Z\" fill=\"#000000\" fill-rule=\"evenodd\" fill-opacity=\"1\" /><path clip-path=\"url(#clip120)\" d=\"M62.9365 859.845 Q59.3254 859.845 57.4967 863.409 Q55.6912 866.951 55.6912 874.081 Q55.6912 881.187 57.4967 884.752 Q59.3254 888.294 62.9365 888.294 Q66.5707 888.294 68.3763 884.752 Q70.205 881.187 70.205 874.081 Q70.205 866.951 68.3763 863.409 Q66.5707 859.845 62.9365 859.845 M62.9365 856.141 Q68.7467 856.141 71.8022 860.747 Q74.8809 865.331 74.8809 874.081 Q74.8809 882.808 71.8022 887.414 Q68.7467 891.997 62.9365 891.997 Q57.1264 891.997 54.0477 887.414 Q50.9921 882.808 50.9921 874.081 Q50.9921 865.331 54.0477 860.747 Q57.1264 856.141 62.9365 856.141 Z\" fill=\"#000000\" fill-rule=\"evenodd\" fill-opacity=\"1\" /><path clip-path=\"url(#clip120)\" d=\"M83.0984 885.446 L87.9827 885.446 L87.9827 891.326 L83.0984 891.326 L83.0984 885.446 Z\" fill=\"#000000\" fill-rule=\"evenodd\" fill-opacity=\"1\" /><path clip-path=\"url(#clip120)\" d=\"M108.168 859.845 Q104.557 859.845 102.728 863.409 Q100.922 866.951 100.922 874.081 Q100.922 881.187 102.728 884.752 Q104.557 888.294 108.168 888.294 Q111.802 888.294 113.608 884.752 Q115.436 881.187 115.436 874.081 Q115.436 866.951 113.608 863.409 Q111.802 859.845 108.168 859.845 M108.168 856.141 Q113.978 856.141 117.033 860.747 Q120.112 865.331 120.112 874.081 Q120.112 882.808 117.033 887.414 Q113.978 891.997 108.168 891.997 Q102.358 891.997 99.2789 887.414 Q96.2234 882.808 96.2234 874.081 Q96.2234 865.331 99.2789 860.747 Q102.358 856.141 108.168 856.141 Z\" fill=\"#000000\" fill-rule=\"evenodd\" fill-opacity=\"1\" /><path clip-path=\"url(#clip120)\" d=\"M138.33 859.845 Q134.719 859.845 132.89 863.409 Q131.084 866.951 131.084 874.081 Q131.084 881.187 132.89 884.752 Q134.719 888.294 138.33 888.294 Q141.964 888.294 143.769 884.752 Q145.598 881.187 145.598 874.081 Q145.598 866.951 143.769 863.409 Q141.964 859.845 138.33 859.845 M138.33 856.141 Q144.14 856.141 147.195 860.747 Q150.274 865.331 150.274 874.081 Q150.274 882.808 147.195 887.414 Q144.14 891.997 138.33 891.997 Q132.519 891.997 129.441 887.414 Q126.385 882.808 126.385 874.081 Q126.385 865.331 129.441 860.747 Q132.519 856.141 138.33 856.141 Z\" fill=\"#000000\" fill-rule=\"evenodd\" fill-opacity=\"1\" /><path clip-path=\"url(#clip120)\" d=\"M158.538 856.766 L176.894 856.766 L176.894 860.701 L162.82 860.701 L162.82 869.173 Q163.839 868.826 164.857 868.664 Q165.876 868.479 166.894 868.479 Q172.681 868.479 176.061 871.65 Q179.441 874.821 179.441 880.238 Q179.441 885.817 175.968 888.919 Q172.496 891.997 166.177 891.997 Q164.001 891.997 161.732 891.627 Q159.487 891.257 157.08 890.516 L157.08 885.817 Q159.163 886.951 161.385 887.507 Q163.607 888.062 166.084 888.062 Q170.089 888.062 172.427 885.956 Q174.765 883.849 174.765 880.238 Q174.765 876.627 172.427 874.521 Q170.089 872.414 166.084 872.414 Q164.209 872.414 162.334 872.831 Q160.482 873.247 158.538 874.127 L158.538 856.766 Z\" fill=\"#000000\" fill-rule=\"evenodd\" fill-opacity=\"1\" /><path clip-path=\"url(#clip120)\" d=\"M198.653 859.845 Q195.042 859.845 193.214 863.409 Q191.408 866.951 191.408 874.081 Q191.408 881.187 193.214 884.752 Q195.042 888.294 198.653 888.294 Q202.288 888.294 204.093 884.752 Q205.922 881.187 205.922 874.081 Q205.922 866.951 204.093 863.409 Q202.288 859.845 198.653 859.845 M198.653 856.141 Q204.464 856.141 207.519 860.747 Q210.598 865.331 210.598 874.081 Q210.598 882.808 207.519 887.414 Q204.464 891.997 198.653 891.997 Q192.843 891.997 189.765 887.414 Q186.709 882.808 186.709 874.081 Q186.709 865.331 189.765 860.747 Q192.843 856.141 198.653 856.141 Z\" fill=\"#000000\" fill-rule=\"evenodd\" fill-opacity=\"1\" /><path clip-path=\"url(#clip120)\" d=\"M63.9319 574.01 Q60.3208 574.01 58.4921 577.575 Q56.6865 581.116 56.6865 588.246 Q56.6865 595.352 58.4921 598.917 Q60.3208 602.459 63.9319 602.459 Q67.5661 602.459 69.3717 598.917 Q71.2004 595.352 71.2004 588.246 Q71.2004 581.116 69.3717 577.575 Q67.5661 574.01 63.9319 574.01 M63.9319 570.306 Q69.742 570.306 72.7976 574.913 Q75.8763 579.496 75.8763 588.246 Q75.8763 596.973 72.7976 601.579 Q69.742 606.162 63.9319 606.162 Q58.1217 606.162 55.043 601.579 Q51.9875 596.973 51.9875 588.246 Q51.9875 579.496 55.043 574.913 Q58.1217 570.306 63.9319 570.306 Z\" fill=\"#000000\" fill-rule=\"evenodd\" fill-opacity=\"1\" /><path clip-path=\"url(#clip120)\" d=\"M84.0938 599.612 L88.978 599.612 L88.978 605.491 L84.0938 605.491 L84.0938 599.612 Z\" fill=\"#000000\" fill-rule=\"evenodd\" fill-opacity=\"1\" /><path clip-path=\"url(#clip120)\" d=\"M109.163 574.01 Q105.552 574.01 103.723 577.575 Q101.918 581.116 101.918 588.246 Q101.918 595.352 103.723 598.917 Q105.552 602.459 109.163 602.459 Q112.797 602.459 114.603 598.917 Q116.432 595.352 116.432 588.246 Q116.432 581.116 114.603 577.575 Q112.797 574.01 109.163 574.01 M109.163 570.306 Q114.973 570.306 118.029 574.913 Q121.107 579.496 121.107 588.246 Q121.107 596.973 118.029 601.579 Q114.973 606.162 109.163 606.162 Q103.353 606.162 100.274 601.579 Q97.2187 596.973 97.2187 588.246 Q97.2187 579.496 100.274 574.913 Q103.353 570.306 109.163 570.306 Z\" fill=\"#000000\" fill-rule=\"evenodd\" fill-opacity=\"1\" /><path clip-path=\"url(#clip120)\" d=\"M139.325 574.01 Q135.714 574.01 133.885 577.575 Q132.08 581.116 132.08 588.246 Q132.08 595.352 133.885 598.917 Q135.714 602.459 139.325 602.459 Q142.959 602.459 144.765 598.917 Q146.593 595.352 146.593 588.246 Q146.593 581.116 144.765 577.575 Q142.959 574.01 139.325 574.01 M139.325 570.306 Q145.135 570.306 148.191 574.913 Q151.269 579.496 151.269 588.246 Q151.269 596.973 148.191 601.579 Q145.135 606.162 139.325 606.162 Q133.515 606.162 130.436 601.579 Q127.381 596.973 127.381 588.246 Q127.381 579.496 130.436 574.913 Q133.515 570.306 139.325 570.306 Z\" fill=\"#000000\" fill-rule=\"evenodd\" fill-opacity=\"1\" /><path clip-path=\"url(#clip120)\" d=\"M158.306 570.931 L180.528 570.931 L180.528 572.922 L167.982 605.491 L163.098 605.491 L174.903 574.866 L158.306 574.866 L158.306 570.931 Z\" fill=\"#000000\" fill-rule=\"evenodd\" fill-opacity=\"1\" /><path clip-path=\"url(#clip120)\" d=\"M189.695 570.931 L208.051 570.931 L208.051 574.866 L193.977 574.866 L193.977 583.339 Q194.996 582.991 196.014 582.829 Q197.033 582.644 198.052 582.644 Q203.839 582.644 207.218 585.815 Q210.598 588.987 210.598 594.403 Q210.598 599.982 207.126 603.084 Q203.653 606.162 197.334 606.162 Q195.158 606.162 192.89 605.792 Q190.644 605.422 188.237 604.681 L188.237 599.982 Q190.32 601.116 192.542 601.672 Q194.765 602.227 197.241 602.227 Q201.246 602.227 203.584 600.121 Q205.922 598.014 205.922 594.403 Q205.922 590.792 203.584 588.686 Q201.246 586.579 197.241 586.579 Q195.366 586.579 193.491 586.996 Q191.64 587.413 189.695 588.292 L189.695 570.931 Z\" fill=\"#000000\" fill-rule=\"evenodd\" fill-opacity=\"1\" /><path clip-path=\"url(#clip120)\" d=\"M62.9365 288.175 Q59.3254 288.175 57.4967 291.74 Q55.6912 295.281 55.6912 302.411 Q55.6912 309.518 57.4967 313.082 Q59.3254 316.624 62.9365 316.624 Q66.5707 316.624 68.3763 313.082 Q70.205 309.518 70.205 302.411 Q70.205 295.281 68.3763 291.74 Q66.5707 288.175 62.9365 288.175 M62.9365 284.471 Q68.7467 284.471 71.8022 289.078 Q74.8809 293.661 74.8809 302.411 Q74.8809 311.138 71.8022 315.744 Q68.7467 320.328 62.9365 320.328 Q57.1264 320.328 54.0477 315.744 Q50.9921 311.138 50.9921 302.411 Q50.9921 293.661 54.0477 289.078 Q57.1264 284.471 62.9365 284.471 Z\" fill=\"#000000\" fill-rule=\"evenodd\" fill-opacity=\"1\" /><path clip-path=\"url(#clip120)\" d=\"M83.0984 313.777 L87.9827 313.777 L87.9827 319.656 L83.0984 319.656 L83.0984 313.777 Z\" fill=\"#000000\" fill-rule=\"evenodd\" fill-opacity=\"1\" /><path clip-path=\"url(#clip120)\" d=\"M108.168 288.175 Q104.557 288.175 102.728 291.74 Q100.922 295.281 100.922 302.411 Q100.922 309.518 102.728 313.082 Q104.557 316.624 108.168 316.624 Q111.802 316.624 113.608 313.082 Q115.436 309.518 115.436 302.411 Q115.436 295.281 113.608 291.74 Q111.802 288.175 108.168 288.175 M108.168 284.471 Q113.978 284.471 117.033 289.078 Q120.112 293.661 120.112 302.411 Q120.112 311.138 117.033 315.744 Q113.978 320.328 108.168 320.328 Q102.358 320.328 99.2789 315.744 Q96.2234 311.138 96.2234 302.411 Q96.2234 293.661 99.2789 289.078 Q102.358 284.471 108.168 284.471 Z\" fill=\"#000000\" fill-rule=\"evenodd\" fill-opacity=\"1\" /><path clip-path=\"url(#clip120)\" d=\"M129.14 315.721 L136.779 315.721 L136.779 289.356 L128.469 291.022 L128.469 286.763 L136.732 285.096 L141.408 285.096 L141.408 315.721 L149.047 315.721 L149.047 319.656 L129.14 319.656 L129.14 315.721 Z\" fill=\"#000000\" fill-rule=\"evenodd\" fill-opacity=\"1\" /><path clip-path=\"url(#clip120)\" d=\"M168.491 288.175 Q164.88 288.175 163.052 291.74 Q161.246 295.281 161.246 302.411 Q161.246 309.518 163.052 313.082 Q164.88 316.624 168.491 316.624 Q172.126 316.624 173.931 313.082 Q175.76 309.518 175.76 302.411 Q175.76 295.281 173.931 291.74 Q172.126 288.175 168.491 288.175 M168.491 284.471 Q174.302 284.471 177.357 289.078 Q180.436 293.661 180.436 302.411 Q180.436 311.138 177.357 315.744 Q174.302 320.328 168.491 320.328 Q162.681 320.328 159.603 315.744 Q156.547 311.138 156.547 302.411 Q156.547 293.661 159.603 289.078 Q162.681 284.471 168.491 284.471 Z\" fill=\"#000000\" fill-rule=\"evenodd\" fill-opacity=\"1\" /><path clip-path=\"url(#clip120)\" d=\"M198.653 288.175 Q195.042 288.175 193.214 291.74 Q191.408 295.281 191.408 302.411 Q191.408 309.518 193.214 313.082 Q195.042 316.624 198.653 316.624 Q202.288 316.624 204.093 313.082 Q205.922 309.518 205.922 302.411 Q205.922 295.281 204.093 291.74 Q202.288 288.175 198.653 288.175 M198.653 284.471 Q204.464 284.471 207.519 289.078 Q210.598 293.661 210.598 302.411 Q210.598 311.138 207.519 315.744 Q204.464 320.328 198.653 320.328 Q192.843 320.328 189.765 315.744 Q186.709 311.138 186.709 302.411 Q186.709 293.661 189.765 289.078 Q192.843 284.471 198.653 284.471 Z\" fill=\"#000000\" fill-rule=\"evenodd\" fill-opacity=\"1\" /><polyline clip-path=\"url(#clip122)\" style=\"stroke:#009af9; stroke-linecap:butt; stroke-linejoin:round; stroke-width:4; stroke-opacity:1; fill:none\" points=\"\n",
       "  306.206,1445.72 326.276,1445.72 346.346,1445.72 366.416,1445.72 386.486,1445.72 406.557,1445.72 426.627,1445.72 446.697,1445.72 466.767,1445.72 486.837,1445.72 \n",
       "  506.907,1445.72 526.977,1445.72 547.047,1445.72 567.118,1445.72 587.188,1445.72 607.258,1445.72 627.328,1445.72 647.398,1445.72 667.468,1445.72 687.538,1445.72 \n",
       "  707.608,1445.72 727.678,1445.72 747.749,1445.72 767.819,1445.72 787.889,1445.72 807.959,1445.72 828.029,1445.72 848.099,1445.72 868.169,1445.72 888.239,1445.72 \n",
       "  908.31,1445.72 928.38,1445.72 948.45,1445.72 968.52,1445.72 988.59,1445.72 1008.66,1445.72 1028.73,1445.72 1048.8,1445.72 1068.87,1445.72 1088.94,1445.72 \n",
       "  1109.01,1445.72 1129.08,1445.72 1149.15,1445.72 1169.22,1445.72 1189.29,1445.72 1209.36,1445.72 1229.43,1445.72 1249.5,1445.72 1269.57,1445.72 1289.64,1445.72 \n",
       "  1309.71,1445.72 1329.78,1445.72 1349.85,1445.72 1369.92,1445.72 1389.99,1445.72 1410.06,1445.72 1430.13,1445.72 1450.2,1445.72 1470.27,1445.72 1490.34,1445.72 \n",
       "  1510.41,1445.72 1530.48,1445.72 1550.55,1445.72 1570.62,1445.72 1590.69,1445.72 1610.76,1445.72 1630.83,1445.72 1650.9,1445.72 1670.97,1445.72 1691.04,1445.72 \n",
       "  1711.11,1445.72 1731.18,1445.72 1751.25,1445.72 1771.32,1445.72 1791.39,1445.72 1811.46,1445.72 1831.53,1445.72 1851.61,1445.72 1871.68,1445.72 1891.75,1445.72 \n",
       "  1911.82,1445.72 1931.89,1445.72 1951.96,1445.72 1972.03,1445.72 1992.1,1445.72 2012.17,1445.72 2032.24,1445.72 2052.31,1445.72 2072.38,1445.72 2092.45,1445.72 \n",
       "  2112.52,1445.72 2132.59,1445.72 2152.66,1445.72 2172.73,1445.72 2192.8,1445.72 2212.87,1445.72 2232.94,1445.72 2253.01,1445.72 2273.08,1445.72 2293.15,1445.72 \n",
       "  \n",
       "  \"/>\n",
       "<polyline clip-path=\"url(#clip122)\" style=\"stroke:#e26f46; stroke-linecap:butt; stroke-linejoin:round; stroke-width:4; stroke-opacity:1; fill:none\" points=\"\n",
       "  306.206,1445.72 326.276,1445.72 346.346,1445.72 366.416,1445.72 386.486,1445.72 406.557,1445.72 426.627,1445.72 446.697,1445.72 466.767,1445.72 486.837,1445.72 \n",
       "  506.907,1445.72 526.977,1445.72 547.047,1445.72 567.118,1445.72 587.188,1445.72 607.258,1445.72 627.328,1445.72 647.398,1445.72 667.468,1445.72 687.538,1445.72 \n",
       "  707.608,1445.72 727.678,1445.72 747.749,1445.72 767.819,1445.72 787.889,1445.72 807.959,1445.72 828.029,1445.72 848.099,1445.72 868.169,1445.72 888.239,1445.72 \n",
       "  908.31,1445.72 928.38,1445.72 948.45,1445.72 968.52,1445.72 988.59,1445.72 1008.66,1445.72 1028.73,1445.72 1048.8,1445.72 1068.87,1445.72 1088.94,1445.72 \n",
       "  1109.01,1445.72 1129.08,1445.72 1149.15,1445.72 1169.22,1445.72 1189.29,1445.72 1209.36,1445.72 1229.43,1445.72 1249.5,1445.72 1269.57,1445.72 1289.64,1445.72 \n",
       "  1309.71,1445.72 1329.78,1445.72 1349.85,1445.72 1369.92,1445.72 1389.99,1445.72 1410.06,1445.72 1430.13,1445.72 1450.2,1445.72 1470.27,1445.72 1490.34,1445.72 \n",
       "  1510.41,1445.72 1530.48,1445.72 1550.55,1445.72 1570.62,1445.72 1590.69,1445.72 1610.76,1445.72 1630.83,1445.72 1650.9,1445.72 1670.97,1445.72 1691.04,1445.72 \n",
       "  1711.11,1445.72 1731.18,1445.72 1751.25,1445.72 1771.32,1445.72 1791.39,1445.72 1811.46,1445.72 1831.53,1445.72 1851.61,1445.72 1871.68,1445.72 1891.75,1445.72 \n",
       "  1911.82,1445.72 1931.89,1445.72 1951.96,1445.72 1972.03,1445.72 1992.1,1445.72 2012.17,1445.72 2032.24,1445.72 2052.31,1445.72 2072.38,1445.72 2092.45,1445.72 \n",
       "  2112.52,1445.72 2132.59,1445.72 2152.66,1445.72 2172.73,1445.72 2192.8,1445.72 2212.87,1445.72 2232.94,1445.72 2253.01,1445.72 2273.08,1445.72 2293.15,1445.72 \n",
       "  \n",
       "  \"/>\n",
       "<polyline clip-path=\"url(#clip122)\" style=\"stroke:#3da44d; stroke-linecap:butt; stroke-linejoin:round; stroke-width:4; stroke-opacity:1; fill:none\" points=\"\n",
       "  306.206,1445.72 326.276,1302.8 346.346,1159.88 366.416,1016.96 386.486,874.044 406.557,731.125 426.627,588.205 446.697,445.284 466.767,302.362 486.837,159.439 \n",
       "  506.907,87.9763 526.977,87.9763 547.047,87.9763 567.118,87.9763 587.188,87.9763 607.258,87.9763 627.328,87.9763 647.398,87.9763 667.468,87.9763 687.538,87.9763 \n",
       "  707.608,87.9763 727.678,87.9763 747.749,87.9763 767.819,87.9763 787.889,87.9763 807.959,87.9763 828.029,87.9763 848.099,87.9763 868.169,87.9763 888.239,87.9763 \n",
       "  908.31,87.9763 928.38,87.9763 948.45,87.9763 968.52,87.9763 988.59,87.9763 1008.66,87.9763 1028.73,87.9763 1048.8,87.9763 1068.87,87.9763 1088.94,87.9763 \n",
       "  1109.01,87.9763 1129.08,87.9763 1149.15,87.9763 1169.22,87.9763 1189.29,87.9763 1209.36,87.9763 1229.43,87.9763 1249.5,87.9763 1269.57,87.9763 1289.64,87.9763 \n",
       "  1309.71,87.9763 1329.78,87.9763 1349.85,87.9763 1369.92,87.9763 1389.99,87.9763 1410.06,87.9763 1430.13,87.9763 1450.2,87.9763 1470.27,87.9763 1490.34,87.9763 \n",
       "  1510.41,87.9763 1530.48,87.9763 1550.55,87.9763 1570.62,87.9763 1590.69,87.9763 1610.76,87.9763 1630.83,87.9763 1650.9,87.9763 1670.97,87.9763 1691.04,87.9763 \n",
       "  1711.11,87.9763 1731.18,87.9763 1751.25,87.9763 1771.32,87.9763 1791.39,87.9763 1811.46,87.9763 1831.53,87.9763 1851.61,87.9763 1871.68,87.9763 1891.75,87.9763 \n",
       "  1911.82,87.9763 1931.89,87.9763 1951.96,87.9763 1972.03,87.9763 1992.1,87.9763 2012.17,87.9763 2032.24,87.9763 2052.31,87.9763 2072.38,87.9763 2092.45,87.9763 \n",
       "  2112.52,87.9763 2132.59,87.9763 2152.66,87.9763 2172.73,87.9763 2192.8,87.9763 2212.87,87.9763 2232.94,87.9763 2253.01,87.9763 2273.08,87.9763 2293.15,87.9763 \n",
       "  \n",
       "  \"/>\n",
       "<path clip-path=\"url(#clip120)\" d=\"\n",
       "M1995.52 302.578 L2282.55 302.578 L2282.55 95.2176 L1995.52 95.2176  Z\n",
       "  \" fill=\"#ffffff\" fill-rule=\"evenodd\" fill-opacity=\"1\"/>\n",
       "<polyline clip-path=\"url(#clip120)\" style=\"stroke:#000000; stroke-linecap:butt; stroke-linejoin:round; stroke-width:4; stroke-opacity:1; fill:none\" points=\"\n",
       "  1995.52,302.578 2282.55,302.578 2282.55,95.2176 1995.52,95.2176 1995.52,302.578 \n",
       "  \"/>\n",
       "<polyline clip-path=\"url(#clip120)\" style=\"stroke:#009af9; stroke-linecap:butt; stroke-linejoin:round; stroke-width:4; stroke-opacity:1; fill:none\" points=\"\n",
       "  2018.93,147.058 2159.34,147.058 \n",
       "  \"/>\n",
       "<path clip-path=\"url(#clip120)\" d=\"M2196.58 166.745 Q2194.78 171.375 2193.06 172.787 Q2191.35 174.199 2188.48 174.199 L2185.08 174.199 L2185.08 170.634 L2187.58 170.634 Q2189.34 170.634 2190.31 169.8 Q2191.28 168.967 2192.46 165.865 L2193.22 163.921 L2182.74 138.412 L2187.25 138.412 L2195.35 158.689 L2203.46 138.412 L2207.97 138.412 L2196.58 166.745 Z\" fill=\"#000000\" fill-rule=\"evenodd\" fill-opacity=\"1\" /><path clip-path=\"url(#clip120)\" d=\"M2215.26 160.402 L2222.9 160.402 L2222.9 134.037 L2214.59 135.703 L2214.59 131.444 L2222.85 129.778 L2227.53 129.778 L2227.53 160.402 L2235.17 160.402 L2235.17 164.338 L2215.26 164.338 L2215.26 160.402 Z\" fill=\"#000000\" fill-rule=\"evenodd\" fill-opacity=\"1\" /><polyline clip-path=\"url(#clip120)\" style=\"stroke:#e26f46; stroke-linecap:butt; stroke-linejoin:round; stroke-width:4; stroke-opacity:1; fill:none\" points=\"\n",
       "  2018.93,198.898 2159.34,198.898 \n",
       "  \"/>\n",
       "<path clip-path=\"url(#clip120)\" d=\"M2196.58 218.585 Q2194.78 223.215 2193.06 224.627 Q2191.35 226.039 2188.48 226.039 L2185.08 226.039 L2185.08 222.474 L2187.58 222.474 Q2189.34 222.474 2190.31 221.64 Q2191.28 220.807 2192.46 217.705 L2193.22 215.761 L2182.74 190.252 L2187.25 190.252 L2195.35 210.529 L2203.46 190.252 L2207.97 190.252 L2196.58 218.585 Z\" fill=\"#000000\" fill-rule=\"evenodd\" fill-opacity=\"1\" /><path clip-path=\"url(#clip120)\" d=\"M2218.48 212.242 L2234.8 212.242 L2234.8 216.178 L2212.85 216.178 L2212.85 212.242 Q2215.52 209.488 2220.1 204.858 Q2224.71 200.205 2225.89 198.863 Q2228.13 196.34 2229.01 194.604 Q2229.91 192.844 2229.91 191.155 Q2229.91 188.4 2227.97 186.664 Q2226.05 184.928 2222.95 184.928 Q2220.75 184.928 2218.29 185.692 Q2215.86 186.455 2213.09 188.006 L2213.09 183.284 Q2215.91 182.15 2218.36 181.571 Q2220.82 180.993 2222.85 180.993 Q2228.22 180.993 2231.42 183.678 Q2234.61 186.363 2234.61 190.854 Q2234.61 192.983 2233.8 194.905 Q2233.02 196.803 2230.91 199.395 Q2230.33 200.067 2227.23 203.284 Q2224.13 206.479 2218.48 212.242 Z\" fill=\"#000000\" fill-rule=\"evenodd\" fill-opacity=\"1\" /><polyline clip-path=\"url(#clip120)\" style=\"stroke:#3da44d; stroke-linecap:butt; stroke-linejoin:round; stroke-width:4; stroke-opacity:1; fill:none\" points=\"\n",
       "  2018.93,250.738 2159.34,250.738 \n",
       "  \"/>\n",
       "<path clip-path=\"url(#clip120)\" d=\"M2196.58 270.425 Q2194.78 275.055 2193.06 276.467 Q2191.35 277.879 2188.48 277.879 L2185.08 277.879 L2185.08 274.314 L2187.58 274.314 Q2189.34 274.314 2190.31 273.48 Q2191.28 272.647 2192.46 269.545 L2193.22 267.601 L2182.74 242.092 L2187.25 242.092 L2195.35 262.369 L2203.46 242.092 L2207.97 242.092 L2196.58 270.425 Z\" fill=\"#000000\" fill-rule=\"evenodd\" fill-opacity=\"1\" /><path clip-path=\"url(#clip120)\" d=\"M2228.62 249.383 Q2231.97 250.101 2233.85 252.369 Q2235.75 254.638 2235.75 257.971 Q2235.75 263.087 2232.23 265.888 Q2228.71 268.689 2222.23 268.689 Q2220.05 268.689 2217.74 268.249 Q2215.45 267.832 2212.99 266.976 L2212.99 262.462 Q2214.94 263.596 2217.25 264.175 Q2219.57 264.754 2222.09 264.754 Q2226.49 264.754 2228.78 263.018 Q2231.09 261.281 2231.09 257.971 Q2231.09 254.916 2228.94 253.203 Q2226.81 251.467 2222.99 251.467 L2218.96 251.467 L2218.96 247.624 L2223.18 247.624 Q2226.63 247.624 2228.46 246.258 Q2230.28 244.87 2230.28 242.277 Q2230.28 239.615 2228.39 238.203 Q2226.51 236.768 2222.99 236.768 Q2221.07 236.768 2218.87 237.184 Q2216.67 237.601 2214.03 238.481 L2214.03 234.314 Q2216.7 233.573 2219.01 233.203 Q2221.35 232.833 2223.41 232.833 Q2228.73 232.833 2231.84 235.263 Q2234.94 237.67 2234.94 241.791 Q2234.94 244.661 2233.29 246.652 Q2231.65 248.62 2228.62 249.383 Z\" fill=\"#000000\" fill-rule=\"evenodd\" fill-opacity=\"1\" /></svg>\n"
      ]
     },
     "execution_count": 81,
     "metadata": {},
     "output_type": "execute_result"
    }
   ],
   "source": [
    "using Plots\n",
    "Xhist = hcat(X...)'\n",
    "Vhist = hcat(V...)'\n",
    "plot(Xhist[:,1:3])\n",
    "plot(params.Thist[1:end-1], Vhist[:,4:6])"
   ]
  },
  {
   "cell_type": "code",
   "execution_count": 82,
   "id": "be2e27f9",
   "metadata": {},
   "outputs": [
    {
     "data": {
      "image/svg+xml": [
       "<?xml version=\"1.0\" encoding=\"utf-8\"?>\n",
       "<svg xmlns=\"http://www.w3.org/2000/svg\" xmlns:xlink=\"http://www.w3.org/1999/xlink\" width=\"600\" height=\"400\" viewBox=\"0 0 2400 1600\">\n",
       "<defs>\n",
       "  <clipPath id=\"clip160\">\n",
       "    <rect x=\"0\" y=\"0\" width=\"2400\" height=\"1600\"/>\n",
       "  </clipPath>\n",
       "</defs>\n",
       "<path clip-path=\"url(#clip160)\" d=\"\n",
       "M0 1600 L2400 1600 L2400 0 L0 0  Z\n",
       "  \" fill=\"#ffffff\" fill-rule=\"evenodd\" fill-opacity=\"1\"/>\n",
       "<defs>\n",
       "  <clipPath id=\"clip161\">\n",
       "    <rect x=\"480\" y=\"0\" width=\"1681\" height=\"1600\"/>\n",
       "  </clipPath>\n",
       "</defs>\n",
       "<path clip-path=\"url(#clip160)\" d=\"\n",
       "M186.274 1486.45 L2352.76 1486.45 L2352.76 47.2441 L186.274 47.2441  Z\n",
       "  \" fill=\"#ffffff\" fill-rule=\"evenodd\" fill-opacity=\"1\"/>\n",
       "<defs>\n",
       "  <clipPath id=\"clip162\">\n",
       "    <rect x=\"186\" y=\"47\" width=\"2167\" height=\"1440\"/>\n",
       "  </clipPath>\n",
       "</defs>\n",
       "<polyline clip-path=\"url(#clip162)\" style=\"stroke:#000000; stroke-linecap:butt; stroke-linejoin:round; stroke-width:2; stroke-opacity:0.1; fill:none\" points=\"\n",
       "  247.59,1486.45 247.59,47.2441 \n",
       "  \"/>\n",
       "<polyline clip-path=\"url(#clip162)\" style=\"stroke:#000000; stroke-linecap:butt; stroke-linejoin:round; stroke-width:2; stroke-opacity:0.1; fill:none\" points=\"\n",
       "  656.36,1486.45 656.36,47.2441 \n",
       "  \"/>\n",
       "<polyline clip-path=\"url(#clip162)\" style=\"stroke:#000000; stroke-linecap:butt; stroke-linejoin:round; stroke-width:2; stroke-opacity:0.1; fill:none\" points=\"\n",
       "  1065.13,1486.45 1065.13,47.2441 \n",
       "  \"/>\n",
       "<polyline clip-path=\"url(#clip162)\" style=\"stroke:#000000; stroke-linecap:butt; stroke-linejoin:round; stroke-width:2; stroke-opacity:0.1; fill:none\" points=\"\n",
       "  1473.9,1486.45 1473.9,47.2441 \n",
       "  \"/>\n",
       "<polyline clip-path=\"url(#clip162)\" style=\"stroke:#000000; stroke-linecap:butt; stroke-linejoin:round; stroke-width:2; stroke-opacity:0.1; fill:none\" points=\"\n",
       "  1882.67,1486.45 1882.67,47.2441 \n",
       "  \"/>\n",
       "<polyline clip-path=\"url(#clip162)\" style=\"stroke:#000000; stroke-linecap:butt; stroke-linejoin:round; stroke-width:2; stroke-opacity:0.1; fill:none\" points=\"\n",
       "  2291.44,1486.45 2291.44,47.2441 \n",
       "  \"/>\n",
       "<polyline clip-path=\"url(#clip160)\" style=\"stroke:#000000; stroke-linecap:butt; stroke-linejoin:round; stroke-width:4; stroke-opacity:1; fill:none\" points=\"\n",
       "  186.274,1486.45 2352.76,1486.45 \n",
       "  \"/>\n",
       "<polyline clip-path=\"url(#clip160)\" style=\"stroke:#000000; stroke-linecap:butt; stroke-linejoin:round; stroke-width:4; stroke-opacity:1; fill:none\" points=\"\n",
       "  247.59,1486.45 247.59,1467.55 \n",
       "  \"/>\n",
       "<polyline clip-path=\"url(#clip160)\" style=\"stroke:#000000; stroke-linecap:butt; stroke-linejoin:round; stroke-width:4; stroke-opacity:1; fill:none\" points=\"\n",
       "  656.36,1486.45 656.36,1467.55 \n",
       "  \"/>\n",
       "<polyline clip-path=\"url(#clip160)\" style=\"stroke:#000000; stroke-linecap:butt; stroke-linejoin:round; stroke-width:4; stroke-opacity:1; fill:none\" points=\"\n",
       "  1065.13,1486.45 1065.13,1467.55 \n",
       "  \"/>\n",
       "<polyline clip-path=\"url(#clip160)\" style=\"stroke:#000000; stroke-linecap:butt; stroke-linejoin:round; stroke-width:4; stroke-opacity:1; fill:none\" points=\"\n",
       "  1473.9,1486.45 1473.9,1467.55 \n",
       "  \"/>\n",
       "<polyline clip-path=\"url(#clip160)\" style=\"stroke:#000000; stroke-linecap:butt; stroke-linejoin:round; stroke-width:4; stroke-opacity:1; fill:none\" points=\"\n",
       "  1882.67,1486.45 1882.67,1467.55 \n",
       "  \"/>\n",
       "<polyline clip-path=\"url(#clip160)\" style=\"stroke:#000000; stroke-linecap:butt; stroke-linejoin:round; stroke-width:4; stroke-opacity:1; fill:none\" points=\"\n",
       "  2291.44,1486.45 2291.44,1467.55 \n",
       "  \"/>\n",
       "<path clip-path=\"url(#clip160)\" d=\"M247.59 1515.64 Q243.978 1515.64 242.15 1519.2 Q240.344 1522.75 240.344 1529.87 Q240.344 1536.98 242.15 1540.55 Q243.978 1544.09 247.59 1544.09 Q251.224 1544.09 253.029 1540.55 Q254.858 1536.98 254.858 1529.87 Q254.858 1522.75 253.029 1519.2 Q251.224 1515.64 247.59 1515.64 M247.59 1511.93 Q253.4 1511.93 256.455 1516.54 Q259.534 1521.12 259.534 1529.87 Q259.534 1538.6 256.455 1543.21 Q253.4 1547.79 247.59 1547.79 Q241.779 1547.79 238.701 1543.21 Q235.645 1538.6 235.645 1529.87 Q235.645 1521.12 238.701 1516.54 Q241.779 1511.93 247.59 1511.93 Z\" fill=\"#000000\" fill-rule=\"evenodd\" fill-opacity=\"1\" /><path clip-path=\"url(#clip160)\" d=\"M646.742 1543.18 L654.381 1543.18 L654.381 1516.82 L646.07 1518.49 L646.07 1514.23 L654.334 1512.56 L659.01 1512.56 L659.01 1543.18 L666.649 1543.18 L666.649 1547.12 L646.742 1547.12 L646.742 1543.18 Z\" fill=\"#000000\" fill-rule=\"evenodd\" fill-opacity=\"1\" /><path clip-path=\"url(#clip160)\" d=\"M1059.78 1543.18 L1076.1 1543.18 L1076.1 1547.12 L1054.16 1547.12 L1054.16 1543.18 Q1056.82 1540.43 1061.4 1535.8 Q1066.01 1531.15 1067.19 1529.81 Q1069.44 1527.28 1070.32 1525.55 Q1071.22 1523.79 1071.22 1522.1 Q1071.22 1519.34 1069.27 1517.61 Q1067.35 1515.87 1064.25 1515.87 Q1062.05 1515.87 1059.6 1516.63 Q1057.17 1517.4 1054.39 1518.95 L1054.39 1514.23 Q1057.21 1513.09 1059.67 1512.51 Q1062.12 1511.93 1064.16 1511.93 Q1069.53 1511.93 1072.72 1514.62 Q1075.92 1517.31 1075.92 1521.8 Q1075.92 1523.93 1075.11 1525.85 Q1074.32 1527.74 1072.21 1530.34 Q1071.63 1531.01 1068.53 1534.23 Q1065.43 1537.42 1059.78 1543.18 Z\" fill=\"#000000\" fill-rule=\"evenodd\" fill-opacity=\"1\" /><path clip-path=\"url(#clip160)\" d=\"M1478.15 1528.49 Q1481.5 1529.2 1483.38 1531.47 Q1485.28 1533.74 1485.28 1537.07 Q1485.28 1542.19 1481.76 1544.99 Q1478.24 1547.79 1471.76 1547.79 Q1469.58 1547.79 1467.27 1547.35 Q1464.98 1546.93 1462.52 1546.08 L1462.52 1541.56 Q1464.47 1542.7 1466.78 1543.28 Q1469.1 1543.86 1471.62 1543.86 Q1476.02 1543.86 1478.31 1542.12 Q1480.62 1540.38 1480.62 1537.07 Q1480.62 1534.02 1478.47 1532.31 Q1476.34 1530.57 1472.52 1530.57 L1468.49 1530.57 L1468.49 1526.73 L1472.71 1526.73 Q1476.16 1526.73 1477.99 1525.36 Q1479.81 1523.97 1479.81 1521.38 Q1479.81 1518.72 1477.92 1517.31 Q1476.04 1515.87 1472.52 1515.87 Q1470.6 1515.87 1468.4 1516.29 Q1466.2 1516.7 1463.56 1517.58 L1463.56 1513.42 Q1466.23 1512.68 1468.54 1512.31 Q1470.88 1511.93 1472.94 1511.93 Q1478.26 1511.93 1481.37 1514.37 Q1484.47 1516.77 1484.47 1520.89 Q1484.47 1523.76 1482.82 1525.75 Q1481.18 1527.72 1478.15 1528.49 Z\" fill=\"#000000\" fill-rule=\"evenodd\" fill-opacity=\"1\" /><path clip-path=\"url(#clip160)\" d=\"M1885.68 1516.63 L1873.87 1535.08 L1885.68 1535.08 L1885.68 1516.63 M1884.45 1512.56 L1890.33 1512.56 L1890.33 1535.08 L1895.26 1535.08 L1895.26 1538.97 L1890.33 1538.97 L1890.33 1547.12 L1885.68 1547.12 L1885.68 1538.97 L1870.08 1538.97 L1870.08 1534.46 L1884.45 1512.56 Z\" fill=\"#000000\" fill-rule=\"evenodd\" fill-opacity=\"1\" /><path clip-path=\"url(#clip160)\" d=\"M2281.72 1512.56 L2300.07 1512.56 L2300.07 1516.5 L2286 1516.5 L2286 1524.97 Q2287.02 1524.62 2288.04 1524.46 Q2289.06 1524.27 2290.07 1524.27 Q2295.86 1524.27 2299.24 1527.44 Q2302.62 1530.62 2302.62 1536.03 Q2302.62 1541.61 2299.15 1544.71 Q2295.68 1547.79 2289.36 1547.79 Q2287.18 1547.79 2284.91 1547.42 Q2282.67 1547.05 2280.26 1546.31 L2280.26 1541.61 Q2282.34 1542.74 2284.57 1543.3 Q2286.79 1543.86 2289.26 1543.86 Q2293.27 1543.86 2295.61 1541.75 Q2297.94 1539.64 2297.94 1536.03 Q2297.94 1532.42 2295.61 1530.31 Q2293.27 1528.21 2289.26 1528.21 Q2287.39 1528.21 2285.51 1528.62 Q2283.66 1529.04 2281.72 1529.92 L2281.72 1512.56 Z\" fill=\"#000000\" fill-rule=\"evenodd\" fill-opacity=\"1\" /><polyline clip-path=\"url(#clip162)\" style=\"stroke:#000000; stroke-linecap:butt; stroke-linejoin:round; stroke-width:2; stroke-opacity:0.1; fill:none\" points=\"\n",
       "  186.274,1445.72 2352.76,1445.72 \n",
       "  \"/>\n",
       "<polyline clip-path=\"url(#clip162)\" style=\"stroke:#000000; stroke-linecap:butt; stroke-linejoin:round; stroke-width:2; stroke-opacity:0.1; fill:none\" points=\"\n",
       "  186.274,1106.28 2352.76,1106.28 \n",
       "  \"/>\n",
       "<polyline clip-path=\"url(#clip162)\" style=\"stroke:#000000; stroke-linecap:butt; stroke-linejoin:round; stroke-width:2; stroke-opacity:0.1; fill:none\" points=\"\n",
       "  186.274,766.846 2352.76,766.846 \n",
       "  \"/>\n",
       "<polyline clip-path=\"url(#clip162)\" style=\"stroke:#000000; stroke-linecap:butt; stroke-linejoin:round; stroke-width:2; stroke-opacity:0.1; fill:none\" points=\"\n",
       "  186.274,427.411 2352.76,427.411 \n",
       "  \"/>\n",
       "<polyline clip-path=\"url(#clip162)\" style=\"stroke:#000000; stroke-linecap:butt; stroke-linejoin:round; stroke-width:2; stroke-opacity:0.1; fill:none\" points=\"\n",
       "  186.274,87.9763 2352.76,87.9763 \n",
       "  \"/>\n",
       "<polyline clip-path=\"url(#clip160)\" style=\"stroke:#000000; stroke-linecap:butt; stroke-linejoin:round; stroke-width:4; stroke-opacity:1; fill:none\" points=\"\n",
       "  186.274,1486.45 186.274,47.2441 \n",
       "  \"/>\n",
       "<polyline clip-path=\"url(#clip160)\" style=\"stroke:#000000; stroke-linecap:butt; stroke-linejoin:round; stroke-width:4; stroke-opacity:1; fill:none\" points=\"\n",
       "  186.274,1445.72 205.172,1445.72 \n",
       "  \"/>\n",
       "<polyline clip-path=\"url(#clip160)\" style=\"stroke:#000000; stroke-linecap:butt; stroke-linejoin:round; stroke-width:4; stroke-opacity:1; fill:none\" points=\"\n",
       "  186.274,1106.28 205.172,1106.28 \n",
       "  \"/>\n",
       "<polyline clip-path=\"url(#clip160)\" style=\"stroke:#000000; stroke-linecap:butt; stroke-linejoin:round; stroke-width:4; stroke-opacity:1; fill:none\" points=\"\n",
       "  186.274,766.846 205.172,766.846 \n",
       "  \"/>\n",
       "<polyline clip-path=\"url(#clip160)\" style=\"stroke:#000000; stroke-linecap:butt; stroke-linejoin:round; stroke-width:4; stroke-opacity:1; fill:none\" points=\"\n",
       "  186.274,427.411 205.172,427.411 \n",
       "  \"/>\n",
       "<polyline clip-path=\"url(#clip160)\" style=\"stroke:#000000; stroke-linecap:butt; stroke-linejoin:round; stroke-width:4; stroke-opacity:1; fill:none\" points=\"\n",
       "  186.274,87.9763 205.172,87.9763 \n",
       "  \"/>\n",
       "<path clip-path=\"url(#clip160)\" d=\"M62.9365 1431.51 Q59.3254 1431.51 57.4967 1435.08 Q55.6912 1438.62 55.6912 1445.75 Q55.6912 1452.86 57.4967 1456.42 Q59.3254 1459.96 62.9365 1459.96 Q66.5707 1459.96 68.3763 1456.42 Q70.205 1452.86 70.205 1445.75 Q70.205 1438.62 68.3763 1435.08 Q66.5707 1431.51 62.9365 1431.51 M62.9365 1427.81 Q68.7467 1427.81 71.8022 1432.42 Q74.8809 1437 74.8809 1445.75 Q74.8809 1454.48 71.8022 1459.08 Q68.7467 1463.67 62.9365 1463.67 Q57.1264 1463.67 54.0477 1459.08 Q50.9921 1454.48 50.9921 1445.75 Q50.9921 1437 54.0477 1432.42 Q57.1264 1427.81 62.9365 1427.81 Z\" fill=\"#000000\" fill-rule=\"evenodd\" fill-opacity=\"1\" /><path clip-path=\"url(#clip160)\" d=\"M83.0984 1457.12 L87.9827 1457.12 L87.9827 1463 L83.0984 1463 L83.0984 1457.12 Z\" fill=\"#000000\" fill-rule=\"evenodd\" fill-opacity=\"1\" /><path clip-path=\"url(#clip160)\" d=\"M108.168 1431.51 Q104.557 1431.51 102.728 1435.08 Q100.922 1438.62 100.922 1445.75 Q100.922 1452.86 102.728 1456.42 Q104.557 1459.96 108.168 1459.96 Q111.802 1459.96 113.608 1456.42 Q115.436 1452.86 115.436 1445.75 Q115.436 1438.62 113.608 1435.08 Q111.802 1431.51 108.168 1431.51 M108.168 1427.81 Q113.978 1427.81 117.033 1432.42 Q120.112 1437 120.112 1445.75 Q120.112 1454.48 117.033 1459.08 Q113.978 1463.67 108.168 1463.67 Q102.358 1463.67 99.2789 1459.08 Q96.2234 1454.48 96.2234 1445.75 Q96.2234 1437 99.2789 1432.42 Q102.358 1427.81 108.168 1427.81 Z\" fill=\"#000000\" fill-rule=\"evenodd\" fill-opacity=\"1\" /><path clip-path=\"url(#clip160)\" d=\"M138.33 1431.51 Q134.719 1431.51 132.89 1435.08 Q131.084 1438.62 131.084 1445.75 Q131.084 1452.86 132.89 1456.42 Q134.719 1459.96 138.33 1459.96 Q141.964 1459.96 143.769 1456.42 Q145.598 1452.86 145.598 1445.75 Q145.598 1438.62 143.769 1435.08 Q141.964 1431.51 138.33 1431.51 M138.33 1427.81 Q144.14 1427.81 147.195 1432.42 Q150.274 1437 150.274 1445.75 Q150.274 1454.48 147.195 1459.08 Q144.14 1463.67 138.33 1463.67 Q132.519 1463.67 129.441 1459.08 Q126.385 1454.48 126.385 1445.75 Q126.385 1437 129.441 1432.42 Q132.519 1427.81 138.33 1427.81 Z\" fill=\"#000000\" fill-rule=\"evenodd\" fill-opacity=\"1\" /><path clip-path=\"url(#clip160)\" d=\"M63.9319 1092.08 Q60.3208 1092.08 58.4921 1095.64 Q56.6865 1099.19 56.6865 1106.32 Q56.6865 1113.42 58.4921 1116.99 Q60.3208 1120.53 63.9319 1120.53 Q67.5661 1120.53 69.3717 1116.99 Q71.2004 1113.42 71.2004 1106.32 Q71.2004 1099.19 69.3717 1095.64 Q67.5661 1092.08 63.9319 1092.08 M63.9319 1088.38 Q69.742 1088.38 72.7976 1092.98 Q75.8763 1097.57 75.8763 1106.32 Q75.8763 1115.04 72.7976 1119.65 Q69.742 1124.23 63.9319 1124.23 Q58.1217 1124.23 55.043 1119.65 Q51.9875 1115.04 51.9875 1106.32 Q51.9875 1097.57 55.043 1092.98 Q58.1217 1088.38 63.9319 1088.38 Z\" fill=\"#000000\" fill-rule=\"evenodd\" fill-opacity=\"1\" /><path clip-path=\"url(#clip160)\" d=\"M84.0938 1117.68 L88.978 1117.68 L88.978 1123.56 L84.0938 1123.56 L84.0938 1117.68 Z\" fill=\"#000000\" fill-rule=\"evenodd\" fill-opacity=\"1\" /><path clip-path=\"url(#clip160)\" d=\"M103.191 1119.63 L119.51 1119.63 L119.51 1123.56 L97.566 1123.56 L97.566 1119.63 Q100.228 1116.87 104.811 1112.24 Q109.418 1107.59 110.598 1106.25 Q112.844 1103.72 113.723 1101.99 Q114.626 1100.23 114.626 1098.54 Q114.626 1095.78 112.682 1094.05 Q110.76 1092.31 107.658 1092.31 Q105.459 1092.31 103.006 1093.07 Q100.575 1093.84 97.7974 1095.39 L97.7974 1090.67 Q100.621 1089.53 103.075 1088.95 Q105.529 1088.38 107.566 1088.38 Q112.936 1088.38 116.131 1091.06 Q119.325 1093.75 119.325 1098.24 Q119.325 1100.37 118.515 1102.29 Q117.728 1104.19 115.621 1106.78 Q115.043 1107.45 111.941 1110.67 Q108.839 1113.86 103.191 1119.63 Z\" fill=\"#000000\" fill-rule=\"evenodd\" fill-opacity=\"1\" /><path clip-path=\"url(#clip160)\" d=\"M129.371 1089 L147.728 1089 L147.728 1092.94 L133.654 1092.94 L133.654 1101.41 Q134.672 1101.06 135.691 1100.9 Q136.709 1100.71 137.728 1100.71 Q143.515 1100.71 146.894 1103.89 Q150.274 1107.06 150.274 1112.47 Q150.274 1118.05 146.802 1121.15 Q143.33 1124.23 137.01 1124.23 Q134.834 1124.23 132.566 1123.86 Q130.32 1123.49 127.913 1122.75 L127.913 1118.05 Q129.996 1119.19 132.219 1119.74 Q134.441 1120.3 136.918 1120.3 Q140.922 1120.3 143.26 1118.19 Q145.598 1116.08 145.598 1112.47 Q145.598 1108.86 143.26 1106.76 Q140.922 1104.65 136.918 1104.65 Q135.043 1104.65 133.168 1105.07 Q131.316 1105.48 129.371 1106.36 L129.371 1089 Z\" fill=\"#000000\" fill-rule=\"evenodd\" fill-opacity=\"1\" /><path clip-path=\"url(#clip160)\" d=\"M62.9365 752.645 Q59.3254 752.645 57.4967 756.209 Q55.6912 759.751 55.6912 766.881 Q55.6912 773.987 57.4967 777.552 Q59.3254 781.094 62.9365 781.094 Q66.5707 781.094 68.3763 777.552 Q70.205 773.987 70.205 766.881 Q70.205 759.751 68.3763 756.209 Q66.5707 752.645 62.9365 752.645 M62.9365 748.941 Q68.7467 748.941 71.8022 753.547 Q74.8809 758.131 74.8809 766.881 Q74.8809 775.608 71.8022 780.214 Q68.7467 784.797 62.9365 784.797 Q57.1264 784.797 54.0477 780.214 Q50.9921 775.608 50.9921 766.881 Q50.9921 758.131 54.0477 753.547 Q57.1264 748.941 62.9365 748.941 Z\" fill=\"#000000\" fill-rule=\"evenodd\" fill-opacity=\"1\" /><path clip-path=\"url(#clip160)\" d=\"M83.0984 778.246 L87.9827 778.246 L87.9827 784.126 L83.0984 784.126 L83.0984 778.246 Z\" fill=\"#000000\" fill-rule=\"evenodd\" fill-opacity=\"1\" /><path clip-path=\"url(#clip160)\" d=\"M98.2141 749.566 L116.57 749.566 L116.57 753.501 L102.496 753.501 L102.496 761.973 Q103.515 761.626 104.534 761.464 Q105.552 761.279 106.571 761.279 Q112.358 761.279 115.737 764.45 Q119.117 767.621 119.117 773.038 Q119.117 778.617 115.645 781.719 Q112.172 784.797 105.853 784.797 Q103.677 784.797 101.409 784.427 Q99.1632 784.057 96.7558 783.316 L96.7558 778.617 Q98.8391 779.751 101.061 780.307 Q103.284 780.862 105.76 780.862 Q109.765 780.862 112.103 778.756 Q114.441 776.649 114.441 773.038 Q114.441 769.427 112.103 767.321 Q109.765 765.214 105.76 765.214 Q103.885 765.214 102.01 765.631 Q100.159 766.047 98.2141 766.927 L98.2141 749.566 Z\" fill=\"#000000\" fill-rule=\"evenodd\" fill-opacity=\"1\" /><path clip-path=\"url(#clip160)\" d=\"M138.33 752.645 Q134.719 752.645 132.89 756.209 Q131.084 759.751 131.084 766.881 Q131.084 773.987 132.89 777.552 Q134.719 781.094 138.33 781.094 Q141.964 781.094 143.769 777.552 Q145.598 773.987 145.598 766.881 Q145.598 759.751 143.769 756.209 Q141.964 752.645 138.33 752.645 M138.33 748.941 Q144.14 748.941 147.195 753.547 Q150.274 758.131 150.274 766.881 Q150.274 775.608 147.195 780.214 Q144.14 784.797 138.33 784.797 Q132.519 784.797 129.441 780.214 Q126.385 775.608 126.385 766.881 Q126.385 758.131 129.441 753.547 Q132.519 748.941 138.33 748.941 Z\" fill=\"#000000\" fill-rule=\"evenodd\" fill-opacity=\"1\" /><path clip-path=\"url(#clip160)\" d=\"M63.9319 413.21 Q60.3208 413.21 58.4921 416.775 Q56.6865 420.316 56.6865 427.446 Q56.6865 434.552 58.4921 438.117 Q60.3208 441.659 63.9319 441.659 Q67.5661 441.659 69.3717 438.117 Q71.2004 434.552 71.2004 427.446 Q71.2004 420.316 69.3717 416.775 Q67.5661 413.21 63.9319 413.21 M63.9319 409.506 Q69.742 409.506 72.7976 414.113 Q75.8763 418.696 75.8763 427.446 Q75.8763 436.173 72.7976 440.779 Q69.742 445.362 63.9319 445.362 Q58.1217 445.362 55.043 440.779 Q51.9875 436.173 51.9875 427.446 Q51.9875 418.696 55.043 414.113 Q58.1217 409.506 63.9319 409.506 Z\" fill=\"#000000\" fill-rule=\"evenodd\" fill-opacity=\"1\" /><path clip-path=\"url(#clip160)\" d=\"M84.0938 438.812 L88.978 438.812 L88.978 444.691 L84.0938 444.691 L84.0938 438.812 Z\" fill=\"#000000\" fill-rule=\"evenodd\" fill-opacity=\"1\" /><path clip-path=\"url(#clip160)\" d=\"M97.9826 410.131 L120.205 410.131 L120.205 412.122 L107.658 444.691 L102.774 444.691 L114.58 414.066 L97.9826 414.066 L97.9826 410.131 Z\" fill=\"#000000\" fill-rule=\"evenodd\" fill-opacity=\"1\" /><path clip-path=\"url(#clip160)\" d=\"M129.371 410.131 L147.728 410.131 L147.728 414.066 L133.654 414.066 L133.654 422.538 Q134.672 422.191 135.691 422.029 Q136.709 421.844 137.728 421.844 Q143.515 421.844 146.894 425.015 Q150.274 428.187 150.274 433.603 Q150.274 439.182 146.802 442.284 Q143.33 445.362 137.01 445.362 Q134.834 445.362 132.566 444.992 Q130.32 444.622 127.913 443.881 L127.913 439.182 Q129.996 440.316 132.219 440.872 Q134.441 441.427 136.918 441.427 Q140.922 441.427 143.26 439.321 Q145.598 437.214 145.598 433.603 Q145.598 429.992 143.26 427.886 Q140.922 425.779 136.918 425.779 Q135.043 425.779 133.168 426.196 Q131.316 426.613 129.371 427.492 L129.371 410.131 Z\" fill=\"#000000\" fill-rule=\"evenodd\" fill-opacity=\"1\" /><path clip-path=\"url(#clip160)\" d=\"M53.7467 101.321 L61.3856 101.321 L61.3856 74.9555 L53.0754 76.6222 L53.0754 72.3629 L61.3393 70.6963 L66.0152 70.6963 L66.0152 101.321 L73.654 101.321 L73.654 105.256 L53.7467 105.256 L53.7467 101.321 Z\" fill=\"#000000\" fill-rule=\"evenodd\" fill-opacity=\"1\" /><path clip-path=\"url(#clip160)\" d=\"M83.0984 99.3767 L87.9827 99.3767 L87.9827 105.256 L83.0984 105.256 L83.0984 99.3767 Z\" fill=\"#000000\" fill-rule=\"evenodd\" fill-opacity=\"1\" /><path clip-path=\"url(#clip160)\" d=\"M108.168 73.775 Q104.557 73.775 102.728 77.3398 Q100.922 80.8814 100.922 88.011 Q100.922 95.1174 102.728 98.6822 Q104.557 102.224 108.168 102.224 Q111.802 102.224 113.608 98.6822 Q115.436 95.1174 115.436 88.011 Q115.436 80.8814 113.608 77.3398 Q111.802 73.775 108.168 73.775 M108.168 70.0713 Q113.978 70.0713 117.033 74.6777 Q120.112 79.261 120.112 88.011 Q120.112 96.7378 117.033 101.344 Q113.978 105.928 108.168 105.928 Q102.358 105.928 99.2789 101.344 Q96.2234 96.7378 96.2234 88.011 Q96.2234 79.261 99.2789 74.6777 Q102.358 70.0713 108.168 70.0713 Z\" fill=\"#000000\" fill-rule=\"evenodd\" fill-opacity=\"1\" /><path clip-path=\"url(#clip160)\" d=\"M138.33 73.775 Q134.719 73.775 132.89 77.3398 Q131.084 80.8814 131.084 88.011 Q131.084 95.1174 132.89 98.6822 Q134.719 102.224 138.33 102.224 Q141.964 102.224 143.769 98.6822 Q145.598 95.1174 145.598 88.011 Q145.598 80.8814 143.769 77.3398 Q141.964 73.775 138.33 73.775 M138.33 70.0713 Q144.14 70.0713 147.195 74.6777 Q150.274 79.261 150.274 88.011 Q150.274 96.7378 147.195 101.344 Q144.14 105.928 138.33 105.928 Q132.519 105.928 129.441 101.344 Q126.385 96.7378 126.385 88.011 Q126.385 79.261 129.441 74.6777 Q132.519 70.0713 138.33 70.0713 Z\" fill=\"#000000\" fill-rule=\"evenodd\" fill-opacity=\"1\" /><polyline clip-path=\"url(#clip162)\" style=\"stroke:#009af9; stroke-linecap:butt; stroke-linejoin:round; stroke-width:4; stroke-opacity:1; fill:none\" points=\"\n",
       "  247.59,87.9763 268.028,87.9763 288.467,87.9763 308.905,87.9763 329.344,87.9763 349.782,87.9763 370.221,87.9763 390.659,87.9763 411.098,87.9763 431.536,87.9763 \n",
       "  451.975,1445.72 472.413,1445.72 492.852,1445.72 513.29,1445.72 533.729,1445.72 554.167,1445.72 574.606,1445.72 595.044,1445.72 615.483,1445.72 635.921,1445.72 \n",
       "  656.36,1445.72 676.798,1445.72 697.237,1445.72 717.675,1445.72 738.114,1445.72 758.552,1445.72 778.991,1445.72 799.429,1445.72 819.868,1445.72 840.306,1445.72 \n",
       "  860.745,1445.72 881.183,1445.72 901.622,1445.72 922.06,1445.72 942.499,1445.72 962.937,1445.72 983.376,1445.72 1003.81,1445.72 1024.25,1445.72 1044.69,1445.72 \n",
       "  1065.13,1445.72 1085.57,1445.72 1106.01,1445.72 1126.45,1445.72 1146.88,1445.72 1167.32,1445.72 1187.76,1445.72 1208.2,1445.72 1228.64,1445.72 1249.08,1445.72 \n",
       "  1269.51,1445.72 1289.95,1445.72 1310.39,1445.72 1330.83,1445.72 1351.27,1445.72 1371.71,1445.72 1392.15,1445.72 1412.58,1445.72 1433.02,1445.72 1453.46,1445.72 \n",
       "  1473.9,1445.72 1494.34,1445.72 1514.78,1445.72 1535.22,1445.72 1555.65,1445.72 1576.09,1445.72 1596.53,1445.72 1616.97,1445.72 1637.41,1445.72 1657.85,1445.72 \n",
       "  1678.29,1445.72 1698.72,1445.72 1719.16,1445.72 1739.6,1445.72 1760.04,1445.72 1780.48,1445.72 1800.92,1445.72 1821.35,1445.72 1841.79,1445.72 1862.23,1445.72 \n",
       "  1882.67,1445.72 1903.11,1445.72 1923.55,1445.72 1943.99,1445.72 1964.42,1445.72 1984.86,1445.72 2005.3,1445.72 2025.74,1445.72 2046.18,1445.72 2066.62,1445.72 \n",
       "  2087.06,1445.72 2107.49,1445.72 2127.93,1445.72 2148.37,1445.72 2168.81,1445.72 2189.25,1445.72 2209.69,1445.72 2230.12,1445.72 2250.56,1445.72 2271,1445.72 \n",
       "  2291.44,1445.72 \n",
       "  \"/>\n",
       "<path clip-path=\"url(#clip160)\" d=\"\n",
       "M1987.39 198.898 L2280.54 198.898 L2280.54 95.2176 L1987.39 95.2176  Z\n",
       "  \" fill=\"#ffffff\" fill-rule=\"evenodd\" fill-opacity=\"1\"/>\n",
       "<polyline clip-path=\"url(#clip160)\" style=\"stroke:#000000; stroke-linecap:butt; stroke-linejoin:round; stroke-width:4; stroke-opacity:1; fill:none\" points=\"\n",
       "  1987.39,198.898 2280.54,198.898 2280.54,95.2176 1987.39,95.2176 1987.39,198.898 \n",
       "  \"/>\n",
       "<polyline clip-path=\"url(#clip160)\" style=\"stroke:#009af9; stroke-linecap:butt; stroke-linejoin:round; stroke-width:4; stroke-opacity:1; fill:none\" points=\"\n",
       "  2011.46,147.058 2155.89,147.058 \n",
       "  \"/>\n",
       "<path clip-path=\"url(#clip160)\" d=\"M2193.81 166.745 Q2192 171.375 2190.29 172.787 Q2188.58 174.199 2185.71 174.199 L2182.3 174.199 L2182.3 170.634 L2184.8 170.634 Q2186.56 170.634 2187.53 169.8 Q2188.51 168.967 2189.69 165.865 L2190.45 163.921 L2179.97 138.412 L2184.48 138.412 L2192.58 158.689 L2200.68 138.412 L2205.2 138.412 L2193.81 166.745 Z\" fill=\"#000000\" fill-rule=\"evenodd\" fill-opacity=\"1\" /><path clip-path=\"url(#clip160)\" d=\"M2212.49 160.402 L2220.13 160.402 L2220.13 134.037 L2211.82 135.703 L2211.82 131.444 L2220.08 129.778 L2224.76 129.778 L2224.76 160.402 L2232.4 160.402 L2232.4 164.338 L2212.49 164.338 L2212.49 160.402 Z\" fill=\"#000000\" fill-rule=\"evenodd\" fill-opacity=\"1\" /></svg>\n"
      ]
     },
     "execution_count": 82,
     "metadata": {},
     "output_type": "execute_result"
    }
   ],
   "source": [
    "Tz = [f[end] for f in F]\n",
    "plot(params.Thist, Tz)"
   ]
  },
  {
   "cell_type": "code",
   "execution_count": 18,
   "id": "8e0c36c8",
   "metadata": {},
   "outputs": [
    {
     "name": "stderr",
     "output_type": "stream",
     "text": [
      "┌ Info: MeshCat server started. You can open the visualizer by visiting the following URL in your browser:\n",
      "│ http://127.0.0.1:8701\n",
      "└ @ MeshCat /home/brian/.julia/packages/MeshCat/Ax8pH/src/visualizer.jl:73\n"
     ]
    },
    {
     "data": {
      "text/plain": [
       "MeshCat Visualizer with path /meshcat/body at http://127.0.0.1:8701"
      ]
     },
     "execution_count": 18,
     "metadata": {},
     "output_type": "execute_result"
    }
   ],
   "source": [
    "using MeshCat, GeometryBasics, CoordinateTransformations, Rotations, Colors\n",
    "vis = Visualizer()\n",
    "dim = Vec(0.5, 0.7, 0.3)\n",
    "geom  = Rect3D(-dim/2, dim)\n",
    "setobject!(vis[\"body\"], geom, MeshPhongMaterial(color=colorant\"green\"))"
   ]
  },
  {
   "cell_type": "code",
   "execution_count": 59,
   "id": "6aa1f8ca",
   "metadata": {},
   "outputs": [
    {
     "data": {
      "text/html": [
       "    <div style=\"height: 500px; width: 100%; overflow-x: auto; overflow-y: hidden; resize: both\">\n",
       "    <iframe src=\"http://127.0.0.1:8701\" style=\"width: 100%; height: 100%; border: none\"></iframe>\n",
       "    </div>\n"
      ],
      "text/plain": [
       "MeshCat.DisplayedVisualizer(MeshCat.CoreVisualizer(MeshCat.SceneTrees.SceneNode(nothing, nothing, Dict{String, Vector{UInt8}}(), UInt8[0x83, 0xa7, 0x6f, 0x70, 0x74, 0x69, 0x6f, 0x6e, 0x73, 0x82  …  0x5f, 0x61, 0x6e, 0x69, 0x6d, 0x61, 0x74, 0x69, 0x6f, 0x6e], Dict{String, MeshCat.SceneTrees.SceneNode}(\"meshcat\" => MeshCat.SceneTrees.SceneNode(nothing, nothing, Dict{String, Vector{UInt8}}(), nothing, Dict{String, MeshCat.SceneTrees.SceneNode}(\"body\" => MeshCat.SceneTrees.SceneNode(UInt8[0x83, 0xa6, 0x6f, 0x62, 0x6a, 0x65, 0x63, 0x74, 0x84, 0xaa  …  0x73, 0x68, 0x63, 0x61, 0x74, 0x2f, 0x62, 0x6f, 0x64, 0x79], nothing, Dict{String, Vector{UInt8}}(), nothing, Dict{String, MeshCat.SceneTrees.SceneNode}()))))), Set(Any[WebSocket(server, \u001b[32mCONNECTED\u001b[39m), WebSocket(server, \u001b[32mCONNECTED\u001b[39m)]), ip\"127.0.0.1\", 8701))"
      ]
     },
     "execution_count": 59,
     "metadata": {},
     "output_type": "execute_result"
    }
   ],
   "source": [
    "render(vis)"
   ]
  },
  {
   "cell_type": "code",
   "execution_count": 87,
   "id": "c274ae17",
   "metadata": {},
   "outputs": [],
   "source": [
    "anim = MeshCat.Animation(floor(Int,1/params.h))\n",
    "for k = 1:params.N\n",
    "    atframe(anim, k) do\n",
    "        r = X[k][1:3]\n",
    "        q = X[k][4:7]\n",
    "        settransform!(vis[\"body\"], compose(Translation(r), LinearMap(UnitQuaternion(q))))\n",
    "    end\n",
    "end\n",
    "setanimation!(vis, anim)"
   ]
  },
  {
   "cell_type": "code",
   "execution_count": null,
   "id": "791470fa",
   "metadata": {},
   "outputs": [],
   "source": []
  }
 ],
 "metadata": {
  "kernelspec": {
   "display_name": "Julia 1.6.2",
   "language": "julia",
   "name": "julia-1.6"
  },
  "language_info": {
   "file_extension": ".jl",
   "mimetype": "application/julia",
   "name": "julia",
   "version": "1.6.2"
  }
 },
 "nbformat": 4,
 "nbformat_minor": 5
}
